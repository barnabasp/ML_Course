{
  "nbformat": 4,
  "nbformat_minor": 5,
  "metadata": {
    "kernelspec": {
      "display_name": "Python 3 (ipykernel)",
      "language": "python",
      "name": "python3"
    },
    "language_info": {
      "codemirror_mode": {
        "name": "ipython",
        "version": 3
      },
      "file_extension": ".py",
      "mimetype": "text/x-python",
      "name": "python",
      "nbconvert_exporter": "python",
      "pygments_lexer": "ipython3",
      "version": "3.9.7"
    },
    "colab": {
      "name": "bporfy_lab_10_cnn.ipynb",
      "provenance": [],
      "collapsed_sections": [],
      "include_colab_link": true
    }
  },
  "cells": [
    {
      "cell_type": "markdown",
      "metadata": {
        "id": "view-in-github",
        "colab_type": "text"
      },
      "source": [
        "<a href=\"https://colab.research.google.com/github/barnabasp/ML_Course/blob/main/bporfy_lab_10_cnn.ipynb\" target=\"_parent\"><img src=\"https://colab.research.google.com/assets/colab-badge.svg\" alt=\"Open In Colab\"/></a>"
      ]
    },
    {
      "cell_type": "markdown",
      "metadata": {
        "tags": [],
        "id": "8b7e51d8-f81e-4c5f-8a48-7159ead65e99"
      },
      "source": [
        "# 10. Convolutional neural networks\n",
        "\n",
        "In this assignment you'll use a photo-Z dataset acquired from the observations of the SDSS telescope located in New Mexico. The goal is to predict redshifts from multiband images of galaxies. As a warmup you'll work with the SVHN dataset.\n",
        "\n",
        "**<font color='red'>[WARN]:</font> For this assignment you'll need significantly more computational power compared to previous assignments! If you don't have a CUDA-capable GPU with >4Gb VRAM and >8Gb RAM, then you're advised to work on Google Colab!**"
      ],
      "id": "8b7e51d8-f81e-4c5f-8a48-7159ead65e99"
    },
    {
      "cell_type": "code",
      "metadata": {
        "id": "e-yT-15voDBB"
      },
      "source": [
        "#!unzip /content/drive/MyDrive/Colab\\ Notebooks/10/archive.zip"
      ],
      "id": "e-yT-15voDBB",
      "execution_count": 11,
      "outputs": []
    },
    {
      "cell_type": "code",
      "metadata": {
        "colab": {
          "base_uri": "https://localhost:8080/"
        },
        "id": "pnF_Wc8pol2c",
        "outputId": "291e1e68-b732-4b48-b412-32dbebfa29d3"
      },
      "source": [
        "from google.colab import drive\n",
        "drive.mount('/content/drive')"
      ],
      "id": "pnF_Wc8pol2c",
      "execution_count": 8,
      "outputs": [
        {
          "output_type": "stream",
          "name": "stdout",
          "text": [
            "Mounted at /content/drive\n"
          ]
        }
      ]
    },
    {
      "cell_type": "markdown",
      "metadata": {
        "id": "Iw_T-7w7pYEg"
      },
      "source": [
        "Initial setup above"
      ],
      "id": "Iw_T-7w7pYEg"
    },
    {
      "cell_type": "code",
      "metadata": {
        "id": "mmLwD54EoDIf"
      },
      "source": [
        "import numpy as np\n",
        "import matplotlib.pyplot as plt\n",
        "import pandas as pd"
      ],
      "id": "mmLwD54EoDIf",
      "execution_count": 12,
      "outputs": []
    },
    {
      "cell_type": "code",
      "metadata": {
        "id": "SJfWNvM3qssC"
      },
      "source": [
        "from extra_keras_datasets import svhn\n",
        "import tensorflow as tf\n",
        "import keras"
      ],
      "id": "SJfWNvM3qssC",
      "execution_count": 20,
      "outputs": []
    },
    {
      "cell_type": "code",
      "metadata": {
        "colab": {
          "base_uri": "https://localhost:8080/"
        },
        "id": "VHCS1ZcToDUi",
        "outputId": "9cfc0de2-323a-4c56-db44-58d6e8f28395"
      },
      "source": [
        "!pip install extra-keras-datasets"
      ],
      "id": "VHCS1ZcToDUi",
      "execution_count": 14,
      "outputs": [
        {
          "output_type": "stream",
          "name": "stdout",
          "text": [
            "Collecting extra-keras-datasets\n",
            "  Downloading extra_keras_datasets-1.2.0-py3-none-any.whl (12 kB)\n",
            "Requirement already satisfied: scikit-learn in /usr/local/lib/python3.7/dist-packages (from extra-keras-datasets) (1.0.1)\n",
            "Requirement already satisfied: numpy in /usr/local/lib/python3.7/dist-packages (from extra-keras-datasets) (1.19.5)\n",
            "Requirement already satisfied: scipy in /usr/local/lib/python3.7/dist-packages (from extra-keras-datasets) (1.4.1)\n",
            "Requirement already satisfied: pandas in /usr/local/lib/python3.7/dist-packages (from extra-keras-datasets) (1.1.5)\n",
            "Requirement already satisfied: pytz>=2017.2 in /usr/local/lib/python3.7/dist-packages (from pandas->extra-keras-datasets) (2018.9)\n",
            "Requirement already satisfied: python-dateutil>=2.7.3 in /usr/local/lib/python3.7/dist-packages (from pandas->extra-keras-datasets) (2.8.2)\n",
            "Requirement already satisfied: six>=1.5 in /usr/local/lib/python3.7/dist-packages (from python-dateutil>=2.7.3->pandas->extra-keras-datasets) (1.15.0)\n",
            "Requirement already satisfied: threadpoolctl>=2.0.0 in /usr/local/lib/python3.7/dist-packages (from scikit-learn->extra-keras-datasets) (3.0.0)\n",
            "Requirement already satisfied: joblib>=0.11 in /usr/local/lib/python3.7/dist-packages (from scikit-learn->extra-keras-datasets) (1.1.0)\n",
            "Installing collected packages: extra-keras-datasets\n",
            "Successfully installed extra-keras-datasets-1.2.0\n"
          ]
        }
      ]
    },
    {
      "cell_type": "markdown",
      "metadata": {
        "tags": [],
        "id": "7fec15c7-def2-45b9-8456-881564d76398"
      },
      "source": [
        "### 1. Load the Street View House Numbers (SVHN) dataset\n",
        "\n",
        "-   Download the SVHN database and load the train and test datasets!\n",
        "    There are multiple ways to do this. The easiest one is probably to install\n",
        "    and use the `extra-keras-datasets` Python package. You need to use the\n",
        "    standard/normal SVHN dataset only and NOT the one titled as `extra`!\n",
        "    (Of course, if you have enough RAM and VRAM, you can work with that one\n",
        "    too, if you want...)\n",
        "-   Preprocess the downloaded data if needed to be able to use it for training\n",
        "    and testing!\n",
        "-   Normalize the pixel values into the interval of [0,1]!\n",
        "-   How many and what classes do we have in the dataset? How many train and test\n",
        "    examples do we have?\n",
        "-   What are the dimensions of the images?\n",
        "-   Show some images randomly from the dataset!\n",
        "-   Make one-hot encoding for the labels!"
      ],
      "id": "7fec15c7-def2-45b9-8456-881564d76398"
    },
    {
      "cell_type": "markdown",
      "metadata": {
        "id": "YfzDTPoI4JUs"
      },
      "source": [
        "Download and check the data"
      ],
      "id": "YfzDTPoI4JUs"
    },
    {
      "cell_type": "code",
      "metadata": {
        "colab": {
          "base_uri": "https://localhost:8080/"
        },
        "id": "hU65pMRMp6LL",
        "outputId": "dd98f45c-5cd0-4902-a0ed-090e797a7a0a"
      },
      "source": [
        "(X_train, y_train), (X_test, y_test) = svhn.load_data(type='normal')"
      ],
      "id": "hU65pMRMp6LL",
      "execution_count": 23,
      "outputs": [
        {
          "output_type": "stream",
          "name": "stderr",
          "text": [
            "INFO:root:Loading dataset = svhn\n",
            "WARNING:root:Please cite the following paper when using or referencing this Extra Keras Dataset:\n",
            "WARNING:root:Yuval Netzer, Tao Wang, Adam Coates, Alessandro Bissacco, Bo Wu, Andrew Y. Ng Reading Digits in Natural Images with Unsupervised Feature Learning NIPS Workshop on Deep Learning and Unsupervised Feature Learning 2011. Retrieved from http://ufldl.stanford.edu/housenumbers/nips2011_housenumbers.pdf\n",
            "WARNING:root:Noncommercial use is allowed only: see the SVHN website for more information.\n"
          ]
        }
      ]
    },
    {
      "cell_type": "code",
      "metadata": {
        "colab": {
          "base_uri": "https://localhost:8080/"
        },
        "id": "sbX6kC9Zp6Pl",
        "outputId": "34321bd9-4368-4edd-8a3d-7dede89ab185"
      },
      "source": [
        "X_train.shape, y_train.shape, X_test.shape, y_test.shape"
      ],
      "id": "sbX6kC9Zp6Pl",
      "execution_count": 25,
      "outputs": [
        {
          "output_type": "execute_result",
          "data": {
            "text/plain": [
              "((73257, 32, 32, 3), (73257,), (26032, 32, 32, 3), (26032,))"
            ]
          },
          "metadata": {},
          "execution_count": 25
        }
      ]
    },
    {
      "cell_type": "code",
      "metadata": {
        "colab": {
          "base_uri": "https://localhost:8080/"
        },
        "id": "jifOdnFl1mtg",
        "outputId": "69c4c31b-dae2-4b0b-e159-541a2230185f"
      },
      "source": [
        "np.isnan(X_train).sum(),np.isnan(y_train).sum(),np.isnan(X_test).sum(),np.isnan(y_test).sum()"
      ],
      "id": "jifOdnFl1mtg",
      "execution_count": 54,
      "outputs": [
        {
          "output_type": "execute_result",
          "data": {
            "text/plain": [
              "(0, 0, 0, 0)"
            ]
          },
          "metadata": {},
          "execution_count": 54
        }
      ]
    },
    {
      "cell_type": "markdown",
      "metadata": {
        "id": "vZqYp3uN4QB4"
      },
      "source": [
        "Need to make the pixels between 0 and 1."
      ],
      "id": "vZqYp3uN4QB4"
    },
    {
      "cell_type": "code",
      "metadata": {
        "colab": {
          "base_uri": "https://localhost:8080/"
        },
        "id": "xS_lphk3uTOH",
        "outputId": "4b909631-53ab-439d-9dcc-a6bd64240e44"
      },
      "source": [
        "X_train.min(), X_train.max()"
      ],
      "id": "xS_lphk3uTOH",
      "execution_count": 35,
      "outputs": [
        {
          "output_type": "execute_result",
          "data": {
            "text/plain": [
              "(0, 255)"
            ]
          },
          "metadata": {},
          "execution_count": 35
        }
      ]
    },
    {
      "cell_type": "code",
      "metadata": {
        "id": "QFY_3Kk6tohG"
      },
      "source": [
        "x_train = X_train.reshape(73257, 32*32, 3)/255\n",
        "x_test = X_test.reshape(26032, 32*32,3)/255"
      ],
      "id": "QFY_3Kk6tohG",
      "execution_count": 44,
      "outputs": []
    },
    {
      "cell_type": "markdown",
      "metadata": {
        "id": "TzNCCTfl378r"
      },
      "source": [
        "Shapes of the sets in order: input train, output train, input test, output test"
      ],
      "id": "TzNCCTfl378r"
    },
    {
      "cell_type": "code",
      "metadata": {
        "colab": {
          "base_uri": "https://localhost:8080/"
        },
        "id": "4Sho0hO7tooq",
        "outputId": "3f25b77e-93fb-45ef-ca46-abc64529844e"
      },
      "source": [
        "x_train.shape, y_train.shape, x_test.shape, y_test.shape"
      ],
      "id": "4Sho0hO7tooq",
      "execution_count": 47,
      "outputs": [
        {
          "output_type": "execute_result",
          "data": {
            "text/plain": [
              "((73257, 1024, 3), (73257,), (26032, 1024, 3), (26032,))"
            ]
          },
          "metadata": {},
          "execution_count": 47
        }
      ]
    },
    {
      "cell_type": "code",
      "metadata": {
        "colab": {
          "base_uri": "https://localhost:8080/",
          "height": 283
        },
        "id": "e_7atDAAtosh",
        "outputId": "f977eeaf-4a87-411d-865e-520aff3cf6d1"
      },
      "source": [
        "plt.imshow(x_train[19].reshape(32,32,3))"
      ],
      "id": "e_7atDAAtosh",
      "execution_count": 48,
      "outputs": [
        {
          "output_type": "execute_result",
          "data": {
            "text/plain": [
              "<matplotlib.image.AxesImage at 0x7f8aff7ad090>"
            ]
          },
          "metadata": {},
          "execution_count": 48
        },
        {
          "output_type": "display_data",
          "data": {
            "image/png": "[encoded data removed]",
            "text/plain": [
              "<Figure size 432x288 with 1 Axes>"
            ]
          },
          "metadata": {
            "needs_background": "light"
          }
        }
      ]
    },
    {
      "cell_type": "code",
      "metadata": {
        "colab": {
          "base_uri": "https://localhost:8080/"
        },
        "id": "D3Obmw8zwFPk",
        "outputId": "b803638b-ad52-4e4d-ef74-3eadb103e210"
      },
      "source": [
        "print(\"Unique classes: \", len(np.unique(y_test)))"
      ],
      "id": "D3Obmw8zwFPk",
      "execution_count": 56,
      "outputs": [
        {
          "output_type": "stream",
          "name": "stdout",
          "text": [
            "Unique classes:  10\n"
          ]
        }
      ]
    },
    {
      "cell_type": "markdown",
      "metadata": {
        "id": "N19PD_Tt6vGo"
      },
      "source": [
        "One hot encoding, seems OK!"
      ],
      "id": "N19PD_Tt6vGo"
    },
    {
      "cell_type": "code",
      "metadata": {
        "colab": {
          "base_uri": "https://localhost:8080/"
        },
        "id": "kbMOUkKM1lC5",
        "outputId": "69c8da09-802b-4dd2-b22e-29c0ddcf9138"
      },
      "source": [
        "y_train_oh = tf.keras.utils.to_categorical(y_train)\n",
        "y_test_oh = tf.keras.utils.to_categorical(y_test)\n",
        "print(y_train_oh[:5], y_train[:5])"
      ],
      "id": "kbMOUkKM1lC5",
      "execution_count": 59,
      "outputs": [
        {
          "output_type": "stream",
          "name": "stdout",
          "text": [
            "[[0. 1. 0. 0. 0. 0. 0. 0. 0. 0. 0.]\n",
            " [0. 0. 0. 0. 0. 0. 0. 0. 0. 1. 0.]\n",
            " [0. 0. 1. 0. 0. 0. 0. 0. 0. 0. 0.]\n",
            " [0. 0. 0. 1. 0. 0. 0. 0. 0. 0. 0.]\n",
            " [0. 0. 1. 0. 0. 0. 0. 0. 0. 0. 0.]] [1 9 2 3 2]\n"
          ]
        }
      ]
    },
    {
      "cell_type": "markdown",
      "metadata": {
        "id": "d72057e3-894b-44e1-bef8-5a7ef8b811e2"
      },
      "source": [
        "### 2. Create a convolutional neural network for the SVHN dataset\n",
        "\n",
        "-   Train the following network on the training set and generate\n",
        "    prediction for the test images:\n",
        "    ```\n",
        "          > conv2D, 16 kernels, kernel size = (3,3), valid padding, relu actvation\n",
        "          > conv2D, 16 kernels, kernel size = (3,3), valid padding, relu actvation\n",
        "          > maxpooling kernel size = (2,2)\n",
        "          > conv2D, 32 kernels, kernel size = (3,3), valid padding, relu actvation\n",
        "          > conv2D, 32 kernels, kernel size = (3,3), valid padding, relu actvation\n",
        "          > maxpooling pool size = (2,2) strides = (2,2)\n",
        "          > flatten\n",
        "          > dense, 10 neurons, softmax activation\n",
        "    ```\n",
        "    -   Use Adam optimizer with default parameters\n",
        "    -   Use categorical crossentropy as loss function\n",
        "    -   Compile the model\n",
        "    -   Print out a summary of the model\n",
        "    -   Train the CNN on the training data for 25 epochs with batch size\n",
        "        of 64\n",
        "    -   Use the test data as validation data\n",
        "\n",
        "-   Calculate the categorical cross-entropy loss and the accuracy!\n",
        "    **<font color='green'>[HINT]:</font>** you should get at least $\\approx$ 80-90%\n",
        "    accuracy.\n",
        "-   Plot the training and the validation loss and accuracy on the same plot!\n",
        "    Do we experience overfitting?\n",
        "-   Show the confusion matrix of the predictions!"
      ],
      "id": "d72057e3-894b-44e1-bef8-5a7ef8b811e2"
    },
    {
      "cell_type": "markdown",
      "metadata": {
        "tags": [],
        "id": "bd6b8f6a-83a7-4fba-bfae-7fe501d934a9"
      },
      "source": [
        "### 3. Load the Sload Digital Sky Survey (SDSS) Dataset\n",
        "\n",
        "You can download the dataset from Kaggle via\n",
        "[this link](https://www.kaggle.com/masterdesky/multiband-photoz-sdss-dr16).\n",
        "\n",
        "-   Download the images from Kaggle (~10'000 images total) \n",
        "-   Preprocess the images similarly to the SVHN dataset if needed! (Normalize\n",
        "    pixel values to [0,1], etc.)\n",
        "-   What are the dimensions of the images?\n",
        "-   Show 15 images randomly from the dataset!\n",
        "-   Create a train-test-validation split using `train_test_split` from `sklearn`\n",
        "    where the test size is $0.33$ and the validation size is $0.2$\n",
        "    -   Set a random seed\n",
        "    -   Print the number of images in each of these sets after you've created\n",
        "        them"
      ],
      "id": "bd6b8f6a-83a7-4fba-bfae-7fe501d934a9"
    },
    {
      "cell_type": "markdown",
      "metadata": {
        "tags": [],
        "id": "d3aa9ad0-06e9-4ce3-81d3-29b35e1cd6ff"
      },
      "source": [
        "### 4. Create a convolutional neural network for the SDSS dataset\n",
        "\n",
        "-   Train the following network on the training set and generate\n",
        "    prediction for the test images:\n",
        "    ```\n",
        "          > conv2D, 32 kernels, kernel size = (3,3), same padding\n",
        "          > batch normalization\n",
        "          > relu actvation\n",
        "          > conv2D, 32 kernels, kernel size = (3,3), same padding\n",
        "          > batch normalization\n",
        "          > relu actvation\n",
        "          > maxpooling pool size = (2,2), strides = (2,2)\n",
        "          \n",
        "          > conv2D, 64 kernels, kernel size = (3,3), same padding\n",
        "          > batch normalization\n",
        "          > relu actvation\n",
        "          > conv2D, 64 kernels, kernel size = (1,1), same padding\n",
        "          > batch normalization\n",
        "          > relu actvation\n",
        "          > conv2D, 64 kernels, kernel size = (3,3), same padding\n",
        "          > batch normalization\n",
        "          > relu actvation\n",
        "          > maxpooling pool size = (2,2), strides = (2,2)\n",
        "          \n",
        "          > global pooling\n",
        "          > dense, 1 neuron, no activation\n",
        "    ```\n",
        "\n",
        "    -   Use Adam optimizer with default parameters\n",
        "    -   Use mean squared error as loss function\n",
        "    -   Compile the model\n",
        "    -   Print out a summary of the model\n",
        "    -   Use the created validation set as validation during the training\n",
        "    -   Train the CNN on the training data for 25 epochs with batch size\n",
        "        of 64\n",
        "\n",
        "-   Calculate and print out the final accuracy using the R2 score!"
      ],
      "id": "d3aa9ad0-06e9-4ce3-81d3-29b35e1cd6ff"
    },
    {
      "cell_type": "markdown",
      "metadata": {
        "id": "bc00f33e-fcb8-45e8-a27f-3378cb40523e"
      },
      "source": [
        "### 5. Evaluate performance\n",
        "\n",
        "-   Plot the training and the validation loss on the same plot!\n",
        "-   Show the predicted values vs the actual labels on a plot!\n",
        "-   Where does the model make mistakes? Try to plot the images corresponding to\n",
        "    some outlier values!"
      ],
      "id": "bc00f33e-fcb8-45e8-a27f-3378cb40523e"
    },
    {
      "cell_type": "markdown",
      "metadata": {
        "id": "5904d4c7-00c4-404f-a683-cee4dd6cccdb"
      },
      "source": [
        "### 6. Train an other CNN\n",
        "\n",
        "-   The previous architecture can be further improved.\n",
        "-   Come up with an architecture that can achieve more than 80-85% accuracy on \n",
        "    the test set if the accuracy metric is the R2 score!\n",
        "    -   You can use any tool for this task.\n",
        "    -   Remember that there are different losses and optimizers, early stopping,\n",
        "        regularization, etc. that can be useful for you. You can find more about \n",
        "        these eg. in the\n",
        "        [tensorflow/keras documentation](https://www.tensorflow.org/api_docs/python/tf/all_symbols).\n",
        "    -   Don't forget that you can add more layers to the model and train for\n",
        "        more epochs too... :)\n",
        "-   Print out the summary of this model!\n",
        "-   Plot the loss curves for this model too!"
      ],
      "id": "5904d4c7-00c4-404f-a683-cee4dd6cccdb"
    }
  ]
}