{
  "nbformat": 4,
  "nbformat_minor": 5,
  "metadata": {
    "kernelspec": {
      "display_name": "Python 3 (ipykernel)",
      "language": "python",
      "name": "python3"
    },
    "language_info": {
      "codemirror_mode": {
        "name": "ipython",
        "version": 3
      },
      "file_extension": ".py",
      "mimetype": "text/x-python",
      "name": "python",
      "nbconvert_exporter": "python",
      "pygments_lexer": "ipython3",
      "version": "3.9.7"
    },
    "colab": {
      "name": "bporfy_lab_10_cnn.ipynb",
      "provenance": [],
      "collapsed_sections": [],
      "include_colab_link": true
    },
    "accelerator": "GPU"
  },
  "cells": [
    {
      "cell_type": "markdown",
      "metadata": {
        "id": "view-in-github",
        "colab_type": "text"
      },
      "source": [
        "<a href=\"https://colab.research.google.com/github/barnabasp/ML_Course/blob/main/bporfy_lab_10_cnn.ipynb\" target=\"_parent\"><img src=\"https://colab.research.google.com/assets/colab-badge.svg\" alt=\"Open In Colab\"/></a>"
      ]
    },
    {
      "cell_type": "markdown",
      "metadata": {
        "tags": [],
        "id": "8b7e51d8-f81e-4c5f-8a48-7159ead65e99"
      },
      "source": [
        "# 10. Convolutional neural networks\n",
        "\n",
        "In this assignment you'll use a photo-Z dataset acquired from the observations of the SDSS telescope located in New Mexico. The goal is to predict redshifts from multiband images of galaxies. As a warmup you'll work with the SVHN dataset.\n",
        "\n",
        "**<font color='red'>[WARN]:</font> For this assignment you'll need significantly more computational power compared to previous assignments! If you don't have a CUDA-capable GPU with >4Gb VRAM and >8Gb RAM, then you're advised to work on Google Colab!**"
      ],
      "id": "8b7e51d8-f81e-4c5f-8a48-7159ead65e99"
    },
    {
      "cell_type": "code",
      "metadata": {
        "id": "e-yT-15voDBB"
      },
      "source": [
        "#!unzip /content/drive/MyDrive/Colab\\ Notebooks/10/archive.zip"
      ],
      "id": "e-yT-15voDBB",
      "execution_count": 11,
      "outputs": []
    },
    {
      "cell_type": "code",
      "metadata": {
        "colab": {
          "base_uri": "https://localhost:8080/"
        },
        "id": "pnF_Wc8pol2c",
        "outputId": "65331f7a-b041-41d1-d860-bd3cf56533ac"
      },
      "source": [
        "from google.colab import drive\n",
        "drive.mount('/content/drive')"
      ],
      "id": "pnF_Wc8pol2c",
      "execution_count": 1,
      "outputs": [
        {
          "output_type": "stream",
          "name": "stdout",
          "text": [
            "Drive already mounted at /content/drive; to attempt to forcibly remount, call drive.mount(\"/content/drive\", force_remount=True).\n"
          ]
        }
      ]
    },
    {
      "cell_type": "markdown",
      "metadata": {
        "id": "Iw_T-7w7pYEg"
      },
      "source": [
        "Initial setup above"
      ],
      "id": "Iw_T-7w7pYEg"
    },
    {
      "cell_type": "code",
      "metadata": {
        "id": "mmLwD54EoDIf"
      },
      "source": [
        "import numpy as np\n",
        "import matplotlib.pyplot as plt\n",
        "import pandas as pd"
      ],
      "id": "mmLwD54EoDIf",
      "execution_count": 1,
      "outputs": []
    },
    {
      "cell_type": "code",
      "metadata": {
        "id": "SJfWNvM3qssC"
      },
      "source": [
        "from extra_keras_datasets import svhn\n",
        "import tensorflow as tf\n",
        "import keras"
      ],
      "id": "SJfWNvM3qssC",
      "execution_count": 4,
      "outputs": []
    },
    {
      "cell_type": "code",
      "metadata": {
        "id": "VHCS1ZcToDUi"
      },
      "source": [
        "#!pip install extra-keras-datasets"
      ],
      "id": "VHCS1ZcToDUi",
      "execution_count": 5,
      "outputs": []
    },
    {
      "cell_type": "markdown",
      "metadata": {
        "tags": [],
        "id": "7fec15c7-def2-45b9-8456-881564d76398"
      },
      "source": [
        "### 1. Load the Street View House Numbers (SVHN) dataset\n",
        "\n",
        "-   Download the SVHN database and load the train and test datasets!\n",
        "    There are multiple ways to do this. The easiest one is probably to install\n",
        "    and use the `extra-keras-datasets` Python package. You need to use the\n",
        "    standard/normal SVHN dataset only and NOT the one titled as `extra`!\n",
        "    (Of course, if you have enough RAM and VRAM, you can work with that one\n",
        "    too, if you want...)\n",
        "-   Preprocess the downloaded data if needed to be able to use it for training\n",
        "    and testing!\n",
        "-   Normalize the pixel values into the interval of [0,1]!\n",
        "-   How many and what classes do we have in the dataset? How many train and test\n",
        "    examples do we have?\n",
        "-   What are the dimensions of the images?\n",
        "-   Show some images randomly from the dataset!\n",
        "-   Make one-hot encoding for the labels!"
      ],
      "id": "7fec15c7-def2-45b9-8456-881564d76398"
    },
    {
      "cell_type": "markdown",
      "metadata": {
        "id": "YfzDTPoI4JUs"
      },
      "source": [
        "Download and check the data"
      ],
      "id": "YfzDTPoI4JUs"
    },
    {
      "cell_type": "code",
      "metadata": {
        "colab": {
          "base_uri": "https://localhost:8080/"
        },
        "id": "hU65pMRMp6LL",
        "outputId": "fdaa642b-ea05-40b0-b8b4-ddbaa4750335"
      },
      "source": [
        "(X_train, y_train), (X_test, y_test) = svhn.load_data(type='normal')"
      ],
      "id": "hU65pMRMp6LL",
      "execution_count": 6,
      "outputs": [
        {
          "output_type": "stream",
          "name": "stderr",
          "text": [
            "INFO:root:Loading dataset = svhn\n"
          ]
        },
        {
          "output_type": "stream",
          "name": "stdout",
          "text": [
            "Downloading data from http://ufldl.stanford.edu/housenumbers/train_32x32.mat\n",
            "182042624/182040794 [==============================] - 11s 0us/step\n",
            "182050816/182040794 [==============================] - 11s 0us/step\n",
            "Downloading data from http://ufldl.stanford.edu/housenumbers/test_32x32.mat\n",
            "64282624/64275384 [==============================] - 5s 0us/step\n",
            "64290816/64275384 [==============================] - 5s 0us/step\n"
          ]
        },
        {
          "output_type": "stream",
          "name": "stderr",
          "text": [
            "WARNING:root:Please cite the following paper when using or referencing this Extra Keras Dataset:\n",
            "WARNING:root:Yuval Netzer, Tao Wang, Adam Coates, Alessandro Bissacco, Bo Wu, Andrew Y. Ng Reading Digits in Natural Images with Unsupervised Feature Learning NIPS Workshop on Deep Learning and Unsupervised Feature Learning 2011. Retrieved from http://ufldl.stanford.edu/housenumbers/nips2011_housenumbers.pdf\n",
            "WARNING:root:Noncommercial use is allowed only: see the SVHN website for more information.\n"
          ]
        }
      ]
    },
    {
      "cell_type": "code",
      "metadata": {
        "colab": {
          "base_uri": "https://localhost:8080/"
        },
        "id": "sbX6kC9Zp6Pl",
        "outputId": "591cdf50-6563-4a6e-d81f-fb74d5e47590"
      },
      "source": [
        "X_train.shape, y_train.shape, X_test.shape, y_test.shape"
      ],
      "id": "sbX6kC9Zp6Pl",
      "execution_count": 7,
      "outputs": [
        {
          "output_type": "execute_result",
          "data": {
            "text/plain": [
              "((73257, 32, 32, 3), (73257,), (26032, 32, 32, 3), (26032,))"
            ]
          },
          "metadata": {},
          "execution_count": 7
        }
      ]
    },
    {
      "cell_type": "code",
      "metadata": {
        "colab": {
          "base_uri": "https://localhost:8080/"
        },
        "id": "jifOdnFl1mtg",
        "outputId": "2a60d0fb-bc9e-4f56-f816-f184c34e1a98"
      },
      "source": [
        "np.isnan(X_train).sum(),np.isnan(y_train).sum(),np.isnan(X_test).sum(),np.isnan(y_test).sum()"
      ],
      "id": "jifOdnFl1mtg",
      "execution_count": 8,
      "outputs": [
        {
          "output_type": "execute_result",
          "data": {
            "text/plain": [
              "(0, 0, 0, 0)"
            ]
          },
          "metadata": {},
          "execution_count": 8
        }
      ]
    },
    {
      "cell_type": "markdown",
      "metadata": {
        "id": "vZqYp3uN4QB4"
      },
      "source": [
        "Need to make the pixels between 0 and 1."
      ],
      "id": "vZqYp3uN4QB4"
    },
    {
      "cell_type": "code",
      "metadata": {
        "colab": {
          "base_uri": "https://localhost:8080/"
        },
        "id": "xS_lphk3uTOH",
        "outputId": "2986c190-3bbb-4bdc-9804-21fb9d32ce9a"
      },
      "source": [
        "X_train.min(), X_train.max()"
      ],
      "id": "xS_lphk3uTOH",
      "execution_count": 9,
      "outputs": [
        {
          "output_type": "execute_result",
          "data": {
            "text/plain": [
              "(0, 255)"
            ]
          },
          "metadata": {},
          "execution_count": 9
        }
      ]
    },
    {
      "cell_type": "code",
      "metadata": {
        "id": "MBKbxfivObj6"
      },
      "source": [
        "# from https://www.tutorialspoint.com/keras/keras_convolution_neural_network.htm\n",
        "from keras import backend as K\n",
        "img_rows, img_cols = 32, 32\n",
        "\n",
        "if K.image_data_format() == 'channels_first': \n",
        "   x_train = X_train.reshape(X_train.shape[0], 1, img_rows, img_cols) \n",
        "   x_test = X_test.reshape(X_test.shape[0], 1, img_rows, img_cols) \n",
        "   input_shape = (1, img_rows, img_cols) \n",
        "else: \n",
        "   x_train = X_train.reshape(X_train.shape[0], img_rows, img_cols, 3) \n",
        "   x_test = X_test.reshape(X_test.shape[0], img_rows, img_cols, 3) \n",
        "   input_shape = (img_rows, img_cols, 3) \n",
        "   \n",
        "x_train = x_train.astype('float32') \n",
        "x_test = x_test.astype('float32') \n",
        "x_train /= 255 \n",
        "x_test /= 255"
      ],
      "id": "MBKbxfivObj6",
      "execution_count": 10,
      "outputs": []
    },
    {
      "cell_type": "code",
      "metadata": {
        "id": "QFY_3Kk6tohG"
      },
      "source": [
        "#x_train = X_train.reshape(73257, 32*32*3)/255\n",
        "#x_test = X_test.reshape(26032, 32*32*3)/255"
      ],
      "id": "QFY_3Kk6tohG",
      "execution_count": 11,
      "outputs": []
    },
    {
      "cell_type": "markdown",
      "metadata": {
        "id": "TzNCCTfl378r"
      },
      "source": [
        "Shapes of the sets in order: input train, output train, input test, output test"
      ],
      "id": "TzNCCTfl378r"
    },
    {
      "cell_type": "code",
      "metadata": {
        "colab": {
          "base_uri": "https://localhost:8080/"
        },
        "id": "4Sho0hO7tooq",
        "outputId": "0f5a0383-eecc-4a21-9f4e-24e95f1bf3e6"
      },
      "source": [
        "x_train.shape, y_train.shape, x_test.shape, y_test.shape"
      ],
      "id": "4Sho0hO7tooq",
      "execution_count": 12,
      "outputs": [
        {
          "output_type": "execute_result",
          "data": {
            "text/plain": [
              "((73257, 32, 32, 3), (73257,), (26032, 32, 32, 3), (26032,))"
            ]
          },
          "metadata": {},
          "execution_count": 12
        }
      ]
    },
    {
      "cell_type": "code",
      "metadata": {
        "colab": {
          "base_uri": "https://localhost:8080/",
          "height": 298
        },
        "id": "e_7atDAAtosh",
        "outputId": "c2f0d632-4709-4ef2-9910-77acb5c0e629"
      },
      "source": [
        "plt.imshow(x_train[19].reshape(32,32,3))\n",
        "plt.title('This is number %i'%y_train[19])"
      ],
      "id": "e_7atDAAtosh",
      "execution_count": 13,
      "outputs": [
        {
          "output_type": "execute_result",
          "data": {
            "text/plain": [
              "Text(0.5, 1.0, 'This is number 8')"
            ]
          },
          "metadata": {},
          "execution_count": 13
        },
        {
          "output_type": "display_data",
          "data": {
            "image/png": "[encoded data removed]",
            "text/plain": [
              "<Figure size 432x288 with 1 Axes>"
            ]
          },
          "metadata": {
            "needs_background": "light"
          }
        }
      ]
    },
    {
      "cell_type": "code",
      "metadata": {
        "colab": {
          "base_uri": "https://localhost:8080/",
          "height": 298
        },
        "id": "LAcGDzKv77ou",
        "outputId": "9a802d21-9e6b-4d80-fc32-6d5744a7d2ab"
      },
      "source": [
        "plt.imshow(x_train[727].reshape(32,32,3))\n",
        "plt.title('This is number %i'%y_train[727])"
      ],
      "id": "LAcGDzKv77ou",
      "execution_count": 14,
      "outputs": [
        {
          "output_type": "execute_result",
          "data": {
            "text/plain": [
              "Text(0.5, 1.0, 'This is number 8')"
            ]
          },
          "metadata": {},
          "execution_count": 14
        },
        {
          "output_type": "display_data",
          "data": {
            "image/png": "[encoded data removed]",
            "text/plain": [
              "<Figure size 432x288 with 1 Axes>"
            ]
          },
          "metadata": {
            "needs_background": "light"
          }
        }
      ]
    },
    {
      "cell_type": "code",
      "metadata": {
        "colab": {
          "base_uri": "https://localhost:8080/"
        },
        "id": "D3Obmw8zwFPk",
        "outputId": "1fd27502-2ce1-474a-b29c-a07dd4fddebd"
      },
      "source": [
        "print(\"Unique classes: \", len(np.unique(y_test)))"
      ],
      "id": "D3Obmw8zwFPk",
      "execution_count": 15,
      "outputs": [
        {
          "output_type": "stream",
          "name": "stdout",
          "text": [
            "Unique classes:  10\n"
          ]
        }
      ]
    },
    {
      "cell_type": "code",
      "metadata": {
        "colab": {
          "base_uri": "https://localhost:8080/"
        },
        "id": "jlctWWu4PxfK",
        "outputId": "9c593b98-68cc-425c-ea8a-84b2a4d54b30"
      },
      "source": [
        "np.unique(y_test-1)"
      ],
      "id": "jlctWWu4PxfK",
      "execution_count": 16,
      "outputs": [
        {
          "output_type": "execute_result",
          "data": {
            "text/plain": [
              "array([0, 1, 2, 3, 4, 5, 6, 7, 8, 9], dtype=uint8)"
            ]
          },
          "metadata": {},
          "execution_count": 16
        }
      ]
    },
    {
      "cell_type": "markdown",
      "metadata": {
        "id": "N19PD_Tt6vGo"
      },
      "source": [
        "One hot encoding, seems OK!"
      ],
      "id": "N19PD_Tt6vGo"
    },
    {
      "cell_type": "code",
      "metadata": {
        "colab": {
          "base_uri": "https://localhost:8080/"
        },
        "id": "kbMOUkKM1lC5",
        "outputId": "1d6b364a-63d8-433a-9cc0-48de79033afc"
      },
      "source": [
        "y_train_oh = tf.keras.utils.to_categorical(y_train-1, 10)\n",
        "y_test_oh = tf.keras.utils.to_categorical(y_test-1, 10)\n",
        "print(y_train_oh[:5], y_train[:5])"
      ],
      "id": "kbMOUkKM1lC5",
      "execution_count": 17,
      "outputs": [
        {
          "output_type": "stream",
          "name": "stdout",
          "text": [
            "[[1. 0. 0. 0. 0. 0. 0. 0. 0. 0.]\n",
            " [0. 0. 0. 0. 0. 0. 0. 0. 1. 0.]\n",
            " [0. 1. 0. 0. 0. 0. 0. 0. 0. 0.]\n",
            " [0. 0. 1. 0. 0. 0. 0. 0. 0. 0.]\n",
            " [0. 1. 0. 0. 0. 0. 0. 0. 0. 0.]] [1 9 2 3 2]\n"
          ]
        }
      ]
    },
    {
      "cell_type": "markdown",
      "metadata": {
        "id": "d72057e3-894b-44e1-bef8-5a7ef8b811e2"
      },
      "source": [
        "### 2. Create a convolutional neural network for the SVHN dataset\n",
        "\n",
        "-   Train the following network on the training set and generate\n",
        "    prediction for the test images:\n",
        "    ```\n",
        "          > conv2D, 16 kernels, kernel size = (3,3), valid padding, relu actvation\n",
        "          > conv2D, 16 kernels, kernel size = (3,3), valid padding, relu actvation\n",
        "          > maxpooling kernel size = (2,2)\n",
        "          > conv2D, 32 kernels, kernel size = (3,3), valid padding, relu actvation\n",
        "          > conv2D, 32 kernels, kernel size = (3,3), valid padding, relu actvation\n",
        "          > maxpooling pool size = (2,2) strides = (2,2)\n",
        "          > flatten\n",
        "          > dense, 10 neurons, softmax activation\n",
        "    ```\n",
        "    -   Use Adam optimizer with default parameters\n",
        "    -   Use categorical crossentropy as loss function\n",
        "    -   Compile the model\n",
        "    -   Print out a summary of the model\n",
        "    -   Train the CNN on the training data for 25 epochs with batch size\n",
        "        of 64\n",
        "    -   Use the test data as validation data\n",
        "\n",
        "-   Calculate the categorical cross-entropy loss and the accuracy!\n",
        "    **<font color='green'>[HINT]:</font>** you should get at least $\\approx$ 80-90%\n",
        "    accuracy.\n",
        "-   Plot the training and the validation loss and accuracy on the same plot!\n",
        "    Do we experience overfitting?\n",
        "-   Show the confusion matrix of the predictions!"
      ],
      "id": "d72057e3-894b-44e1-bef8-5a7ef8b811e2"
    },
    {
      "cell_type": "markdown",
      "metadata": {
        "id": "sWf0esNH-qe_"
      },
      "source": [
        "Aided with understanding the exercise: https://www.tutorialspoint.com/keras/keras_convolution_neural_network.htm"
      ],
      "id": "sWf0esNH-qe_"
    },
    {
      "cell_type": "code",
      "metadata": {
        "id": "66EGqaB-AqWS"
      },
      "source": [
        "from keras.models import Sequential \n",
        "from keras.layers import Dense, Dropout, Flatten \n",
        "from keras.layers import Conv2D, MaxPooling2D "
      ],
      "id": "66EGqaB-AqWS",
      "execution_count": 18,
      "outputs": []
    },
    {
      "cell_type": "code",
      "metadata": {
        "colab": {
          "base_uri": "https://localhost:8080/"
        },
        "id": "FVDmlMY-8RsM",
        "outputId": "35488b53-ca3f-4299-d8b4-b867cd6b8d37"
      },
      "source": [
        "x_train.shape"
      ],
      "id": "FVDmlMY-8RsM",
      "execution_count": 19,
      "outputs": [
        {
          "output_type": "execute_result",
          "data": {
            "text/plain": [
              "(73257, 32, 32, 3)"
            ]
          },
          "metadata": {},
          "execution_count": 19
        }
      ]
    },
    {
      "cell_type": "code",
      "metadata": {
        "id": "kNKAfbdq8R4k"
      },
      "source": [
        "model = tf.keras.Sequential()\n",
        "model.add(Conv2D(16,\n",
        "                 kernel_size=(3,3),\n",
        "                 padding='valid',\n",
        "                 activation='relu'))\n",
        "model.add(Conv2D(16, kernel_size=(3,3), padding='valid', activation='relu'))\n",
        "model.add(MaxPooling2D(pool_size=(2,2)))\n",
        "model.add(Conv2D(32, kernel_size=(3,3), padding='valid', activation='relu'))\n",
        "model.add(Conv2D(32, kernel_size=(3,3), padding='valid', activation='relu'))\n",
        "model.add(MaxPooling2D(pool_size=(2,2)))\n",
        "model.add(Flatten())\n",
        "model.add(Dense(10, activation='softmax'))\n"
      ],
      "id": "kNKAfbdq8R4k",
      "execution_count": 20,
      "outputs": []
    },
    {
      "cell_type": "code",
      "metadata": {
        "id": "czq-lDaH8R-w"
      },
      "source": [
        "model.compile(optimizer=tf.keras.optimizers.Adam(learning_rate=0.001),\n",
        "              loss=tf.keras.losses.CategoricalCrossentropy(),\n",
        "              metrics=['accuracy','AUC'])"
      ],
      "id": "czq-lDaH8R-w",
      "execution_count": 21,
      "outputs": []
    },
    {
      "cell_type": "code",
      "metadata": {
        "colab": {
          "base_uri": "https://localhost:8080/"
        },
        "id": "E8ewibmvH3Bu",
        "outputId": "1f30f328-b4d6-49be-e6fc-d017604f53d2"
      },
      "source": [
        "history = model.fit(x=x_train, y=y_train_oh,\n",
        "                    batch_size=64, epochs=25,\n",
        "                    validation_data=(x_test, y_test_oh))"
      ],
      "id": "E8ewibmvH3Bu",
      "execution_count": 22,
      "outputs": [
        {
          "output_type": "stream",
          "name": "stdout",
          "text": [
            "Epoch 1/25\n",
            "1145/1145 [==============================] - 25s 13ms/step - loss: 0.9209 - accuracy: 0.7096 - auc: 0.9494 - val_loss: 0.6195 - val_accuracy: 0.8294 - val_auc: 0.9738\n",
            "Epoch 2/25\n",
            "1145/1145 [==============================] - 14s 12ms/step - loss: 0.5020 - accuracy: 0.8555 - auc: 0.9825 - val_loss: 0.5095 - val_accuracy: 0.8580 - val_auc: 0.9815\n",
            "Epoch 3/25\n",
            "1145/1145 [==============================] - 13s 11ms/step - loss: 0.4409 - accuracy: 0.8729 - auc: 0.9858 - val_loss: 0.4944 - val_accuracy: 0.8576 - val_auc: 0.9828\n",
            "Epoch 4/25\n",
            "1145/1145 [==============================] - 14s 12ms/step - loss: 0.4050 - accuracy: 0.8822 - auc: 0.9877 - val_loss: 0.4515 - val_accuracy: 0.8728 - val_auc: 0.9854\n",
            "Epoch 5/25\n",
            "1145/1145 [==============================] - 14s 12ms/step - loss: 0.3822 - accuracy: 0.8894 - auc: 0.9888 - val_loss: 0.4516 - val_accuracy: 0.8706 - val_auc: 0.9847\n",
            "Epoch 6/25\n",
            "1145/1145 [==============================] - 14s 12ms/step - loss: 0.3637 - accuracy: 0.8940 - auc: 0.9897 - val_loss: 0.4514 - val_accuracy: 0.8715 - val_auc: 0.9846\n",
            "Epoch 7/25\n",
            "1145/1145 [==============================] - 14s 12ms/step - loss: 0.3481 - accuracy: 0.8982 - auc: 0.9905 - val_loss: 0.4397 - val_accuracy: 0.8712 - val_auc: 0.9855\n",
            "Epoch 8/25\n",
            "1145/1145 [==============================] - 14s 12ms/step - loss: 0.3363 - accuracy: 0.9019 - auc: 0.9909 - val_loss: 0.4152 - val_accuracy: 0.8796 - val_auc: 0.9868\n",
            "Epoch 9/25\n",
            "1145/1145 [==============================] - 15s 13ms/step - loss: 0.3245 - accuracy: 0.9051 - auc: 0.9915 - val_loss: 0.4103 - val_accuracy: 0.8853 - val_auc: 0.9861\n",
            "Epoch 10/25\n",
            "1145/1145 [==============================] - 14s 13ms/step - loss: 0.3126 - accuracy: 0.9095 - auc: 0.9919 - val_loss: 0.4191 - val_accuracy: 0.8821 - val_auc: 0.9859\n",
            "Epoch 11/25\n",
            "1145/1145 [==============================] - 14s 12ms/step - loss: 0.2996 - accuracy: 0.9130 - auc: 0.9924 - val_loss: 0.4040 - val_accuracy: 0.8868 - val_auc: 0.9869\n",
            "Epoch 12/25\n",
            "1145/1145 [==============================] - 14s 12ms/step - loss: 0.2940 - accuracy: 0.9140 - auc: 0.9927 - val_loss: 0.4006 - val_accuracy: 0.8877 - val_auc: 0.9871\n",
            "Epoch 13/25\n",
            "1145/1145 [==============================] - 15s 13ms/step - loss: 0.2862 - accuracy: 0.9159 - auc: 0.9930 - val_loss: 0.3938 - val_accuracy: 0.8883 - val_auc: 0.9872\n",
            "Epoch 14/25\n",
            "1145/1145 [==============================] - 14s 12ms/step - loss: 0.2776 - accuracy: 0.9183 - auc: 0.9933 - val_loss: 0.3989 - val_accuracy: 0.8876 - val_auc: 0.9868\n",
            "Epoch 15/25\n",
            "1145/1145 [==============================] - 14s 12ms/step - loss: 0.2716 - accuracy: 0.9211 - auc: 0.9935 - val_loss: 0.4011 - val_accuracy: 0.8861 - val_auc: 0.9867\n",
            "Epoch 16/25\n",
            "1145/1145 [==============================] - 14s 12ms/step - loss: 0.2653 - accuracy: 0.9221 - auc: 0.9937 - val_loss: 0.3891 - val_accuracy: 0.8914 - val_auc: 0.9876\n",
            "Epoch 17/25\n",
            "1145/1145 [==============================] - 14s 12ms/step - loss: 0.2604 - accuracy: 0.9244 - auc: 0.9939 - val_loss: 0.4060 - val_accuracy: 0.8908 - val_auc: 0.9863\n",
            "Epoch 18/25\n",
            "1145/1145 [==============================] - 14s 12ms/step - loss: 0.2542 - accuracy: 0.9248 - auc: 0.9942 - val_loss: 0.4111 - val_accuracy: 0.8888 - val_auc: 0.9861\n",
            "Epoch 19/25\n",
            "1145/1145 [==============================] - 14s 12ms/step - loss: 0.2506 - accuracy: 0.9263 - auc: 0.9942 - val_loss: 0.3940 - val_accuracy: 0.8919 - val_auc: 0.9867\n",
            "Epoch 20/25\n",
            "1145/1145 [==============================] - 14s 12ms/step - loss: 0.2473 - accuracy: 0.9273 - auc: 0.9942 - val_loss: 0.4033 - val_accuracy: 0.8882 - val_auc: 0.9867\n",
            "Epoch 21/25\n",
            "1145/1145 [==============================] - 15s 13ms/step - loss: 0.2414 - accuracy: 0.9297 - auc: 0.9945 - val_loss: 0.4042 - val_accuracy: 0.8867 - val_auc: 0.9867\n",
            "Epoch 22/25\n",
            "1145/1145 [==============================] - 14s 12ms/step - loss: 0.2380 - accuracy: 0.9302 - auc: 0.9946 - val_loss: 0.4218 - val_accuracy: 0.8838 - val_auc: 0.9855\n",
            "Epoch 23/25\n",
            "1145/1145 [==============================] - 14s 12ms/step - loss: 0.2346 - accuracy: 0.9313 - auc: 0.9947 - val_loss: 0.4017 - val_accuracy: 0.8943 - val_auc: 0.9862\n",
            "Epoch 24/25\n",
            "1145/1145 [==============================] - 15s 13ms/step - loss: 0.2317 - accuracy: 0.9314 - auc: 0.9949 - val_loss: 0.4248 - val_accuracy: 0.8821 - val_auc: 0.9855\n",
            "Epoch 25/25\n",
            "1145/1145 [==============================] - 15s 13ms/step - loss: 0.2275 - accuracy: 0.9332 - auc: 0.9949 - val_loss: 0.4203 - val_accuracy: 0.8869 - val_auc: 0.9856\n"
          ]
        }
      ]
    },
    {
      "cell_type": "markdown",
      "metadata": {
        "tags": [],
        "id": "bd6b8f6a-83a7-4fba-bfae-7fe501d934a9"
      },
      "source": [
        "### 3. Load the Sload Digital Sky Survey (SDSS) Dataset\n",
        "\n",
        "You can download the dataset from Kaggle via\n",
        "[this link](https://www.kaggle.com/masterdesky/multiband-photoz-sdss-dr16).\n",
        "\n",
        "-   Download the images from Kaggle (~10'000 images total) \n",
        "-   Preprocess the images similarly to the SVHN dataset if needed! (Normalize\n",
        "    pixel values to [0,1], etc.)\n",
        "-   What are the dimensions of the images?\n",
        "-   Show 15 images randomly from the dataset!\n",
        "-   Create a train-test-validation split using `train_test_split` from `sklearn`\n",
        "    where the test size is $0.33$ and the validation size is $0.2$\n",
        "    -   Set a random seed\n",
        "    -   Print the number of images in each of these sets after you've created\n",
        "        them"
      ],
      "id": "bd6b8f6a-83a7-4fba-bfae-7fe501d934a9"
    },
    {
      "cell_type": "markdown",
      "metadata": {
        "tags": [],
        "id": "d3aa9ad0-06e9-4ce3-81d3-29b35e1cd6ff"
      },
      "source": [
        "### 4. Create a convolutional neural network for the SDSS dataset\n",
        "\n",
        "-   Train the following network on the training set and generate\n",
        "    prediction for the test images:\n",
        "    ```\n",
        "          > conv2D, 32 kernels, kernel size = (3,3), same padding\n",
        "          > batch normalization\n",
        "          > relu actvation\n",
        "          > conv2D, 32 kernels, kernel size = (3,3), same padding\n",
        "          > batch normalization\n",
        "          > relu actvation\n",
        "          > maxpooling pool size = (2,2), strides = (2,2)\n",
        "          \n",
        "          > conv2D, 64 kernels, kernel size = (3,3), same padding\n",
        "          > batch normalization\n",
        "          > relu actvation\n",
        "          > conv2D, 64 kernels, kernel size = (1,1), same padding\n",
        "          > batch normalization\n",
        "          > relu actvation\n",
        "          > conv2D, 64 kernels, kernel size = (3,3), same padding\n",
        "          > batch normalization\n",
        "          > relu actvation\n",
        "          > maxpooling pool size = (2,2), strides = (2,2)\n",
        "          \n",
        "          > global pooling\n",
        "          > dense, 1 neuron, no activation\n",
        "    ```\n",
        "\n",
        "    -   Use Adam optimizer with default parameters\n",
        "    -   Use mean squared error as loss function\n",
        "    -   Compile the model\n",
        "    -   Print out a summary of the model\n",
        "    -   Use the created validation set as validation during the training\n",
        "    -   Train the CNN on the training data for 25 epochs with batch size\n",
        "        of 64\n",
        "\n",
        "-   Calculate and print out the final accuracy using the R2 score!"
      ],
      "id": "d3aa9ad0-06e9-4ce3-81d3-29b35e1cd6ff"
    },
    {
      "cell_type": "markdown",
      "metadata": {
        "id": "bc00f33e-fcb8-45e8-a27f-3378cb40523e"
      },
      "source": [
        "### 5. Evaluate performance\n",
        "\n",
        "-   Plot the training and the validation loss on the same plot!\n",
        "-   Show the predicted values vs the actual labels on a plot!\n",
        "-   Where does the model make mistakes? Try to plot the images corresponding to\n",
        "    some outlier values!"
      ],
      "id": "bc00f33e-fcb8-45e8-a27f-3378cb40523e"
    },
    {
      "cell_type": "markdown",
      "metadata": {
        "id": "5904d4c7-00c4-404f-a683-cee4dd6cccdb"
      },
      "source": [
        "### 6. Train an other CNN\n",
        "\n",
        "-   The previous architecture can be further improved.\n",
        "-   Come up with an architecture that can achieve more than 80-85% accuracy on \n",
        "    the test set if the accuracy metric is the R2 score!\n",
        "    -   You can use any tool for this task.\n",
        "    -   Remember that there are different losses and optimizers, early stopping,\n",
        "        regularization, etc. that can be useful for you. You can find more about \n",
        "        these eg. in the\n",
        "        [tensorflow/keras documentation](https://www.tensorflow.org/api_docs/python/tf/all_symbols).\n",
        "    -   Don't forget that you can add more layers to the model and train for\n",
        "        more epochs too... :)\n",
        "-   Print out the summary of this model!\n",
        "-   Plot the loss curves for this model too!"
      ],
      "id": "5904d4c7-00c4-404f-a683-cee4dd6cccdb"
    }
  ]
}