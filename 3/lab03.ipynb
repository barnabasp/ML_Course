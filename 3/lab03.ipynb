{
 "cells": [
  {
   "cell_type": "markdown",
   "metadata": {
    "colab_type": "text",
    "id": "view-in-github"
   },
   "source": [
    "<a href=\"https://colab.research.google.com/gist/qbeer/22fe5333a1bd5c329fc2982d7dc5f7e0/lab03.ipynb\" target=\"_parent\"><img src=\"https://colab.research.google.com/assets/colab-badge.svg\" alt=\"Open In Colab\"/></a>"
   ]
  },
  {
   "cell_type": "markdown",
   "metadata": {
    "id": "Jp4J8Pk4B4Os"
   },
   "source": [
    "# Supervised learning introduction, K-Nearest Neighbors (KNN)\n",
    "\n",
    "Your task will be to predict wine quality from physicochemical features with the help of the \n",
    "[Wine Quality Data Set](https://archive.ics.uci.edu/ml/datasets/Wine+Quality). You will have to do it both as a regression and classification task. \n",
    "\n",
    "\n",
    "-------\n",
    "\n",
    "### 1. Read data\n",
    "  - Read the provided winequality-red.csv file. \n",
    "  - Check for missing values and that all entries are numerical. Also, check for duplicated entries (rows) and drop them.  \n",
    "  - Use all columns except the last as features and the quality column as target. \n",
    "  - Make 80-20% train test split (use sklearn).\n",
    "  - Prepare a one-hot encoded version of the y_test and y_train values ie. make a six long vector of the 6 quality classes (3-8), with only one non-zero value, e.g. 3->[1,0,0,0,0,0], 4->[0,1,0,0,0,0], 5->[0,0,1,0,0,0] etc. (You can use pandas or sklearn for that.) *You will have to use the one-hot encoded labels in the classification exercise only.*\n",
    "  - Normalize the features by substracting the means and dividing by the standard deviation feature by feature. If you want to be very precise, you should use only the mean and std in the training set for normalization, because generally the test test is not available at training time."
   ]
  },
  {
   "cell_type": "code",
   "execution_count": 1,
   "metadata": {},
   "outputs": [],
   "source": [
    "import pandas as pd\n",
    "import numpy as np\n",
    "import matplotlib.pyplot as plt\n",
    "import seaborn as sns"
   ]
  },
  {
   "cell_type": "code",
   "execution_count": 2,
   "metadata": {},
   "outputs": [
    {
     "name": "stdout",
     "output_type": "stream",
     "text": [
      "<class 'pandas.core.frame.DataFrame'>\n",
      "RangeIndex: 1599 entries, 0 to 1598\n",
      "Data columns (total 12 columns):\n",
      "fixed acidity           1599 non-null float64\n",
      "volatile acidity        1599 non-null float64\n",
      "citric acid             1599 non-null float64\n",
      "residual sugar          1599 non-null float64\n",
      "chlorides               1599 non-null float64\n",
      "free sulfur dioxide     1599 non-null float64\n",
      "total sulfur dioxide    1599 non-null float64\n",
      "density                 1599 non-null float64\n",
      "pH                      1599 non-null float64\n",
      "sulphates               1599 non-null float64\n",
      "alcohol                 1599 non-null float64\n",
      "quality                 1599 non-null int64\n",
      "dtypes: float64(11), int64(1)\n",
      "memory usage: 150.0 KB\n"
     ]
    }
   ],
   "source": [
    "wines = pd.read_csv('winequality-red.csv', sep=';')\n",
    "wines.info()"
   ]
  },
  {
   "cell_type": "code",
   "execution_count": 3,
   "metadata": {},
   "outputs": [
    {
     "name": "stdout",
     "output_type": "stream",
     "text": [
      "Are there NaN values? False\n",
      "Duplications: 240\n"
     ]
    }
   ],
   "source": [
    "print('Are there NaN values? ' + str(np.any(wines.isna())))\n",
    "print('Duplications: ' + str(wines.duplicated().sum()))"
   ]
  },
  {
   "cell_type": "code",
   "execution_count": 4,
   "metadata": {},
   "outputs": [
    {
     "name": "stdout",
     "output_type": "stream",
     "text": [
      "0\n"
     ]
    }
   ],
   "source": [
    "wines = wines[~wines.duplicated()].reset_index(drop=True)\n",
    "print(wines.duplicated().sum())"
   ]
  },
  {
   "cell_type": "code",
   "execution_count": 5,
   "metadata": {},
   "outputs": [],
   "source": [
    "from sklearn.model_selection import train_test_split #to split up the data into training and testing\n",
    "feature = wines.columns[0:11] #select the features\n",
    "X_train, X_test, y_train, y_test = train_test_split(wines[feature],\n",
    "                 wines['quality'],\n",
    "                 train_size=0.8)"
   ]
  },
  {
   "cell_type": "code",
   "execution_count": 6,
   "metadata": {},
   "outputs": [
    {
     "data": {
      "text/html": [
       "<div>\n",
       "<style scoped>\n",
       "    .dataframe tbody tr th:only-of-type {\n",
       "        vertical-align: middle;\n",
       "    }\n",
       "\n",
       "    .dataframe tbody tr th {\n",
       "        vertical-align: top;\n",
       "    }\n",
       "\n",
       "    .dataframe thead th {\n",
       "        text-align: right;\n",
       "    }\n",
       "</style>\n",
       "<table border=\"1\" class=\"dataframe\">\n",
       "  <thead>\n",
       "    <tr style=\"text-align: right;\">\n",
       "      <th></th>\n",
       "      <th>fixed acidity</th>\n",
       "      <th>volatile acidity</th>\n",
       "      <th>citric acid</th>\n",
       "      <th>residual sugar</th>\n",
       "      <th>chlorides</th>\n",
       "      <th>free sulfur dioxide</th>\n",
       "      <th>total sulfur dioxide</th>\n",
       "      <th>density</th>\n",
       "      <th>pH</th>\n",
       "      <th>sulphates</th>\n",
       "      <th>alcohol</th>\n",
       "    </tr>\n",
       "  </thead>\n",
       "  <tbody>\n",
       "    <tr>\n",
       "      <td>1322</td>\n",
       "      <td>6.6</td>\n",
       "      <td>0.855</td>\n",
       "      <td>0.02</td>\n",
       "      <td>2.4</td>\n",
       "      <td>0.062</td>\n",
       "      <td>15.0</td>\n",
       "      <td>23.0</td>\n",
       "      <td>0.99627</td>\n",
       "      <td>3.54</td>\n",
       "      <td>0.60</td>\n",
       "      <td>11.0</td>\n",
       "    </tr>\n",
       "    <tr>\n",
       "      <td>947</td>\n",
       "      <td>8.9</td>\n",
       "      <td>0.240</td>\n",
       "      <td>0.39</td>\n",
       "      <td>1.6</td>\n",
       "      <td>0.074</td>\n",
       "      <td>3.0</td>\n",
       "      <td>10.0</td>\n",
       "      <td>0.99698</td>\n",
       "      <td>3.12</td>\n",
       "      <td>0.59</td>\n",
       "      <td>9.5</td>\n",
       "    </tr>\n",
       "    <tr>\n",
       "      <td>689</td>\n",
       "      <td>9.3</td>\n",
       "      <td>0.370</td>\n",
       "      <td>0.44</td>\n",
       "      <td>1.6</td>\n",
       "      <td>0.038</td>\n",
       "      <td>21.0</td>\n",
       "      <td>42.0</td>\n",
       "      <td>0.99526</td>\n",
       "      <td>3.24</td>\n",
       "      <td>0.81</td>\n",
       "      <td>10.8</td>\n",
       "    </tr>\n",
       "    <tr>\n",
       "      <td>811</td>\n",
       "      <td>8.2</td>\n",
       "      <td>0.310</td>\n",
       "      <td>0.40</td>\n",
       "      <td>2.2</td>\n",
       "      <td>0.058</td>\n",
       "      <td>6.0</td>\n",
       "      <td>10.0</td>\n",
       "      <td>0.99536</td>\n",
       "      <td>3.31</td>\n",
       "      <td>0.68</td>\n",
       "      <td>11.2</td>\n",
       "    </tr>\n",
       "    <tr>\n",
       "      <td>43</td>\n",
       "      <td>8.7</td>\n",
       "      <td>0.290</td>\n",
       "      <td>0.52</td>\n",
       "      <td>1.6</td>\n",
       "      <td>0.113</td>\n",
       "      <td>12.0</td>\n",
       "      <td>37.0</td>\n",
       "      <td>0.99690</td>\n",
       "      <td>3.25</td>\n",
       "      <td>0.58</td>\n",
       "      <td>9.5</td>\n",
       "    </tr>\n",
       "    <tr>\n",
       "      <td>...</td>\n",
       "      <td>...</td>\n",
       "      <td>...</td>\n",
       "      <td>...</td>\n",
       "      <td>...</td>\n",
       "      <td>...</td>\n",
       "      <td>...</td>\n",
       "      <td>...</td>\n",
       "      <td>...</td>\n",
       "      <td>...</td>\n",
       "      <td>...</td>\n",
       "      <td>...</td>\n",
       "    </tr>\n",
       "    <tr>\n",
       "      <td>1163</td>\n",
       "      <td>7.5</td>\n",
       "      <td>0.580</td>\n",
       "      <td>0.56</td>\n",
       "      <td>3.1</td>\n",
       "      <td>0.153</td>\n",
       "      <td>5.0</td>\n",
       "      <td>14.0</td>\n",
       "      <td>0.99476</td>\n",
       "      <td>3.21</td>\n",
       "      <td>1.03</td>\n",
       "      <td>11.6</td>\n",
       "    </tr>\n",
       "    <tr>\n",
       "      <td>618</td>\n",
       "      <td>8.0</td>\n",
       "      <td>0.430</td>\n",
       "      <td>0.36</td>\n",
       "      <td>2.3</td>\n",
       "      <td>0.075</td>\n",
       "      <td>10.0</td>\n",
       "      <td>48.0</td>\n",
       "      <td>0.99760</td>\n",
       "      <td>3.34</td>\n",
       "      <td>0.46</td>\n",
       "      <td>9.4</td>\n",
       "    </tr>\n",
       "    <tr>\n",
       "      <td>798</td>\n",
       "      <td>8.8</td>\n",
       "      <td>0.300</td>\n",
       "      <td>0.38</td>\n",
       "      <td>2.3</td>\n",
       "      <td>0.060</td>\n",
       "      <td>19.0</td>\n",
       "      <td>72.0</td>\n",
       "      <td>0.99543</td>\n",
       "      <td>3.39</td>\n",
       "      <td>0.72</td>\n",
       "      <td>11.8</td>\n",
       "    </tr>\n",
       "    <tr>\n",
       "      <td>699</td>\n",
       "      <td>7.6</td>\n",
       "      <td>0.480</td>\n",
       "      <td>0.31</td>\n",
       "      <td>2.8</td>\n",
       "      <td>0.070</td>\n",
       "      <td>4.0</td>\n",
       "      <td>15.0</td>\n",
       "      <td>0.99693</td>\n",
       "      <td>3.22</td>\n",
       "      <td>0.55</td>\n",
       "      <td>10.3</td>\n",
       "    </tr>\n",
       "    <tr>\n",
       "      <td>433</td>\n",
       "      <td>6.5</td>\n",
       "      <td>0.390</td>\n",
       "      <td>0.23</td>\n",
       "      <td>8.3</td>\n",
       "      <td>0.051</td>\n",
       "      <td>28.0</td>\n",
       "      <td>91.0</td>\n",
       "      <td>0.99520</td>\n",
       "      <td>3.44</td>\n",
       "      <td>0.55</td>\n",
       "      <td>12.1</td>\n",
       "    </tr>\n",
       "  </tbody>\n",
       "</table>\n",
       "<p>1087 rows × 11 columns</p>\n",
       "</div>"
      ],
      "text/plain": [
       "      fixed acidity  volatile acidity  citric acid  residual sugar  chlorides  \\\n",
       "1322            6.6             0.855         0.02             2.4      0.062   \n",
       "947             8.9             0.240         0.39             1.6      0.074   \n",
       "689             9.3             0.370         0.44             1.6      0.038   \n",
       "811             8.2             0.310         0.40             2.2      0.058   \n",
       "43              8.7             0.290         0.52             1.6      0.113   \n",
       "...             ...               ...          ...             ...        ...   \n",
       "1163            7.5             0.580         0.56             3.1      0.153   \n",
       "618             8.0             0.430         0.36             2.3      0.075   \n",
       "798             8.8             0.300         0.38             2.3      0.060   \n",
       "699             7.6             0.480         0.31             2.8      0.070   \n",
       "433             6.5             0.390         0.23             8.3      0.051   \n",
       "\n",
       "      free sulfur dioxide  total sulfur dioxide  density    pH  sulphates  \\\n",
       "1322                 15.0                  23.0  0.99627  3.54       0.60   \n",
       "947                   3.0                  10.0  0.99698  3.12       0.59   \n",
       "689                  21.0                  42.0  0.99526  3.24       0.81   \n",
       "811                   6.0                  10.0  0.99536  3.31       0.68   \n",
       "43                   12.0                  37.0  0.99690  3.25       0.58   \n",
       "...                   ...                   ...      ...   ...        ...   \n",
       "1163                  5.0                  14.0  0.99476  3.21       1.03   \n",
       "618                  10.0                  48.0  0.99760  3.34       0.46   \n",
       "798                  19.0                  72.0  0.99543  3.39       0.72   \n",
       "699                   4.0                  15.0  0.99693  3.22       0.55   \n",
       "433                  28.0                  91.0  0.99520  3.44       0.55   \n",
       "\n",
       "      alcohol  \n",
       "1322     11.0  \n",
       "947       9.5  \n",
       "689      10.8  \n",
       "811      11.2  \n",
       "43        9.5  \n",
       "...       ...  \n",
       "1163     11.6  \n",
       "618       9.4  \n",
       "798      11.8  \n",
       "699      10.3  \n",
       "433      12.1  \n",
       "\n",
       "[1087 rows x 11 columns]"
      ]
     },
     "execution_count": 6,
     "metadata": {},
     "output_type": "execute_result"
    }
   ],
   "source": [
    "X_train"
   ]
  },
  {
   "cell_type": "code",
   "execution_count": 7,
   "metadata": {},
   "outputs": [
    {
     "data": {
      "text/html": [
       "<div>\n",
       "<style scoped>\n",
       "    .dataframe tbody tr th:only-of-type {\n",
       "        vertical-align: middle;\n",
       "    }\n",
       "\n",
       "    .dataframe tbody tr th {\n",
       "        vertical-align: top;\n",
       "    }\n",
       "\n",
       "    .dataframe thead th {\n",
       "        text-align: right;\n",
       "    }\n",
       "</style>\n",
       "<table border=\"1\" class=\"dataframe\">\n",
       "  <thead>\n",
       "    <tr style=\"text-align: right;\">\n",
       "      <th></th>\n",
       "      <th>fixed acidity</th>\n",
       "      <th>volatile acidity</th>\n",
       "      <th>citric acid</th>\n",
       "      <th>residual sugar</th>\n",
       "      <th>chlorides</th>\n",
       "      <th>free sulfur dioxide</th>\n",
       "      <th>total sulfur dioxide</th>\n",
       "      <th>density</th>\n",
       "      <th>pH</th>\n",
       "      <th>sulphates</th>\n",
       "      <th>alcohol</th>\n",
       "    </tr>\n",
       "  </thead>\n",
       "  <tbody>\n",
       "    <tr>\n",
       "      <td>604</td>\n",
       "      <td>9.4</td>\n",
       "      <td>0.615</td>\n",
       "      <td>0.28</td>\n",
       "      <td>3.2</td>\n",
       "      <td>0.087</td>\n",
       "      <td>18.0</td>\n",
       "      <td>72.0</td>\n",
       "      <td>1.00010</td>\n",
       "      <td>3.31</td>\n",
       "      <td>0.53</td>\n",
       "      <td>9.7</td>\n",
       "    </tr>\n",
       "    <tr>\n",
       "      <td>317</td>\n",
       "      <td>11.9</td>\n",
       "      <td>0.580</td>\n",
       "      <td>0.66</td>\n",
       "      <td>2.5</td>\n",
       "      <td>0.072</td>\n",
       "      <td>6.0</td>\n",
       "      <td>37.0</td>\n",
       "      <td>0.99920</td>\n",
       "      <td>3.05</td>\n",
       "      <td>0.56</td>\n",
       "      <td>10.0</td>\n",
       "    </tr>\n",
       "    <tr>\n",
       "      <td>1182</td>\n",
       "      <td>6.4</td>\n",
       "      <td>0.570</td>\n",
       "      <td>0.14</td>\n",
       "      <td>3.9</td>\n",
       "      <td>0.070</td>\n",
       "      <td>27.0</td>\n",
       "      <td>73.0</td>\n",
       "      <td>0.99669</td>\n",
       "      <td>3.32</td>\n",
       "      <td>0.48</td>\n",
       "      <td>9.2</td>\n",
       "    </tr>\n",
       "    <tr>\n",
       "      <td>224</td>\n",
       "      <td>9.4</td>\n",
       "      <td>0.340</td>\n",
       "      <td>0.37</td>\n",
       "      <td>2.2</td>\n",
       "      <td>0.075</td>\n",
       "      <td>5.0</td>\n",
       "      <td>13.0</td>\n",
       "      <td>0.99800</td>\n",
       "      <td>3.22</td>\n",
       "      <td>0.62</td>\n",
       "      <td>9.2</td>\n",
       "    </tr>\n",
       "    <tr>\n",
       "      <td>1071</td>\n",
       "      <td>7.0</td>\n",
       "      <td>0.580</td>\n",
       "      <td>0.28</td>\n",
       "      <td>4.8</td>\n",
       "      <td>0.085</td>\n",
       "      <td>12.0</td>\n",
       "      <td>69.0</td>\n",
       "      <td>0.99633</td>\n",
       "      <td>3.32</td>\n",
       "      <td>0.70</td>\n",
       "      <td>11.0</td>\n",
       "    </tr>\n",
       "    <tr>\n",
       "      <td>...</td>\n",
       "      <td>...</td>\n",
       "      <td>...</td>\n",
       "      <td>...</td>\n",
       "      <td>...</td>\n",
       "      <td>...</td>\n",
       "      <td>...</td>\n",
       "      <td>...</td>\n",
       "      <td>...</td>\n",
       "      <td>...</td>\n",
       "      <td>...</td>\n",
       "      <td>...</td>\n",
       "    </tr>\n",
       "    <tr>\n",
       "      <td>584</td>\n",
       "      <td>9.3</td>\n",
       "      <td>0.410</td>\n",
       "      <td>0.39</td>\n",
       "      <td>2.2</td>\n",
       "      <td>0.064</td>\n",
       "      <td>12.0</td>\n",
       "      <td>31.0</td>\n",
       "      <td>0.99840</td>\n",
       "      <td>3.26</td>\n",
       "      <td>0.65</td>\n",
       "      <td>10.2</td>\n",
       "    </tr>\n",
       "    <tr>\n",
       "      <td>178</td>\n",
       "      <td>8.8</td>\n",
       "      <td>0.370</td>\n",
       "      <td>0.48</td>\n",
       "      <td>2.1</td>\n",
       "      <td>0.097</td>\n",
       "      <td>39.0</td>\n",
       "      <td>145.0</td>\n",
       "      <td>0.99750</td>\n",
       "      <td>3.04</td>\n",
       "      <td>1.03</td>\n",
       "      <td>9.3</td>\n",
       "    </tr>\n",
       "    <tr>\n",
       "      <td>1335</td>\n",
       "      <td>6.0</td>\n",
       "      <td>0.580</td>\n",
       "      <td>0.20</td>\n",
       "      <td>2.4</td>\n",
       "      <td>0.075</td>\n",
       "      <td>15.0</td>\n",
       "      <td>50.0</td>\n",
       "      <td>0.99467</td>\n",
       "      <td>3.58</td>\n",
       "      <td>0.67</td>\n",
       "      <td>12.5</td>\n",
       "    </tr>\n",
       "    <tr>\n",
       "      <td>1138</td>\n",
       "      <td>7.6</td>\n",
       "      <td>0.540</td>\n",
       "      <td>0.02</td>\n",
       "      <td>1.7</td>\n",
       "      <td>0.085</td>\n",
       "      <td>17.0</td>\n",
       "      <td>31.0</td>\n",
       "      <td>0.99589</td>\n",
       "      <td>3.37</td>\n",
       "      <td>0.51</td>\n",
       "      <td>10.4</td>\n",
       "    </tr>\n",
       "    <tr>\n",
       "      <td>1288</td>\n",
       "      <td>7.4</td>\n",
       "      <td>0.470</td>\n",
       "      <td>0.46</td>\n",
       "      <td>2.2</td>\n",
       "      <td>0.114</td>\n",
       "      <td>7.0</td>\n",
       "      <td>20.0</td>\n",
       "      <td>0.99647</td>\n",
       "      <td>3.32</td>\n",
       "      <td>0.63</td>\n",
       "      <td>10.5</td>\n",
       "    </tr>\n",
       "  </tbody>\n",
       "</table>\n",
       "<p>272 rows × 11 columns</p>\n",
       "</div>"
      ],
      "text/plain": [
       "      fixed acidity  volatile acidity  citric acid  residual sugar  chlorides  \\\n",
       "604             9.4             0.615         0.28             3.2      0.087   \n",
       "317            11.9             0.580         0.66             2.5      0.072   \n",
       "1182            6.4             0.570         0.14             3.9      0.070   \n",
       "224             9.4             0.340         0.37             2.2      0.075   \n",
       "1071            7.0             0.580         0.28             4.8      0.085   \n",
       "...             ...               ...          ...             ...        ...   \n",
       "584             9.3             0.410         0.39             2.2      0.064   \n",
       "178             8.8             0.370         0.48             2.1      0.097   \n",
       "1335            6.0             0.580         0.20             2.4      0.075   \n",
       "1138            7.6             0.540         0.02             1.7      0.085   \n",
       "1288            7.4             0.470         0.46             2.2      0.114   \n",
       "\n",
       "      free sulfur dioxide  total sulfur dioxide  density    pH  sulphates  \\\n",
       "604                  18.0                  72.0  1.00010  3.31       0.53   \n",
       "317                   6.0                  37.0  0.99920  3.05       0.56   \n",
       "1182                 27.0                  73.0  0.99669  3.32       0.48   \n",
       "224                   5.0                  13.0  0.99800  3.22       0.62   \n",
       "1071                 12.0                  69.0  0.99633  3.32       0.70   \n",
       "...                   ...                   ...      ...   ...        ...   \n",
       "584                  12.0                  31.0  0.99840  3.26       0.65   \n",
       "178                  39.0                 145.0  0.99750  3.04       1.03   \n",
       "1335                 15.0                  50.0  0.99467  3.58       0.67   \n",
       "1138                 17.0                  31.0  0.99589  3.37       0.51   \n",
       "1288                  7.0                  20.0  0.99647  3.32       0.63   \n",
       "\n",
       "      alcohol  \n",
       "604       9.7  \n",
       "317      10.0  \n",
       "1182      9.2  \n",
       "224       9.2  \n",
       "1071     11.0  \n",
       "...       ...  \n",
       "584      10.2  \n",
       "178       9.3  \n",
       "1335     12.5  \n",
       "1138     10.4  \n",
       "1288     10.5  \n",
       "\n",
       "[272 rows x 11 columns]"
      ]
     },
     "execution_count": 7,
     "metadata": {},
     "output_type": "execute_result"
    }
   ],
   "source": [
    "X_test"
   ]
  },
  {
   "cell_type": "code",
   "execution_count": 8,
   "metadata": {},
   "outputs": [
    {
     "data": {
      "text/plain": [
       "1322    6\n",
       "947     6\n",
       "689     7\n",
       "811     7\n",
       "43      5\n",
       "       ..\n",
       "1163    6\n",
       "618     5\n",
       "798     6\n",
       "699     6\n",
       "433     6\n",
       "Name: quality, Length: 1087, dtype: int64"
      ]
     },
     "execution_count": 8,
     "metadata": {},
     "output_type": "execute_result"
    }
   ],
   "source": [
    "y_train"
   ]
  },
  {
   "cell_type": "code",
   "execution_count": 9,
   "metadata": {},
   "outputs": [
    {
     "data": {
      "text/plain": [
       "604     5\n",
       "317     5\n",
       "1182    5\n",
       "224     5\n",
       "1071    6\n",
       "       ..\n",
       "584     5\n",
       "178     5\n",
       "1335    6\n",
       "1138    6\n",
       "1288    5\n",
       "Name: quality, Length: 272, dtype: int64"
      ]
     },
     "execution_count": 9,
     "metadata": {},
     "output_type": "execute_result"
    }
   ],
   "source": [
    "y_test"
   ]
  },
  {
   "cell_type": "markdown",
   "metadata": {},
   "source": [
    "- Prepare a one-hot encoded version of the y_test and y_train values ie. make a six long vector of the 6 quality classes (3-8), with only one non-zero value, e.g. 3->[1,0,0,0,0,0], 4->[0,1,0,0,0,0], 5->[0,0,1,0,0,0] etc. (You can use pandas or sklearn for that.) *You will have to use the one-hot encoded labels in the classification exercise only.*"
   ]
  },
  {
   "cell_type": "code",
   "execution_count": 10,
   "metadata": {},
   "outputs": [
    {
     "data": {
      "text/html": [
       "<div>\n",
       "<style scoped>\n",
       "    .dataframe tbody tr th:only-of-type {\n",
       "        vertical-align: middle;\n",
       "    }\n",
       "\n",
       "    .dataframe tbody tr th {\n",
       "        vertical-align: top;\n",
       "    }\n",
       "\n",
       "    .dataframe thead th {\n",
       "        text-align: right;\n",
       "    }\n",
       "</style>\n",
       "<table border=\"1\" class=\"dataframe\">\n",
       "  <thead>\n",
       "    <tr style=\"text-align: right;\">\n",
       "      <th></th>\n",
       "      <th>3</th>\n",
       "      <th>4</th>\n",
       "      <th>5</th>\n",
       "      <th>6</th>\n",
       "      <th>7</th>\n",
       "      <th>8</th>\n",
       "    </tr>\n",
       "  </thead>\n",
       "  <tbody>\n",
       "    <tr>\n",
       "      <td>604</td>\n",
       "      <td>0</td>\n",
       "      <td>0</td>\n",
       "      <td>1</td>\n",
       "      <td>0</td>\n",
       "      <td>0</td>\n",
       "      <td>0</td>\n",
       "    </tr>\n",
       "    <tr>\n",
       "      <td>317</td>\n",
       "      <td>0</td>\n",
       "      <td>0</td>\n",
       "      <td>1</td>\n",
       "      <td>0</td>\n",
       "      <td>0</td>\n",
       "      <td>0</td>\n",
       "    </tr>\n",
       "    <tr>\n",
       "      <td>1182</td>\n",
       "      <td>0</td>\n",
       "      <td>0</td>\n",
       "      <td>1</td>\n",
       "      <td>0</td>\n",
       "      <td>0</td>\n",
       "      <td>0</td>\n",
       "    </tr>\n",
       "    <tr>\n",
       "      <td>224</td>\n",
       "      <td>0</td>\n",
       "      <td>0</td>\n",
       "      <td>1</td>\n",
       "      <td>0</td>\n",
       "      <td>0</td>\n",
       "      <td>0</td>\n",
       "    </tr>\n",
       "    <tr>\n",
       "      <td>1071</td>\n",
       "      <td>0</td>\n",
       "      <td>0</td>\n",
       "      <td>0</td>\n",
       "      <td>1</td>\n",
       "      <td>0</td>\n",
       "      <td>0</td>\n",
       "    </tr>\n",
       "    <tr>\n",
       "      <td>...</td>\n",
       "      <td>...</td>\n",
       "      <td>...</td>\n",
       "      <td>...</td>\n",
       "      <td>...</td>\n",
       "      <td>...</td>\n",
       "      <td>...</td>\n",
       "    </tr>\n",
       "    <tr>\n",
       "      <td>584</td>\n",
       "      <td>0</td>\n",
       "      <td>0</td>\n",
       "      <td>1</td>\n",
       "      <td>0</td>\n",
       "      <td>0</td>\n",
       "      <td>0</td>\n",
       "    </tr>\n",
       "    <tr>\n",
       "      <td>178</td>\n",
       "      <td>0</td>\n",
       "      <td>0</td>\n",
       "      <td>1</td>\n",
       "      <td>0</td>\n",
       "      <td>0</td>\n",
       "      <td>0</td>\n",
       "    </tr>\n",
       "    <tr>\n",
       "      <td>1335</td>\n",
       "      <td>0</td>\n",
       "      <td>0</td>\n",
       "      <td>0</td>\n",
       "      <td>1</td>\n",
       "      <td>0</td>\n",
       "      <td>0</td>\n",
       "    </tr>\n",
       "    <tr>\n",
       "      <td>1138</td>\n",
       "      <td>0</td>\n",
       "      <td>0</td>\n",
       "      <td>0</td>\n",
       "      <td>1</td>\n",
       "      <td>0</td>\n",
       "      <td>0</td>\n",
       "    </tr>\n",
       "    <tr>\n",
       "      <td>1288</td>\n",
       "      <td>0</td>\n",
       "      <td>0</td>\n",
       "      <td>1</td>\n",
       "      <td>0</td>\n",
       "      <td>0</td>\n",
       "      <td>0</td>\n",
       "    </tr>\n",
       "  </tbody>\n",
       "</table>\n",
       "<p>272 rows × 6 columns</p>\n",
       "</div>"
      ],
      "text/plain": [
       "      3  4  5  6  7  8\n",
       "604   0  0  1  0  0  0\n",
       "317   0  0  1  0  0  0\n",
       "1182  0  0  1  0  0  0\n",
       "224   0  0  1  0  0  0\n",
       "1071  0  0  0  1  0  0\n",
       "...  .. .. .. .. .. ..\n",
       "584   0  0  1  0  0  0\n",
       "178   0  0  1  0  0  0\n",
       "1335  0  0  0  1  0  0\n",
       "1138  0  0  0  1  0  0\n",
       "1288  0  0  1  0  0  0\n",
       "\n",
       "[272 rows x 6 columns]"
      ]
     },
     "execution_count": 10,
     "metadata": {},
     "output_type": "execute_result"
    }
   ],
   "source": [
    "onehot_test = pd.get_dummies(y_test)\n",
    "onehot_train = pd.get_dummies(y_train)\n",
    "onehot_test"
   ]
  },
  {
   "cell_type": "markdown",
   "metadata": {},
   "source": [
    " - Normalize the features by substracting the means and dividing by the standard deviation feature by feature. If you want to be very precise, you should use only the mean and std in the training set for normalization, because generally the test test is not available at training time."
   ]
  },
  {
   "cell_type": "code",
   "execution_count": 11,
   "metadata": {},
   "outputs": [
    {
     "data": {
      "text/html": [
       "<div>\n",
       "<style scoped>\n",
       "    .dataframe tbody tr th:only-of-type {\n",
       "        vertical-align: middle;\n",
       "    }\n",
       "\n",
       "    .dataframe tbody tr th {\n",
       "        vertical-align: top;\n",
       "    }\n",
       "\n",
       "    .dataframe thead th {\n",
       "        text-align: right;\n",
       "    }\n",
       "</style>\n",
       "<table border=\"1\" class=\"dataframe\">\n",
       "  <thead>\n",
       "    <tr style=\"text-align: right;\">\n",
       "      <th></th>\n",
       "      <th>fixed acidity</th>\n",
       "      <th>volatile acidity</th>\n",
       "      <th>citric acid</th>\n",
       "      <th>residual sugar</th>\n",
       "      <th>chlorides</th>\n",
       "      <th>free sulfur dioxide</th>\n",
       "      <th>total sulfur dioxide</th>\n",
       "      <th>density</th>\n",
       "      <th>pH</th>\n",
       "      <th>sulphates</th>\n",
       "      <th>alcohol</th>\n",
       "    </tr>\n",
       "  </thead>\n",
       "  <tbody>\n",
       "    <tr>\n",
       "      <td>604</td>\n",
       "      <td>0.632531</td>\n",
       "      <td>0.449488</td>\n",
       "      <td>0.056106</td>\n",
       "      <td>0.459111</td>\n",
       "      <td>-0.011810</td>\n",
       "      <td>0.191061</td>\n",
       "      <td>0.762216</td>\n",
       "      <td>1.817593</td>\n",
       "      <td>-0.009520</td>\n",
       "      <td>-0.765413</td>\n",
       "      <td>-0.686708</td>\n",
       "    </tr>\n",
       "    <tr>\n",
       "      <td>317</td>\n",
       "      <td>2.088487</td>\n",
       "      <td>0.262584</td>\n",
       "      <td>2.018432</td>\n",
       "      <td>-0.037142</td>\n",
       "      <td>-0.330103</td>\n",
       "      <td>-0.934341</td>\n",
       "      <td>-0.282079</td>\n",
       "      <td>1.334851</td>\n",
       "      <td>-1.701607</td>\n",
       "      <td>-0.586050</td>\n",
       "      <td>-0.411220</td>\n",
       "    </tr>\n",
       "    <tr>\n",
       "      <td>1182</td>\n",
       "      <td>-1.114617</td>\n",
       "      <td>0.209183</td>\n",
       "      <td>-0.666857</td>\n",
       "      <td>0.955364</td>\n",
       "      <td>-0.372542</td>\n",
       "      <td>1.035113</td>\n",
       "      <td>0.792053</td>\n",
       "      <td>-0.011463</td>\n",
       "      <td>0.055561</td>\n",
       "      <td>-1.064350</td>\n",
       "      <td>-1.145856</td>\n",
       "    </tr>\n",
       "    <tr>\n",
       "      <td>224</td>\n",
       "      <td>0.632531</td>\n",
       "      <td>-1.019043</td>\n",
       "      <td>0.520867</td>\n",
       "      <td>-0.249822</td>\n",
       "      <td>-0.266445</td>\n",
       "      <td>-1.028125</td>\n",
       "      <td>-0.998167</td>\n",
       "      <td>0.691195</td>\n",
       "      <td>-0.595242</td>\n",
       "      <td>-0.227325</td>\n",
       "      <td>-1.145856</td>\n",
       "    </tr>\n",
       "    <tr>\n",
       "      <td>1071</td>\n",
       "      <td>-0.765187</td>\n",
       "      <td>0.262584</td>\n",
       "      <td>0.056106</td>\n",
       "      <td>1.593404</td>\n",
       "      <td>-0.054249</td>\n",
       "      <td>-0.371640</td>\n",
       "      <td>0.672705</td>\n",
       "      <td>-0.204560</td>\n",
       "      <td>0.055561</td>\n",
       "      <td>0.250976</td>\n",
       "      <td>0.507076</td>\n",
       "    </tr>\n",
       "    <tr>\n",
       "      <td>...</td>\n",
       "      <td>...</td>\n",
       "      <td>...</td>\n",
       "      <td>...</td>\n",
       "      <td>...</td>\n",
       "      <td>...</td>\n",
       "      <td>...</td>\n",
       "      <td>...</td>\n",
       "      <td>...</td>\n",
       "      <td>...</td>\n",
       "      <td>...</td>\n",
       "      <td>...</td>\n",
       "    </tr>\n",
       "    <tr>\n",
       "      <td>584</td>\n",
       "      <td>0.574292</td>\n",
       "      <td>-0.645235</td>\n",
       "      <td>0.624148</td>\n",
       "      <td>-0.249822</td>\n",
       "      <td>-0.499860</td>\n",
       "      <td>-0.371640</td>\n",
       "      <td>-0.461101</td>\n",
       "      <td>0.905747</td>\n",
       "      <td>-0.334921</td>\n",
       "      <td>-0.047962</td>\n",
       "      <td>-0.227561</td>\n",
       "    </tr>\n",
       "    <tr>\n",
       "      <td>178</td>\n",
       "      <td>0.283101</td>\n",
       "      <td>-0.858840</td>\n",
       "      <td>1.088909</td>\n",
       "      <td>-0.320716</td>\n",
       "      <td>0.200385</td>\n",
       "      <td>2.160516</td>\n",
       "      <td>2.940318</td>\n",
       "      <td>0.423005</td>\n",
       "      <td>-1.766687</td>\n",
       "      <td>2.223964</td>\n",
       "      <td>-1.054027</td>\n",
       "    </tr>\n",
       "    <tr>\n",
       "      <td>1335</td>\n",
       "      <td>-1.347570</td>\n",
       "      <td>0.262584</td>\n",
       "      <td>-0.357016</td>\n",
       "      <td>-0.108036</td>\n",
       "      <td>-0.266445</td>\n",
       "      <td>-0.090289</td>\n",
       "      <td>0.105802</td>\n",
       "      <td>-1.094951</td>\n",
       "      <td>1.747648</td>\n",
       "      <td>0.071613</td>\n",
       "      <td>1.884520</td>\n",
       "    </tr>\n",
       "    <tr>\n",
       "      <td>1138</td>\n",
       "      <td>-0.415758</td>\n",
       "      <td>0.048980</td>\n",
       "      <td>-1.286539</td>\n",
       "      <td>-0.604289</td>\n",
       "      <td>-0.054249</td>\n",
       "      <td>0.097278</td>\n",
       "      <td>-0.461101</td>\n",
       "      <td>-0.440567</td>\n",
       "      <td>0.380962</td>\n",
       "      <td>-0.884988</td>\n",
       "      <td>-0.043901</td>\n",
       "    </tr>\n",
       "    <tr>\n",
       "      <td>1288</td>\n",
       "      <td>-0.532234</td>\n",
       "      <td>-0.324828</td>\n",
       "      <td>0.985629</td>\n",
       "      <td>-0.249822</td>\n",
       "      <td>0.561117</td>\n",
       "      <td>-0.840558</td>\n",
       "      <td>-0.789308</td>\n",
       "      <td>-0.129466</td>\n",
       "      <td>0.055561</td>\n",
       "      <td>-0.167537</td>\n",
       "      <td>0.047928</td>\n",
       "    </tr>\n",
       "  </tbody>\n",
       "</table>\n",
       "<p>272 rows × 11 columns</p>\n",
       "</div>"
      ],
      "text/plain": [
       "      fixed acidity  volatile acidity  citric acid  residual sugar  chlorides  \\\n",
       "604        0.632531          0.449488     0.056106        0.459111  -0.011810   \n",
       "317        2.088487          0.262584     2.018432       -0.037142  -0.330103   \n",
       "1182      -1.114617          0.209183    -0.666857        0.955364  -0.372542   \n",
       "224        0.632531         -1.019043     0.520867       -0.249822  -0.266445   \n",
       "1071      -0.765187          0.262584     0.056106        1.593404  -0.054249   \n",
       "...             ...               ...          ...             ...        ...   \n",
       "584        0.574292         -0.645235     0.624148       -0.249822  -0.499860   \n",
       "178        0.283101         -0.858840     1.088909       -0.320716   0.200385   \n",
       "1335      -1.347570          0.262584    -0.357016       -0.108036  -0.266445   \n",
       "1138      -0.415758          0.048980    -1.286539       -0.604289  -0.054249   \n",
       "1288      -0.532234         -0.324828     0.985629       -0.249822   0.561117   \n",
       "\n",
       "      free sulfur dioxide  total sulfur dioxide   density        pH  \\\n",
       "604              0.191061              0.762216  1.817593 -0.009520   \n",
       "317             -0.934341             -0.282079  1.334851 -1.701607   \n",
       "1182             1.035113              0.792053 -0.011463  0.055561   \n",
       "224             -1.028125             -0.998167  0.691195 -0.595242   \n",
       "1071            -0.371640              0.672705 -0.204560  0.055561   \n",
       "...                   ...                   ...       ...       ...   \n",
       "584             -0.371640             -0.461101  0.905747 -0.334921   \n",
       "178              2.160516              2.940318  0.423005 -1.766687   \n",
       "1335            -0.090289              0.105802 -1.094951  1.747648   \n",
       "1138             0.097278             -0.461101 -0.440567  0.380962   \n",
       "1288            -0.840558             -0.789308 -0.129466  0.055561   \n",
       "\n",
       "      sulphates   alcohol  \n",
       "604   -0.765413 -0.686708  \n",
       "317   -0.586050 -0.411220  \n",
       "1182  -1.064350 -1.145856  \n",
       "224   -0.227325 -1.145856  \n",
       "1071   0.250976  0.507076  \n",
       "...         ...       ...  \n",
       "584   -0.047962 -0.227561  \n",
       "178    2.223964 -1.054027  \n",
       "1335   0.071613  1.884520  \n",
       "1138  -0.884988 -0.043901  \n",
       "1288  -0.167537  0.047928  \n",
       "\n",
       "[272 rows x 11 columns]"
      ]
     },
     "execution_count": 11,
     "metadata": {},
     "output_type": "execute_result"
    }
   ],
   "source": [
    "X_test_norm = (X_test - X_train.mean())/X_train.std()\n",
    "X_train_norm = (X_train - X_train.mean())/X_train.std()\n",
    "X_test_norm"
   ]
  },
  {
   "cell_type": "markdown",
   "metadata": {
    "id": "Jp4J8Pk4B4Os"
   },
   "source": [
    "### 2. KNN regression\n",
    "- Implement naive K nearest neighbour regression as a function only using python and numpy. The signature of the function should be:\n",
    "```python\n",
    "def knn_regression(x_test, x_train, y_train, k=20):\n",
    "        \"\"\"Return prediction with knn regression.\"\"\"\n",
    "        .\n",
    "        .\n",
    "        .\n",
    "        return y_pred\n",
    "```\n",
    "- Use Euclidean distance as a measure of distance.\n",
    "- Make prediction with k=20 for the test set using the training data.\n",
    "- Plot the true and the predicted values from the test set on a scatterplot.\n",
    "\n",
    "-----"
   ]
  },
  {
   "cell_type": "code",
   "execution_count": 12,
   "metadata": {},
   "outputs": [],
   "source": [
    "def accuracy(arr1, arr2):\n",
    "    \"\"\"arr1: train\n",
    "       arr2: test\n",
    "       \"\"\"\n",
    "    values,count = np.unique(arr1 - arr2, return_counts=True)\n",
    "    return count[values == 0][0]/sum(count)"
   ]
  },
  {
   "cell_type": "code",
   "execution_count": 13,
   "metadata": {},
   "outputs": [],
   "source": [
    "def euclidean(p_1,p_2):\n",
    "    p_1 = np.array(p_1)\n",
    "    p_2 = np.array(p_2)\n",
    "    return np.linalg.norm(p_1 - p_2)\n",
    "\n",
    "def knn_regression(x_test, x_train, y_train, k=20):\n",
    "    \"\"\"Return prediction with knn regression.\n",
    "    \"\"\"\n",
    "    y_pred = []\n",
    "    for p_test in x_test.to_numpy():\n",
    "        distances = np.empty(len(X_train)) #create empty array for holding distances\n",
    "        i = 0 \n",
    "        for p_train in x_train.to_numpy(): #loop through X_train normalised values\n",
    "            d = euclidean(p_test,p_train) #calculate the euclidean distance\n",
    "            distances[i] = d #store\n",
    "            i = i + 1\n",
    "        nn = distances.argsort()[:k]\n",
    "        q_kY = y_train.to_numpy()[nn] #quality\n",
    "        q_value, q_count = np.unique(q_kY, return_counts=True) #select the occuring qualities\n",
    "        q_max = np.random.choice(q_value[max(q_count) == q_count]) #select the highest occuring quality (if more with same occurance, randomly)    \n",
    "        y_pred.append(q_max)\n",
    "    return y_pred"
   ]
  },
  {
   "cell_type": "code",
   "execution_count": 14,
   "metadata": {},
   "outputs": [],
   "source": [
    "y_pred_1 = knn_regression(X_test_norm, X_train_norm, y_train)"
   ]
  },
  {
   "cell_type": "code",
   "execution_count": 15,
   "metadata": {},
   "outputs": [
    {
     "data": {
      "text/plain": [
       "0.5882352941176471"
      ]
     },
     "execution_count": 15,
     "metadata": {},
     "output_type": "execute_result"
    }
   ],
   "source": [
    "accuracy(y_test,y_pred_1)"
   ]
  },
  {
   "cell_type": "code",
   "execution_count": 16,
   "metadata": {},
   "outputs": [
    {
     "data": {
      "image/png": "[encoded data removed]",
      "text/plain": [
       "<Figure size 720x720 with 1 Axes>"
      ]
     },
     "metadata": {
      "needs_background": "light"
     },
     "output_type": "display_data"
    }
   ],
   "source": [
    "val_1, _ = np.unique(y_test-y_pred_1,return_counts=True)\n",
    "plt.figure(figsize=(10,10))\n",
    "plt.hist(y_test-y_pred_1, bins=len(val_1))\n",
    "plt.title('KNN regression', fontsize=20)\n",
    "plt.xlabel('Delta between test - prediction', fontsize=20)\n",
    "plt.ylabel('Counts', fontsize=20)\n",
    "plt.grid(True)"
   ]
  },
  {
   "cell_type": "code",
   "execution_count": 17,
   "metadata": {},
   "outputs": [
    {
     "data": {
      "image/png": "[encoded data removed]",
      "text/plain": [
       "<Figure size 720x720 with 1 Axes>"
      ]
     },
     "metadata": {
      "needs_background": "light"
     },
     "output_type": "display_data"
    }
   ],
   "source": [
    "plt.figure(figsize=(10,10))\n",
    "plt.scatter(y_test,y_pred_1,s=200,alpha=0.25,marker='x',color='red')\n",
    "plt.title('KNN regression', fontsize=20)\n",
    "plt.xlabel('Test quality', fontsize=20)\n",
    "plt.ylabel('Predicted quality', fontsize=20)\n",
    "plt.grid(True)"
   ]
  },
  {
   "cell_type": "markdown",
   "metadata": {
    "id": "Jp4J8Pk4B4Os"
   },
   "source": [
    "### 3. Weighted KNN regression\n",
    "- Modify the knn_regression function by adding a weight to each neighbor that is inversely proportional to the distance.\n",
    "```python\n",
    "def knn_weighted_regression(x_test,x_train,y_train,k=20):\n",
    "    \"\"\"Return prediction with weighted knn regression.\"\"\"\n",
    "    ...\n",
    "    return y_pred\n",
    "```\n",
    "- Make prediction with k=20 for the test set using the training data.\n",
    "- Plot the true and the predicted values from the test set on a scatterplot.\n",
    "\n",
    "-----"
   ]
  },
  {
   "cell_type": "code",
   "execution_count": 18,
   "metadata": {},
   "outputs": [],
   "source": [
    "def knn_weighted_regression(x_test,x_train,y_train,k=20):\n",
    "    \"\"\"Return prediction with weighted knn regression\"\"\"\n",
    "    y_pred = []\n",
    "    for p_test in x_test.to_numpy():\n",
    "        distances = np.empty(len(X_train)) #create empty array for holding distances\n",
    "        i = 0 \n",
    "        for p_train in x_train.to_numpy(): #loop through X_train normalised values\n",
    "            d = euclidean(p_test,p_train) #calculate the euclidean distance\n",
    "            distances[i] = d #store\n",
    "            i = i + 1\n",
    "        nn = distances.argsort()[:k] #sorted in descending order->last k will be the smallest->closest\n",
    "        q_kY = y_train.to_numpy()[nn] #quality\n",
    "        q_value, q_count = np.unique(q_kY, return_counts=True) #select the occuring qualities\n",
    "        #weighting\n",
    "        weights = 1/distances[nn]\n",
    "        #creates dataframe from the weights with indices as the qualities of the points\n",
    "        df_weights = pd.DataFrame(weights,index=y_train.to_numpy()[nn])\n",
    "        #sums up based on the correct indices\n",
    "        weighted = []\n",
    "        for i_val in q_value:\n",
    "            weighted.append(df_weights[df_weights.index == i_val].sum())\n",
    "        #swap the list to array\n",
    "        weighted = np.asarray(weighted)\n",
    "        #mask based on the maximal weight\n",
    "        mask = max(weighted) == weighted\n",
    "        mask = np.reshape(mask, np.shape(mask)[0])\n",
    "    #    print(weighted)\n",
    "    #    print(mask)\n",
    "    #    print(q_value)\n",
    "        #we can use the fact np.unique returns sorted array\n",
    "        q_max = int(q_value[mask])\n",
    "        y_pred.append(q_max)\n",
    "    return y_pred"
   ]
  },
  {
   "cell_type": "code",
   "execution_count": 19,
   "metadata": {},
   "outputs": [],
   "source": [
    "y_pred_2 = knn_weighted_regression(X_test_norm, X_train_norm, y_train)"
   ]
  },
  {
   "cell_type": "code",
   "execution_count": 20,
   "metadata": {},
   "outputs": [
    {
     "data": {
      "image/png": "[encoded data removed]",
      "text/plain": [
       "<Figure size 720x720 with 1 Axes>"
      ]
     },
     "metadata": {
      "needs_background": "light"
     },
     "output_type": "display_data"
    }
   ],
   "source": [
    "val_2, _ = np.unique(y_test-y_pred_2,return_counts=True)\n",
    "plt.figure(figsize=(10,10))\n",
    "plt.hist(y_test-y_pred_2, bins=len(val_2))\n",
    "plt.title('KNN weighted regression', fontsize=20)\n",
    "plt.xlabel('Delta between test - prediction', fontsize=20)\n",
    "plt.ylabel('Counts', fontsize=20)\n",
    "plt.grid(True)"
   ]
  },
  {
   "cell_type": "code",
   "execution_count": 21,
   "metadata": {},
   "outputs": [
    {
     "data": {
      "image/png": "[encoded data removed]",
      "text/plain": [
       "<Figure size 720x720 with 1 Axes>"
      ]
     },
     "metadata": {
      "needs_background": "light"
     },
     "output_type": "display_data"
    }
   ],
   "source": [
    "plt.figure(figsize=(10,10))\n",
    "plt.scatter(y_test,y_pred_2,s=200,alpha=0.2,marker='x',color='red')\n",
    "plt.title('KNN Weighted regression', fontsize=20)\n",
    "plt.xlabel('Test quality', fontsize=20)\n",
    "plt.ylabel('Predicted quality', fontsize=20)\n",
    "plt.grid(True)"
   ]
  },
  {
   "cell_type": "code",
   "execution_count": 22,
   "metadata": {},
   "outputs": [
    {
     "data": {
      "text/plain": [
       "0.6029411764705882"
      ]
     },
     "execution_count": 22,
     "metadata": {},
     "output_type": "execute_result"
    }
   ],
   "source": [
    "accuracy(y_test,y_pred_2)"
   ]
  },
  {
   "cell_type": "markdown",
   "metadata": {
    "id": "Jp4J8Pk4B4Os"
   },
   "source": [
    "### 4. KNN classification\n",
    "- Implement the K-nearest neighbors classification algorithm using only pure Python3 and numpy! Use L2 distance to find the neighbors. The prediction for each class should be the number of neighbors supporting the given class divided by k (for example if k is 5 and we have 3 neighbors for class A, 2 for class B and 0 for class C neighbors, then the prediction for class A should be 3/5, for class B 2/5, for class C 0/5). Use the one-hot encoded labels!\n",
    "```python\n",
    "def knn_classifier(X_train, y_train, X_test, k=20):\n",
    "  \"\"\"Return prediction with knn classification.\"\"\"\n",
    "    ...\n",
    "    return y_pred\n",
    "```\n",
    "\n",
    "- Make prediction with k=20 for the test set using the training data.\n",
    "\n",
    "-----"
   ]
  },
  {
   "cell_type": "code",
   "execution_count": 23,
   "metadata": {},
   "outputs": [],
   "source": [
    "def knn_classifier(X_train, y_train, X_test, k=20):\n",
    "    \"\"\"return prediction with knn classification\"\"\"\n",
    "    y_pred = []\n",
    "    for p_test in X_test.to_numpy():\n",
    "        distances = np.empty(len(X_train)) #create empty array for holding distances\n",
    "        i = 0 \n",
    "        for p_train in X_train.to_numpy(): #loop through X_train normalised values\n",
    "            d = euclidean(p_test,p_train) #calculate the euclidean distance\n",
    "            distances[i] = d #store\n",
    "            i = i + 1\n",
    "        nn = distances.argsort()[:k]\n",
    "        q_kY = y_train.to_numpy()[nn] #onehot\n",
    "        q_value, q_count = np.unique(q_kY, return_counts=True, axis=0) #select the occuring qualities\n",
    "        q_choice = np.random.choice(range(0,len(q_count)), p=q_count/k) #select index of the rows\n",
    "        y_pred.append(q_value[q_choice])\n",
    "    return np.array(y_pred)"
   ]
  },
  {
   "cell_type": "code",
   "execution_count": 24,
   "metadata": {},
   "outputs": [],
   "source": [
    "y_pred_3 = knn_classifier(X_train_norm, onehot_train, X_test_norm)"
   ]
  },
  {
   "cell_type": "code",
   "execution_count": 25,
   "metadata": {},
   "outputs": [],
   "source": [
    "test_onehot_vals = pd.DataFrame(onehot_test, columns=onehot_test.columns).idxmax(1).values\n",
    "train_onehot_vals = pd.DataFrame(y_pred_3,columns=onehot_train.columns).idxmax(1).values"
   ]
  },
  {
   "cell_type": "code",
   "execution_count": 26,
   "metadata": {},
   "outputs": [
    {
     "data": {
      "text/plain": [
       "0.4632352941176471"
      ]
     },
     "execution_count": 26,
     "metadata": {},
     "output_type": "execute_result"
    }
   ],
   "source": [
    "accuracy(train_onehot_vals,test_onehot_vals)"
   ]
  },
  {
   "cell_type": "code",
   "execution_count": 27,
   "metadata": {},
   "outputs": [
    {
     "data": {
      "image/png": "[encoded data removed]",
      "text/plain": [
       "<Figure size 720x720 with 1 Axes>"
      ]
     },
     "metadata": {
      "needs_background": "light"
     },
     "output_type": "display_data"
    }
   ],
   "source": [
    "val_3, _ = np.unique(test_onehot_vals-train_onehot_vals,return_counts=True)\n",
    "plt.figure(figsize=(10,10))\n",
    "plt.hist(y_test-train_onehot_vals, bins=len(val_3))\n",
    "plt.title('KNN classification', fontsize=20)\n",
    "plt.xlabel('Delta between test - prediction', fontsize=20)\n",
    "plt.ylabel('Counts', fontsize=20)\n",
    "plt.grid(True)"
   ]
  },
  {
   "cell_type": "code",
   "execution_count": 28,
   "metadata": {},
   "outputs": [
    {
     "data": {
      "image/png": "[encoded data removed]",
      "text/plain": [
       "<Figure size 720x720 with 1 Axes>"
      ]
     },
     "metadata": {
      "needs_background": "light"
     },
     "output_type": "display_data"
    }
   ],
   "source": [
    "plt.figure(figsize=(10,10))\n",
    "plt.scatter(test_onehot_vals,train_onehot_vals,s=200,alpha=0.20,marker='x',color='red')\n",
    "plt.title('KNN Classification', fontsize=20)\n",
    "plt.xlabel('Test quality', fontsize=20)\n",
    "plt.ylabel('Predicted quality', fontsize=20)\n",
    "plt.grid(True)"
   ]
  },
  {
   "cell_type": "markdown",
   "metadata": {
    "id": "Jp4J8Pk4B4Os"
   },
   "source": [
    "### 5. Compare the models\n",
    "- Make a baseline model: this can be the mean value of the training labels for every sample.\n",
    "- Compare the regression and classification models to the baseline: You can do this by rounding the continous predictions of the regression to the nearest integer. Calculate the accuracy (fraction of correctly classified samples) of the models.\n",
    "- Check your KNN implementations by running the sklearn built-in model. \n",
    "You can run it for any model you implented. The predictions should be the same as yours. Some help:\n",
    "  ```python\n",
    "  from sklearn.neighbors import KNeighborsRegressor, KNeighborsClassifier\n",
    "  knn= KNeighborsRegressor(20, weights=\"distance\")\n",
    "  #knn= KNeighborsClassifier(20, weights=\"uniform\")\n",
    "  knn.fit(X_train, y_train)\n",
    "  knn.predict(X_test)\n",
    "  ```\n",
    "- Write down your observations.\n",
    "----"
   ]
  },
  {
   "cell_type": "code",
   "execution_count": 29,
   "metadata": {},
   "outputs": [],
   "source": [
    "from sklearn.neighbors import KNeighborsRegressor, KNeighborsClassifier"
   ]
  },
  {
   "cell_type": "code",
   "execution_count": 30,
   "metadata": {},
   "outputs": [],
   "source": [
    "knn= KNeighborsRegressor(20, weights=\"distance\")\n",
    "knn.fit(X_train, y_train)\n",
    "knn_predict_1 = np.round(knn.predict(X_test))"
   ]
  },
  {
   "cell_type": "code",
   "execution_count": 31,
   "metadata": {},
   "outputs": [
    {
     "data": {
      "text/plain": [
       "0.5"
      ]
     },
     "execution_count": 31,
     "metadata": {},
     "output_type": "execute_result"
    }
   ],
   "source": [
    "accuracy(knn_predict_1, y_test)"
   ]
  },
  {
   "cell_type": "code",
   "execution_count": 32,
   "metadata": {},
   "outputs": [
    {
     "data": {
      "image/png": "[encoded data removed]",
      "text/plain": [
       "<Figure size 720x720 with 1 Axes>"
      ]
     },
     "metadata": {
      "needs_background": "light"
     },
     "output_type": "display_data"
    }
   ],
   "source": [
    "val_4, _ = np.unique(y_test-knn_predict_1,return_counts=True)\n",
    "plt.figure(figsize=(10,10))\n",
    "plt.hist(y_test-knn_predict_1, bins=len(val_4))\n",
    "plt.title('SK KNN Regressor', fontsize=20)\n",
    "plt.xlabel('Delta between test - prediction', fontsize=20)\n",
    "plt.ylabel('Counts', fontsize=20)\n",
    "plt.grid(True)"
   ]
  },
  {
   "cell_type": "code",
   "execution_count": 33,
   "metadata": {},
   "outputs": [
    {
     "data": {
      "image/png": "[encoded data removed]",
      "text/plain": [
       "<Figure size 720x720 with 1 Axes>"
      ]
     },
     "metadata": {
      "needs_background": "light"
     },
     "output_type": "display_data"
    }
   ],
   "source": [
    "plt.figure(figsize=(10,10))\n",
    "plt.scatter(y_test,knn_predict_1,s=200,alpha=0.25,marker='x',color='red')\n",
    "plt.title('SK - KNN Regressor', fontsize=20)\n",
    "plt.xlabel('Test quality', fontsize=20)\n",
    "plt.ylabel('Predicted quality', fontsize=20)\n",
    "plt.grid(True)"
   ]
  },
  {
   "cell_type": "code",
   "execution_count": 34,
   "metadata": {},
   "outputs": [],
   "source": [
    "knn= KNeighborsClassifier(20, weights=\"uniform\")\n",
    "knn.fit(X_train, y_train)\n",
    "knn_predict_2 = np.round(knn.predict(X_test))"
   ]
  },
  {
   "cell_type": "code",
   "execution_count": 35,
   "metadata": {},
   "outputs": [
    {
     "data": {
      "text/plain": [
       "0.48161764705882354"
      ]
     },
     "execution_count": 35,
     "metadata": {},
     "output_type": "execute_result"
    }
   ],
   "source": [
    "accuracy(knn_predict_2, y_test)"
   ]
  },
  {
   "cell_type": "code",
   "execution_count": 36,
   "metadata": {},
   "outputs": [
    {
     "data": {
      "image/png": "[encoded data removed]",
      "text/plain": [
       "<Figure size 720x720 with 1 Axes>"
      ]
     },
     "metadata": {
      "needs_background": "light"
     },
     "output_type": "display_data"
    }
   ],
   "source": [
    "val_5, _ = np.unique(y_test-knn_predict_2,return_counts=True)\n",
    "plt.figure(figsize=(10,10))\n",
    "plt.hist(y_test-knn_predict_2, bins=len(val_5))\n",
    "plt.title('SK KNN classification', fontsize=20)\n",
    "plt.xlabel('Delta between test - prediction', fontsize=20)\n",
    "plt.ylabel('Counts', fontsize=20)\n",
    "plt.grid(True)"
   ]
  },
  {
   "cell_type": "code",
   "execution_count": 37,
   "metadata": {},
   "outputs": [
    {
     "data": {
      "image/png": "[encoded data removed]",
      "text/plain": [
       "<Figure size 720x720 with 1 Axes>"
      ]
     },
     "metadata": {
      "needs_background": "light"
     },
     "output_type": "display_data"
    }
   ],
   "source": [
    "plt.figure(figsize=(10,10))\n",
    "plt.scatter(y_test,knn_predict_2,s=200,alpha=0.25,marker='x',color='red')\n",
    "plt.title('SK - KNN Classification', fontsize=20)\n",
    "plt.xlabel('Test quality', fontsize=20)\n",
    "plt.ylabel('Predicted quality', fontsize=20)\n",
    "plt.grid(True)"
   ]
  },
  {
   "cell_type": "code",
   "execution_count": 38,
   "metadata": {},
   "outputs": [
    {
     "data": {
      "text/plain": [
       "(array([3, 4, 5, 6, 7, 8]), array([ 10,  53, 577, 535, 167,  17]))"
      ]
     },
     "execution_count": 38,
     "metadata": {},
     "output_type": "execute_result"
    }
   ],
   "source": [
    "np.unique(wines.quality, return_counts=True)"
   ]
  },
  {
   "cell_type": "markdown",
   "metadata": {},
   "source": [
    "I achieved similar accuracy with my own KNN than with sklearn. Although with much slower rate.\n",
    "We can observe that there are not too many 3,4,8, the accuracy of these are not expected to be high - visible on plots. Therefore during split, we even have less 3 and 8 and then to check it in test, almost impossible to predict. 5,6 7 are much easier to predict."
   ]
  },
  {
   "cell_type": "markdown",
   "metadata": {
    "id": "Jp4J8Pk4B4Os"
   },
   "source": [
    "### Hints:\n",
    "- On total you can get 10 points for fully completing all tasks.\n",
    "- Decorate your notebook with questions, explanation etc, make it self contained and understandable!\n",
    "- Comment your code when necessary!\n",
    "- Write functions for repetitive tasks!\n",
    "- Use the pandas package for data loading and handling\n",
    "- Use matplotlib and seaborn for plotting or bokeh and plotly for interactive investigation\n",
    "- Use the scikit learn package for almost everything\n",
    "- Use for loops only if it is really necessary!\n",
    "- Code sharing is not allowed between students! Sharing code will result in zero points.\n",
    "- If you use code found on web, it is OK, but, make its source clear!"
   ]
  },
  {
   "cell_type": "code",
   "execution_count": null,
   "metadata": {},
   "outputs": [],
   "source": []
  }
 ],
 "metadata": {
  "colab": {
   "collapsed_sections": [],
   "include_colab_link": true,
   "name": "lab03.ipynb",
   "provenance": []
  },
  "kernelspec": {
   "display_name": "Python 3",
   "language": "python",
   "name": "python3"
  },
  "language_info": {
   "codemirror_mode": {
    "name": "ipython",
    "version": 3
   },
   "file_extension": ".py",
   "mimetype": "text/x-python",
   "name": "python",
   "nbconvert_exporter": "python",
   "pygments_lexer": "ipython3",
   "version": "3.7.4"
  }
 },
 "nbformat": 4,
 "nbformat_minor": 1
}
