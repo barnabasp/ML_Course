{
 "cells": [
  {
   "cell_type": "markdown",
   "metadata": {
    "colab_type": "text",
    "id": "view-in-github"
   },
   "source": [
    "<a href=\"https://colab.research.google.com/gist/qbeer/c7630c11339b659843e32e39eb732e42/hw5_raw.ipynb\" target=\"_parent\"><img src=\"https://colab.research.google.com/assets/colab-badge.svg\" alt=\"Open In Colab\"/></a>"
   ]
  },
  {
   "cell_type": "code",
   "execution_count": 1,
   "metadata": {},
   "outputs": [
    {
     "name": "stderr",
     "output_type": "stream",
     "text": [
      "/Users/barnabasp/opt/anaconda3/lib/python3.7/site-packages/sklearn/linear_model/least_angle.py:30: DeprecationWarning: `np.float` is a deprecated alias for the builtin `float`. To silence this warning, use `float` by itself. Doing this will not modify any behavior and is safe. If you specifically wanted the numpy scalar type, use `np.float64` here.\n",
      "Deprecated in NumPy 1.20; for more details and guidance: https://numpy.org/devdocs/release/1.20.0-notes.html#deprecations\n",
      "  method='lar', copy_X=True, eps=np.finfo(np.float).eps,\n",
      "/Users/barnabasp/opt/anaconda3/lib/python3.7/site-packages/sklearn/linear_model/least_angle.py:167: DeprecationWarning: `np.float` is a deprecated alias for the builtin `float`. To silence this warning, use `float` by itself. Doing this will not modify any behavior and is safe. If you specifically wanted the numpy scalar type, use `np.float64` here.\n",
      "Deprecated in NumPy 1.20; for more details and guidance: https://numpy.org/devdocs/release/1.20.0-notes.html#deprecations\n",
      "  method='lar', copy_X=True, eps=np.finfo(np.float).eps,\n",
      "/Users/barnabasp/opt/anaconda3/lib/python3.7/site-packages/sklearn/linear_model/least_angle.py:284: DeprecationWarning: `np.float` is a deprecated alias for the builtin `float`. To silence this warning, use `float` by itself. Doing this will not modify any behavior and is safe. If you specifically wanted the numpy scalar type, use `np.float64` here.\n",
      "Deprecated in NumPy 1.20; for more details and guidance: https://numpy.org/devdocs/release/1.20.0-notes.html#deprecations\n",
      "  eps=np.finfo(np.float).eps, copy_Gram=True, verbose=0,\n",
      "/Users/barnabasp/opt/anaconda3/lib/python3.7/site-packages/sklearn/linear_model/least_angle.py:862: DeprecationWarning: `np.float` is a deprecated alias for the builtin `float`. To silence this warning, use `float` by itself. Doing this will not modify any behavior and is safe. If you specifically wanted the numpy scalar type, use `np.float64` here.\n",
      "Deprecated in NumPy 1.20; for more details and guidance: https://numpy.org/devdocs/release/1.20.0-notes.html#deprecations\n",
      "  eps=np.finfo(np.float).eps, copy_X=True, fit_path=True,\n",
      "/Users/barnabasp/opt/anaconda3/lib/python3.7/site-packages/sklearn/linear_model/least_angle.py:1101: DeprecationWarning: `np.float` is a deprecated alias for the builtin `float`. To silence this warning, use `float` by itself. Doing this will not modify any behavior and is safe. If you specifically wanted the numpy scalar type, use `np.float64` here.\n",
      "Deprecated in NumPy 1.20; for more details and guidance: https://numpy.org/devdocs/release/1.20.0-notes.html#deprecations\n",
      "  eps=np.finfo(np.float).eps, copy_X=True, fit_path=True,\n",
      "/Users/barnabasp/opt/anaconda3/lib/python3.7/site-packages/sklearn/linear_model/least_angle.py:1127: DeprecationWarning: `np.float` is a deprecated alias for the builtin `float`. To silence this warning, use `float` by itself. Doing this will not modify any behavior and is safe. If you specifically wanted the numpy scalar type, use `np.float64` here.\n",
      "Deprecated in NumPy 1.20; for more details and guidance: https://numpy.org/devdocs/release/1.20.0-notes.html#deprecations\n",
      "  eps=np.finfo(np.float).eps, positive=False):\n",
      "/Users/barnabasp/opt/anaconda3/lib/python3.7/site-packages/sklearn/linear_model/least_angle.py:1362: DeprecationWarning: `np.float` is a deprecated alias for the builtin `float`. To silence this warning, use `float` by itself. Doing this will not modify any behavior and is safe. If you specifically wanted the numpy scalar type, use `np.float64` here.\n",
      "Deprecated in NumPy 1.20; for more details and guidance: https://numpy.org/devdocs/release/1.20.0-notes.html#deprecations\n",
      "  max_n_alphas=1000, n_jobs=None, eps=np.finfo(np.float).eps,\n",
      "/Users/barnabasp/opt/anaconda3/lib/python3.7/site-packages/sklearn/linear_model/least_angle.py:1602: DeprecationWarning: `np.float` is a deprecated alias for the builtin `float`. To silence this warning, use `float` by itself. Doing this will not modify any behavior and is safe. If you specifically wanted the numpy scalar type, use `np.float64` here.\n",
      "Deprecated in NumPy 1.20; for more details and guidance: https://numpy.org/devdocs/release/1.20.0-notes.html#deprecations\n",
      "  max_n_alphas=1000, n_jobs=None, eps=np.finfo(np.float).eps,\n",
      "/Users/barnabasp/opt/anaconda3/lib/python3.7/site-packages/sklearn/linear_model/least_angle.py:1738: DeprecationWarning: `np.float` is a deprecated alias for the builtin `float`. To silence this warning, use `float` by itself. Doing this will not modify any behavior and is safe. If you specifically wanted the numpy scalar type, use `np.float64` here.\n",
      "Deprecated in NumPy 1.20; for more details and guidance: https://numpy.org/devdocs/release/1.20.0-notes.html#deprecations\n",
      "  eps=np.finfo(np.float).eps, copy_X=True, positive=False):\n"
     ]
    }
   ],
   "source": [
    "import pandas as pd\n",
    "import numpy as np\n",
    "import matplotlib.pyplot as plt\n",
    "import re\n",
    "from sklearn.linear_model import LinearRegression"
   ]
  },
  {
   "cell_type": "markdown",
   "metadata": {
    "id": "b17I_WoP0eSE"
   },
   "source": [
    "## Logistic regression\n",
    "\n",
    "### 1. Download data from https://science.sciencemag.org/content/359/6378/926 (supplementary materials).\n",
    "\n",
    "* read the abstract of the article to get familiar with data origin\n",
    "* open the data in excel and get familiar with its content\n",
    "* load the protein level data (you need to figure out which one is that) as a pandas dataframe\n",
    "* handle missing values and convert features to numeric values when it is needed\n",
    "* get rid of the unnecessary (which does not encode protein levels or the tumor type) columns and the CancerSEEK results"
   ]
  },
  {
   "cell_type": "code",
   "execution_count": 2,
   "metadata": {},
   "outputs": [],
   "source": [
    "orig_df = pd.read_excel('aar3247_cohen_sm_tables-s1-s11.xlsx', sheet_name=5,skiprows=2)\n",
    "df = orig_df.copy()"
   ]
  },
  {
   "cell_type": "code",
   "execution_count": 3,
   "metadata": {},
   "outputs": [],
   "source": [
    "def value_integerizer(dataframe, column):\n",
    "    col_name, _ = np.unique(dataframe[column].astype(str),return_counts=True)\n",
    "    dataframe[column] = dataframe[column].replace(to_replace=col_name, value=([x+1 for x in range(len(col_name))]))\n",
    "    return dataframe\n",
    "\n",
    "def accuracy(arr1, arr2):\n",
    "    \"\"\"arr1: train\n",
    "       arr2: test\n",
    "       \"\"\"\n",
    "    values,count = np.unique(arr1 - arr2, return_counts=True)\n",
    "    return count[values == 0][0]/sum(count)"
   ]
  },
  {
   "cell_type": "code",
   "execution_count": 4,
   "metadata": {},
   "outputs": [
    {
     "name": "stdout",
     "output_type": "stream",
     "text": [
      "<class 'pandas.core.frame.DataFrame'>\n",
      "RangeIndex: 1821 entries, 0 to 1820\n",
      "Data columns (total 45 columns):\n",
      " #   Column                                Non-Null Count  Dtype  \n",
      "---  ------                                --------------  -----  \n",
      " 0   Patient ID #                          1820 non-null   object \n",
      " 1   Sample ID #                           1817 non-null   object \n",
      " 2   Tumor type                            1817 non-null   object \n",
      " 3   AJCC Stage                            1005 non-null   object \n",
      " 4   AFP (pg/ml)                           1817 non-null   object \n",
      " 5   Angiopoietin-2 (pg/ml)                1817 non-null   object \n",
      " 6   AXL (pg/ml)                           1811 non-null   float64\n",
      " 7   CA-125 (U/ml)                         1817 non-null   object \n",
      " 8   CA 15-3 (U/ml)                        1817 non-null   object \n",
      " 9   CA19-9 (U/ml)                         1817 non-null   object \n",
      " 10  CD44 (ng/ml)                          1811 non-null   object \n",
      " 11  CEA (pg/ml)                           1817 non-null   object \n",
      " 12  CYFRA 21-1 (pg/ml)                    1817 non-null   object \n",
      " 13  DKK1 (ng/ml)                          1817 non-null   object \n",
      " 14  Endoglin (pg/ml)                      1817 non-null   object \n",
      " 15  FGF2 (pg/ml)                          1817 non-null   object \n",
      " 16  Follistatin (pg/ml)                   1817 non-null   object \n",
      " 17  Galectin-3 (ng/ml)                    1817 non-null   object \n",
      " 18  G-CSF (pg/ml)                         1810 non-null   object \n",
      " 19  GDF15 (ng/ml)                         1817 non-null   object \n",
      " 20  HE4 (pg/ml)                           1817 non-null   object \n",
      " 21  HGF (pg/ml)                           1817 non-null   object \n",
      " 22  IL-6 (pg/ml)                          1817 non-null   object \n",
      " 23  IL-8 (pg/ml)                          1817 non-null   object \n",
      " 24  Kallikrein-6 (pg/ml)                  1811 non-null   object \n",
      " 25  Leptin (pg/ml)                        1817 non-null   object \n",
      " 26  Mesothelin (ng/ml)                    1811 non-null   object \n",
      " 27  Midkine (pg/ml)                       1811 non-null   object \n",
      " 28  Myeloperoxidase (ng/ml)               1817 non-null   object \n",
      " 29  NSE (ng/ml)                           1817 non-null   object \n",
      " 30  OPG (ng/ml)                           1817 non-null   object \n",
      " 31  OPN (pg/ml)                           1817 non-null   object \n",
      " 32  PAR (pg/ml)                           1811 non-null   object \n",
      " 33  Prolactin (pg/ml)                     1817 non-null   object \n",
      " 34  sEGFR (pg/ml)                         1811 non-null   object \n",
      " 35  sFas (pg/ml)                          1816 non-null   object \n",
      " 36  SHBG (nM)                             1817 non-null   object \n",
      " 37  sHER2/sEGFR2/sErbB2 (pg/ml)           1811 non-null   object \n",
      " 38  sPECAM-1 (pg/ml)                      1811 non-null   float64\n",
      " 39  TGFa (pg/ml)                          1817 non-null   object \n",
      " 40  Thrombospondin-2 (pg/ml)              1811 non-null   object \n",
      " 41  TIMP-1 (pg/ml)                        1817 non-null   object \n",
      " 42  TIMP-2 (pg/ml)                        1817 non-null   float64\n",
      " 43  CancerSEEK Logistic Regression Score  1817 non-null   float64\n",
      " 44  CancerSEEK Test Result                1817 non-null   object \n",
      "dtypes: float64(4), object(41)\n",
      "memory usage: 640.3+ KB\n"
     ]
    }
   ],
   "source": [
    "orig_df.info()"
   ]
  },
  {
   "cell_type": "code",
   "execution_count": 5,
   "metadata": {},
   "outputs": [
    {
     "data": {
      "text/html": [
       "<div>\n",
       "<style scoped>\n",
       "    .dataframe tbody tr th:only-of-type {\n",
       "        vertical-align: middle;\n",
       "    }\n",
       "\n",
       "    .dataframe tbody tr th {\n",
       "        vertical-align: top;\n",
       "    }\n",
       "\n",
       "    .dataframe thead th {\n",
       "        text-align: right;\n",
       "    }\n",
       "</style>\n",
       "<table border=\"1\" class=\"dataframe\">\n",
       "  <thead>\n",
       "    <tr style=\"text-align: right;\">\n",
       "      <th></th>\n",
       "      <th>Patient ID #</th>\n",
       "      <th>Sample ID #</th>\n",
       "      <th>Tumor type</th>\n",
       "      <th>AJCC Stage</th>\n",
       "      <th>AFP (pg/ml)</th>\n",
       "      <th>Angiopoietin-2 (pg/ml)</th>\n",
       "      <th>AXL (pg/ml)</th>\n",
       "      <th>CA-125 (U/ml)</th>\n",
       "      <th>CA 15-3 (U/ml)</th>\n",
       "      <th>CA19-9 (U/ml)</th>\n",
       "      <th>...</th>\n",
       "      <th>sFas (pg/ml)</th>\n",
       "      <th>SHBG (nM)</th>\n",
       "      <th>sHER2/sEGFR2/sErbB2 (pg/ml)</th>\n",
       "      <th>sPECAM-1 (pg/ml)</th>\n",
       "      <th>TGFa (pg/ml)</th>\n",
       "      <th>Thrombospondin-2 (pg/ml)</th>\n",
       "      <th>TIMP-1 (pg/ml)</th>\n",
       "      <th>TIMP-2 (pg/ml)</th>\n",
       "      <th>CancerSEEK Logistic Regression Score</th>\n",
       "      <th>CancerSEEK Test Result</th>\n",
       "    </tr>\n",
       "  </thead>\n",
       "  <tbody>\n",
       "    <tr>\n",
       "      <th>888</th>\n",
       "      <td>LCR 588</td>\n",
       "      <td>LCR 588 PLS1</td>\n",
       "      <td>Normal</td>\n",
       "      <td>NaN</td>\n",
       "      <td>2003.87</td>\n",
       "      <td>957.85</td>\n",
       "      <td>2674.11</td>\n",
       "      <td>12.5</td>\n",
       "      <td>20.62</td>\n",
       "      <td>20.76</td>\n",
       "      <td>...</td>\n",
       "      <td>*200.436</td>\n",
       "      <td>230.06</td>\n",
       "      <td>8619.04</td>\n",
       "      <td>9546.90</td>\n",
       "      <td>*16.692</td>\n",
       "      <td>5997.52</td>\n",
       "      <td>76809.87</td>\n",
       "      <td>72452.91</td>\n",
       "      <td>0.233768</td>\n",
       "      <td>Negative</td>\n",
       "    </tr>\n",
       "    <tr>\n",
       "      <th>889</th>\n",
       "      <td>LCR 589</td>\n",
       "      <td>LCR 589 PLS1</td>\n",
       "      <td>Normal</td>\n",
       "      <td>NaN</td>\n",
       "      <td>1477.71</td>\n",
       "      <td>955.15</td>\n",
       "      <td>2298.18</td>\n",
       "      <td>5.43</td>\n",
       "      <td>4.3</td>\n",
       "      <td>*16.344</td>\n",
       "      <td>...</td>\n",
       "      <td>*200.436</td>\n",
       "      <td>38.86</td>\n",
       "      <td>7382.92</td>\n",
       "      <td>7896.55</td>\n",
       "      <td>*16.692</td>\n",
       "      <td>2865.38</td>\n",
       "      <td>55109.08</td>\n",
       "      <td>47813.87</td>\n",
       "      <td>0.324800</td>\n",
       "      <td>Negative</td>\n",
       "    </tr>\n",
       "    <tr>\n",
       "      <th>890</th>\n",
       "      <td>LCR 590</td>\n",
       "      <td>LCR 590 PLS1</td>\n",
       "      <td>Normal</td>\n",
       "      <td>NaN</td>\n",
       "      <td>*913.98</td>\n",
       "      <td>1267.35</td>\n",
       "      <td>3851.64</td>\n",
       "      <td>8.93</td>\n",
       "      <td>15.4</td>\n",
       "      <td>*16.344</td>\n",
       "      <td>...</td>\n",
       "      <td>*200.436</td>\n",
       "      <td>51.79</td>\n",
       "      <td>6571.18</td>\n",
       "      <td>8355.38</td>\n",
       "      <td>*16.692</td>\n",
       "      <td>1233.01</td>\n",
       "      <td>44360.32</td>\n",
       "      <td>42867.39</td>\n",
       "      <td>0.334918</td>\n",
       "      <td>Negative</td>\n",
       "    </tr>\n",
       "    <tr>\n",
       "      <th>891</th>\n",
       "      <td>LCR 591</td>\n",
       "      <td>LCR 591 PLS1</td>\n",
       "      <td>Normal</td>\n",
       "      <td>NaN</td>\n",
       "      <td>*913.98</td>\n",
       "      <td>395.1</td>\n",
       "      <td>3761.80</td>\n",
       "      <td>*4.884</td>\n",
       "      <td>24.18</td>\n",
       "      <td>*16.344</td>\n",
       "      <td>...</td>\n",
       "      <td>*200.436</td>\n",
       "      <td>59.96</td>\n",
       "      <td>5251.27</td>\n",
       "      <td>7226.50</td>\n",
       "      <td>*16.692</td>\n",
       "      <td>*688</td>\n",
       "      <td>53239.59</td>\n",
       "      <td>46924.19</td>\n",
       "      <td>0.185293</td>\n",
       "      <td>Negative</td>\n",
       "    </tr>\n",
       "    <tr>\n",
       "      <th>892</th>\n",
       "      <td>LCR 592</td>\n",
       "      <td>LCR 592 PLS1</td>\n",
       "      <td>Normal</td>\n",
       "      <td>NaN</td>\n",
       "      <td>2782.15</td>\n",
       "      <td>759.62</td>\n",
       "      <td>3411.16</td>\n",
       "      <td>*4.884</td>\n",
       "      <td>10.49</td>\n",
       "      <td>*16.344</td>\n",
       "      <td>...</td>\n",
       "      <td>*200.436</td>\n",
       "      <td>39.37</td>\n",
       "      <td>5191.54</td>\n",
       "      <td>7320.91</td>\n",
       "      <td>*16.692</td>\n",
       "      <td>10500.61</td>\n",
       "      <td>89932.52</td>\n",
       "      <td>54069.72</td>\n",
       "      <td>0.296718</td>\n",
       "      <td>Negative</td>\n",
       "    </tr>\n",
       "    <tr>\n",
       "      <th>...</th>\n",
       "      <td>...</td>\n",
       "      <td>...</td>\n",
       "      <td>...</td>\n",
       "      <td>...</td>\n",
       "      <td>...</td>\n",
       "      <td>...</td>\n",
       "      <td>...</td>\n",
       "      <td>...</td>\n",
       "      <td>...</td>\n",
       "      <td>...</td>\n",
       "      <td>...</td>\n",
       "      <td>...</td>\n",
       "      <td>...</td>\n",
       "      <td>...</td>\n",
       "      <td>...</td>\n",
       "      <td>...</td>\n",
       "      <td>...</td>\n",
       "      <td>...</td>\n",
       "      <td>...</td>\n",
       "      <td>...</td>\n",
       "      <td>...</td>\n",
       "    </tr>\n",
       "    <tr>\n",
       "      <th>1698</th>\n",
       "      <td>NL</td>\n",
       "      <td>NL PLSA 1866</td>\n",
       "      <td>Normal</td>\n",
       "      <td>NaN</td>\n",
       "      <td>*740.016</td>\n",
       "      <td>1683.29</td>\n",
       "      <td>2151.58</td>\n",
       "      <td>*4.608</td>\n",
       "      <td>4.93</td>\n",
       "      <td>*15.912</td>\n",
       "      <td>...</td>\n",
       "      <td>1237.14</td>\n",
       "      <td>60.85</td>\n",
       "      <td>5139.9</td>\n",
       "      <td>5071.28</td>\n",
       "      <td>*15.258</td>\n",
       "      <td>*835</td>\n",
       "      <td>59951.49</td>\n",
       "      <td>44169.16</td>\n",
       "      <td>0.169246</td>\n",
       "      <td>Negative</td>\n",
       "    </tr>\n",
       "    <tr>\n",
       "      <th>1699</th>\n",
       "      <td>NL</td>\n",
       "      <td>NL PLSA 1867</td>\n",
       "      <td>Normal</td>\n",
       "      <td>NaN</td>\n",
       "      <td>*740.016</td>\n",
       "      <td>802.16</td>\n",
       "      <td>1069.51</td>\n",
       "      <td>*4.608</td>\n",
       "      <td>31.17</td>\n",
       "      <td>*15.912</td>\n",
       "      <td>...</td>\n",
       "      <td>1237.14</td>\n",
       "      <td>24.3</td>\n",
       "      <td>4050.87</td>\n",
       "      <td>3317.55</td>\n",
       "      <td>*15.258</td>\n",
       "      <td>1370.01</td>\n",
       "      <td>59816.96</td>\n",
       "      <td>40469.19</td>\n",
       "      <td>0.095699</td>\n",
       "      <td>Negative</td>\n",
       "    </tr>\n",
       "    <tr>\n",
       "      <th>1700</th>\n",
       "      <td>NL</td>\n",
       "      <td>NL PLSA 1868</td>\n",
       "      <td>Normal</td>\n",
       "      <td>NaN</td>\n",
       "      <td>*740.016</td>\n",
       "      <td>1112.37</td>\n",
       "      <td>1606.96</td>\n",
       "      <td>*4.608</td>\n",
       "      <td>21.21</td>\n",
       "      <td>*15.912</td>\n",
       "      <td>...</td>\n",
       "      <td>623.75</td>\n",
       "      <td>14.6</td>\n",
       "      <td>3449.88</td>\n",
       "      <td>3141.06</td>\n",
       "      <td>*15.258</td>\n",
       "      <td>*835</td>\n",
       "      <td>59579.84</td>\n",
       "      <td>40979.86</td>\n",
       "      <td>0.154097</td>\n",
       "      <td>Negative</td>\n",
       "    </tr>\n",
       "    <tr>\n",
       "      <th>1701</th>\n",
       "      <td>NL</td>\n",
       "      <td>NL PLSA 1869</td>\n",
       "      <td>Normal</td>\n",
       "      <td>NaN</td>\n",
       "      <td>*740.016</td>\n",
       "      <td>583.62</td>\n",
       "      <td>1708.47</td>\n",
       "      <td>*4.608</td>\n",
       "      <td>15.13</td>\n",
       "      <td>*15.912</td>\n",
       "      <td>...</td>\n",
       "      <td>1142.23</td>\n",
       "      <td>28.83</td>\n",
       "      <td>3948.14</td>\n",
       "      <td>4318.48</td>\n",
       "      <td>*15.258</td>\n",
       "      <td>*835</td>\n",
       "      <td>67033.91</td>\n",
       "      <td>40559.19</td>\n",
       "      <td>0.118664</td>\n",
       "      <td>Negative</td>\n",
       "    </tr>\n",
       "    <tr>\n",
       "      <th>1702</th>\n",
       "      <td>NL</td>\n",
       "      <td>NL PLSA 1870</td>\n",
       "      <td>Normal</td>\n",
       "      <td>NaN</td>\n",
       "      <td>*740.016</td>\n",
       "      <td>312.88</td>\n",
       "      <td>685.72</td>\n",
       "      <td>*4.608</td>\n",
       "      <td>8.57</td>\n",
       "      <td>*15.912</td>\n",
       "      <td>...</td>\n",
       "      <td>*192.948</td>\n",
       "      <td>109.81</td>\n",
       "      <td>4297.89</td>\n",
       "      <td>4252.15</td>\n",
       "      <td>*15.258</td>\n",
       "      <td>*835</td>\n",
       "      <td>63771.21</td>\n",
       "      <td>37055.26</td>\n",
       "      <td>0.137623</td>\n",
       "      <td>Negative</td>\n",
       "    </tr>\n",
       "  </tbody>\n",
       "</table>\n",
       "<p>812 rows × 45 columns</p>\n",
       "</div>"
      ],
      "text/plain": [
       "     Patient ID #   Sample ID # Tumor type AJCC Stage AFP (pg/ml)  \\\n",
       "888       LCR 588  LCR 588 PLS1     Normal        NaN     2003.87   \n",
       "889       LCR 589  LCR 589 PLS1     Normal        NaN     1477.71   \n",
       "890       LCR 590  LCR 590 PLS1     Normal        NaN     *913.98   \n",
       "891       LCR 591  LCR 591 PLS1     Normal        NaN     *913.98   \n",
       "892       LCR 592  LCR 592 PLS1     Normal        NaN     2782.15   \n",
       "...           ...           ...        ...        ...         ...   \n",
       "1698           NL  NL PLSA 1866     Normal        NaN    *740.016   \n",
       "1699           NL  NL PLSA 1867     Normal        NaN    *740.016   \n",
       "1700           NL  NL PLSA 1868     Normal        NaN    *740.016   \n",
       "1701           NL  NL PLSA 1869     Normal        NaN    *740.016   \n",
       "1702           NL  NL PLSA 1870     Normal        NaN    *740.016   \n",
       "\n",
       "     Angiopoietin-2 (pg/ml)  AXL (pg/ml) CA-125 (U/ml) CA 15-3 (U/ml)  \\\n",
       "888                  957.85      2674.11          12.5          20.62   \n",
       "889                  955.15      2298.18          5.43            4.3   \n",
       "890                 1267.35      3851.64          8.93           15.4   \n",
       "891                   395.1      3761.80        *4.884          24.18   \n",
       "892                  759.62      3411.16        *4.884          10.49   \n",
       "...                     ...          ...           ...            ...   \n",
       "1698                1683.29      2151.58        *4.608           4.93   \n",
       "1699                 802.16      1069.51        *4.608          31.17   \n",
       "1700                1112.37      1606.96        *4.608          21.21   \n",
       "1701                 583.62      1708.47        *4.608          15.13   \n",
       "1702                 312.88       685.72        *4.608           8.57   \n",
       "\n",
       "     CA19-9 (U/ml)  ... sFas (pg/ml) SHBG (nM) sHER2/sEGFR2/sErbB2 (pg/ml)  \\\n",
       "888          20.76  ...     *200.436    230.06                     8619.04   \n",
       "889        *16.344  ...     *200.436     38.86                     7382.92   \n",
       "890        *16.344  ...     *200.436     51.79                     6571.18   \n",
       "891        *16.344  ...     *200.436     59.96                     5251.27   \n",
       "892        *16.344  ...     *200.436     39.37                     5191.54   \n",
       "...            ...  ...          ...       ...                         ...   \n",
       "1698       *15.912  ...      1237.14     60.85                      5139.9   \n",
       "1699       *15.912  ...      1237.14      24.3                     4050.87   \n",
       "1700       *15.912  ...       623.75      14.6                     3449.88   \n",
       "1701       *15.912  ...      1142.23     28.83                     3948.14   \n",
       "1702       *15.912  ...     *192.948    109.81                     4297.89   \n",
       "\n",
       "     sPECAM-1 (pg/ml) TGFa (pg/ml) Thrombospondin-2 (pg/ml) TIMP-1 (pg/ml)  \\\n",
       "888           9546.90      *16.692                  5997.52       76809.87   \n",
       "889           7896.55      *16.692                  2865.38       55109.08   \n",
       "890           8355.38      *16.692                  1233.01       44360.32   \n",
       "891           7226.50      *16.692                     *688       53239.59   \n",
       "892           7320.91      *16.692                 10500.61       89932.52   \n",
       "...               ...          ...                      ...            ...   \n",
       "1698          5071.28      *15.258                     *835       59951.49   \n",
       "1699          3317.55      *15.258                  1370.01       59816.96   \n",
       "1700          3141.06      *15.258                     *835       59579.84   \n",
       "1701          4318.48      *15.258                     *835       67033.91   \n",
       "1702          4252.15      *15.258                     *835       63771.21   \n",
       "\n",
       "     TIMP-2 (pg/ml) CancerSEEK Logistic Regression Score  \\\n",
       "888        72452.91                             0.233768   \n",
       "889        47813.87                             0.324800   \n",
       "890        42867.39                             0.334918   \n",
       "891        46924.19                             0.185293   \n",
       "892        54069.72                             0.296718   \n",
       "...             ...                                  ...   \n",
       "1698       44169.16                             0.169246   \n",
       "1699       40469.19                             0.095699   \n",
       "1700       40979.86                             0.154097   \n",
       "1701       40559.19                             0.118664   \n",
       "1702       37055.26                             0.137623   \n",
       "\n",
       "     CancerSEEK Test Result  \n",
       "888                Negative  \n",
       "889                Negative  \n",
       "890                Negative  \n",
       "891                Negative  \n",
       "892                Negative  \n",
       "...                     ...  \n",
       "1698               Negative  \n",
       "1699               Negative  \n",
       "1700               Negative  \n",
       "1701               Negative  \n",
       "1702               Negative  \n",
       "\n",
       "[812 rows x 45 columns]"
      ]
     },
     "execution_count": 5,
     "metadata": {},
     "output_type": "execute_result"
    }
   ],
   "source": [
    "orig_df[orig_df['Tumor type'] == 'Normal']"
   ]
  },
  {
   "cell_type": "code",
   "execution_count": 6,
   "metadata": {},
   "outputs": [],
   "source": [
    "df['AJCC Stage'] = orig_df['AJCC Stage'].replace(to_replace=np.NaN, value=0)"
   ]
  },
  {
   "cell_type": "code",
   "execution_count": 7,
   "metadata": {},
   "outputs": [],
   "source": [
    "df = value_integerizer(df,'Tumor type')\n",
    "df = value_integerizer(df,'AJCC Stage')"
   ]
  },
  {
   "cell_type": "code",
   "execution_count": 8,
   "metadata": {},
   "outputs": [],
   "source": [
    "df_full = df.copy()\n",
    "df = df.drop(df.columns[0:2],axis=1)\n",
    "df = df.drop(df.columns[-1],axis=1)\n",
    "df = df.drop(df.columns[-1],axis=1)"
   ]
  },
  {
   "cell_type": "code",
   "execution_count": 9,
   "metadata": {},
   "outputs": [
    {
     "name": "stdout",
     "output_type": "stream",
     "text": [
      "<class 'pandas.core.frame.DataFrame'>\n",
      "RangeIndex: 1803 entries, 0 to 1802\n",
      "Data columns (total 41 columns):\n",
      " #   Column                       Non-Null Count  Dtype  \n",
      "---  ------                       --------------  -----  \n",
      " 0   Tumor type                   1803 non-null   float64\n",
      " 1   AJCC Stage                   1803 non-null   int64  \n",
      " 2   AFP (pg/ml)                  1803 non-null   object \n",
      " 3   Angiopoietin-2 (pg/ml)       1803 non-null   object \n",
      " 4   AXL (pg/ml)                  1803 non-null   float64\n",
      " 5   CA-125 (U/ml)                1803 non-null   object \n",
      " 6   CA 15-3 (U/ml)               1803 non-null   object \n",
      " 7   CA19-9 (U/ml)                1803 non-null   object \n",
      " 8   CD44 (ng/ml)                 1803 non-null   object \n",
      " 9   CEA (pg/ml)                  1803 non-null   object \n",
      " 10  CYFRA 21-1 (pg/ml)           1803 non-null   object \n",
      " 11  DKK1 (ng/ml)                 1803 non-null   object \n",
      " 12  Endoglin (pg/ml)             1803 non-null   object \n",
      " 13  FGF2 (pg/ml)                 1803 non-null   object \n",
      " 14  Follistatin (pg/ml)          1803 non-null   object \n",
      " 15  Galectin-3 (ng/ml)           1803 non-null   object \n",
      " 16  G-CSF (pg/ml)                1803 non-null   object \n",
      " 17  GDF15 (ng/ml)                1803 non-null   object \n",
      " 18  HE4 (pg/ml)                  1803 non-null   object \n",
      " 19  HGF (pg/ml)                  1803 non-null   object \n",
      " 20  IL-6 (pg/ml)                 1803 non-null   object \n",
      " 21  IL-8 (pg/ml)                 1803 non-null   object \n",
      " 22  Kallikrein-6 (pg/ml)         1803 non-null   object \n",
      " 23  Leptin (pg/ml)               1803 non-null   object \n",
      " 24  Mesothelin (ng/ml)           1803 non-null   object \n",
      " 25  Midkine (pg/ml)              1803 non-null   object \n",
      " 26  Myeloperoxidase (ng/ml)      1803 non-null   object \n",
      " 27  NSE (ng/ml)                  1803 non-null   object \n",
      " 28  OPG (ng/ml)                  1803 non-null   object \n",
      " 29  OPN (pg/ml)                  1803 non-null   object \n",
      " 30  PAR (pg/ml)                  1803 non-null   object \n",
      " 31  Prolactin (pg/ml)            1803 non-null   object \n",
      " 32  sEGFR (pg/ml)                1803 non-null   object \n",
      " 33  sFas (pg/ml)                 1803 non-null   object \n",
      " 34  SHBG (nM)                    1803 non-null   object \n",
      " 35  sHER2/sEGFR2/sErbB2 (pg/ml)  1803 non-null   object \n",
      " 36  sPECAM-1 (pg/ml)             1803 non-null   float64\n",
      " 37  TGFa (pg/ml)                 1803 non-null   object \n",
      " 38  Thrombospondin-2 (pg/ml)     1803 non-null   object \n",
      " 39  TIMP-1 (pg/ml)               1803 non-null   object \n",
      " 40  TIMP-2 (pg/ml)               1803 non-null   float64\n",
      "dtypes: float64(4), int64(1), object(36)\n",
      "memory usage: 577.6+ KB\n"
     ]
    }
   ],
   "source": [
    "df = df.dropna().reset_index(drop=True)\n",
    "df.info()"
   ]
  },
  {
   "cell_type": "code",
   "execution_count": 10,
   "metadata": {},
   "outputs": [],
   "source": [
    "#df[orig_df['Tumor type'] == \"Normal\"]"
   ]
  },
  {
   "cell_type": "code",
   "execution_count": 11,
   "metadata": {},
   "outputs": [],
   "source": [
    "for col in df.columns:\n",
    "    if df[col].dtypes == 'object': #if the column contains string as well\n",
    "        df[col] = df[col].replace(to_replace='^\\D+',value='', regex=True).astype(dtype=float) #remove the * or any non digit and cast to float"
   ]
  },
  {
   "cell_type": "markdown",
   "metadata": {
    "id": "b17I_WoP0eSE"
   },
   "source": [
    "### 2. Predict if a sample is cancerous or not\n",
    "\n",
    "* your need to build a classifier that predicts the probability of a sample coming from a cancerous (tumor type is normal or not) person based on the measured protein levels\n",
    "* train a logistic regression (sklearn API) on every second sample (not first 50% of the data (!), use every second line)\n",
    "* generate prediction for the samples that were not used during the training"
   ]
  },
  {
   "cell_type": "code",
   "execution_count": 12,
   "metadata": {},
   "outputs": [],
   "source": [
    "from sklearn.linear_model import LogisticRegression\n",
    "# from https://towardsdatascience.com/logistic-regression-using-python-sklearn-numpy-mnist-handwriting-recognition-matplotlib-a6b31e2b166a"
   ]
  },
  {
   "cell_type": "code",
   "execution_count": 13,
   "metadata": {},
   "outputs": [],
   "source": [
    "df_2 = df.copy()"
   ]
  },
  {
   "cell_type": "code",
   "execution_count": 14,
   "metadata": {},
   "outputs": [],
   "source": [
    "col_name, _ = np.unique(df['Tumor type'].astype(str),return_counts=True)\n",
    "df_2['Tumor type'] = df['Tumor type'].replace(to_replace=col_name, value=([x+1 for x in range(len(col_name))]))"
   ]
  },
  {
   "cell_type": "code",
   "execution_count": 15,
   "metadata": {},
   "outputs": [
    {
     "name": "stderr",
     "output_type": "stream",
     "text": [
      "/Users/barnabasp/opt/anaconda3/lib/python3.7/site-packages/ipykernel_launcher.py:1: SettingWithCopyWarning: \n",
      "A value is trying to be set on a copy of a slice from a DataFrame\n",
      "\n",
      "See the caveats in the documentation: https://pandas.pydata.org/pandas-docs/stable/user_guide/indexing.html#returning-a-view-versus-a-copy\n",
      "  \"\"\"Entry point for launching an IPython kernel.\n",
      "/Users/barnabasp/opt/anaconda3/lib/python3.7/site-packages/ipykernel_launcher.py:2: SettingWithCopyWarning: \n",
      "A value is trying to be set on a copy of a slice from a DataFrame\n",
      "\n",
      "See the caveats in the documentation: https://pandas.pydata.org/pandas-docs/stable/user_guide/indexing.html#returning-a-view-versus-a-copy\n",
      "  \n"
     ]
    }
   ],
   "source": [
    "df_2['Tumor type'][df['Tumor type'] != 6.0] = 0\n",
    "df_2['Tumor type'][df['Tumor type'] == 6.0] = 1"
   ]
  },
  {
   "cell_type": "code",
   "execution_count": 16,
   "metadata": {},
   "outputs": [
    {
     "data": {
      "text/plain": [
       "array([0., 1.])"
      ]
     },
     "execution_count": 16,
     "metadata": {},
     "output_type": "execute_result"
    }
   ],
   "source": [
    "np.unique(df_2['Tumor type'])"
   ]
  },
  {
   "cell_type": "code",
   "execution_count": 17,
   "metadata": {},
   "outputs": [
    {
     "name": "stderr",
     "output_type": "stream",
     "text": [
      "/Users/barnabasp/opt/anaconda3/lib/python3.7/site-packages/sklearn/linear_model/logistic.py:432: FutureWarning: Default solver will be changed to 'lbfgs' in 0.22. Specify a solver to silence this warning.\n",
      "  FutureWarning)\n",
      "/Users/barnabasp/opt/anaconda3/lib/python3.7/site-packages/sklearn/svm/base.py:929: ConvergenceWarning: Liblinear failed to converge, increase the number of iterations.\n",
      "  \"the number of iterations.\", ConvergenceWarning)\n",
      "/Users/barnabasp/opt/anaconda3/lib/python3.7/site-packages/sklearn/linear_model/base.py:291: DeprecationWarning: `np.int` is a deprecated alias for the builtin `int`. To silence this warning, use `int` by itself. Doing this will not modify any behavior and is safe. When replacing `np.int`, you may wish to use e.g. `np.int64` or `np.int32` to specify the precision. If you wish to review your current use, check the release note link for additional information.\n",
      "Deprecated in NumPy 1.20; for more details and guidance: https://numpy.org/devdocs/release/1.20.0-notes.html#deprecations\n",
      "  indices = (scores > 0).astype(np.int)\n"
     ]
    }
   ],
   "source": [
    "X = df_2[df_2.columns[1:]]\n",
    "X_train = X[::2]\n",
    "X_test = X[1::2]\n",
    "\n",
    "y = df_2[df_2.columns[0]]\n",
    "y_train = y[::2]\n",
    "y_test = y[1::2]\n",
    "\n",
    "clf = LogisticRegression().fit(X_train, y_train)\n",
    "\n",
    "ypred1 = clf.predict(X_test)"
   ]
  },
  {
   "cell_type": "code",
   "execution_count": 18,
   "metadata": {},
   "outputs": [
    {
     "name": "stdout",
     "output_type": "stream",
     "text": [
      "0.8657047724750278\n",
      "0.8657047724750278\n"
     ]
    },
    {
     "name": "stderr",
     "output_type": "stream",
     "text": [
      "/Users/barnabasp/opt/anaconda3/lib/python3.7/site-packages/sklearn/linear_model/base.py:291: DeprecationWarning: `np.int` is a deprecated alias for the builtin `int`. To silence this warning, use `int` by itself. Doing this will not modify any behavior and is safe. When replacing `np.int`, you may wish to use e.g. `np.int64` or `np.int32` to specify the precision. If you wish to review your current use, check the release note link for additional information.\n",
      "Deprecated in NumPy 1.20; for more details and guidance: https://numpy.org/devdocs/release/1.20.0-notes.html#deprecations\n",
      "  indices = (scores > 0).astype(np.int)\n"
     ]
    }
   ],
   "source": [
    "print(accuracy(y_test,ypred1))\n",
    "score = clf.score(X_test, y_test)\n",
    "print(score)"
   ]
  },
  {
   "cell_type": "markdown",
   "metadata": {
    "id": "b17I_WoP0eSE"
   },
   "source": [
    "###  3. Comparision to CancerSEEK\n",
    "* plot the ROC curve and calculate the confusion matrix for the predictions\n",
    "* do the same for the CancerSEEK predictions\n",
    "* compare your model's performance to CancerSEEK performance"
   ]
  },
  {
   "cell_type": "code",
   "execution_count": 20,
   "metadata": {},
   "outputs": [],
   "source": [
    "import seaborn as sns\n",
    "from sklearn import metrics"
   ]
  },
  {
   "cell_type": "markdown",
   "metadata": {},
   "source": [
    "### Creating ROC curve"
   ]
  },
  {
   "cell_type": "code",
   "execution_count": 52,
   "metadata": {},
   "outputs": [],
   "source": [
    "#https://scikit-learn.org/stable/auto_examples/model_selection/plot_roc.html#sphx-glr-auto-examples-model-selection-plot-roc-py\n",
    "y_score = clf.decision_function(X_test) #confidence score\n",
    "\n",
    "# Compute ROC curve and ROC area for each class\n",
    "fpr = dict()\n",
    "tpr = dict()\n",
    "fpr, tpr, _ = metrics.roc_curve(y_test, y_score)\n",
    "roc_auc = metrics.auc(fpr, tpr)"
   ]
  },
  {
   "cell_type": "code",
   "execution_count": 49,
   "metadata": {},
   "outputs": [
    {
     "data": {
      "image/png": "[encoded data removed]",
      "text/plain": [
       "<Figure size 648x648 with 1 Axes>"
      ]
     },
     "metadata": {
      "needs_background": "light"
     },
     "output_type": "display_data"
    }
   ],
   "source": [
    "plt.figure(figsize=(9,9))\n",
    "plt.plot(fpr,tpr,label='ROC curve')\n",
    "plt.plot([0, 1], [0, 1], color='navy', linestyle='--')\n",
    "plt.xlabel('False Positive Rate', fontsize=20)\n",
    "plt.ylabel('True Positive Rate',fontsize=20)\n",
    "plt.title('Receiver operating characteristic example',fontsize=20)\n",
    "plt.legend(fontsize=20)\n",
    "plt.show()"
   ]
  },
  {
   "cell_type": "code",
   "execution_count": 55,
   "metadata": {},
   "outputs": [
    {
     "name": "stdout",
     "output_type": "stream",
     "text": [
      "Area under ROC 0.9156656582\n"
     ]
    }
   ],
   "source": [
    "print('Area under ROC %.10f' %roc_auc)"
   ]
  },
  {
   "cell_type": "code",
   "execution_count": 23,
   "metadata": {},
   "outputs": [
    {
     "name": "stdout",
     "output_type": "stream",
     "text": [
      "[[432  70]\n",
      " [ 51 348]]\n"
     ]
    }
   ],
   "source": [
    "cm = metrics.confusion_matrix(y_test, ypred1)\n",
    "print(cm)"
   ]
  },
  {
   "cell_type": "code",
   "execution_count": 24,
   "metadata": {},
   "outputs": [
    {
     "data": {
      "image/png": "[encoded data removed]",
      "text/plain": [
       "<Figure size 648x648 with 2 Axes>"
      ]
     },
     "metadata": {
      "needs_background": "light"
     },
     "output_type": "display_data"
    }
   ],
   "source": [
    "plt.figure(figsize=(9,9))\n",
    "sns.heatmap(cm, annot=True, fmt=\"d\", linewidths=.5, square = True);\n",
    "plt.ylabel('Original',fontsize=15);\n",
    "plt.xlabel('Predicted',fontsize=15);\n",
    "all_sample_title = 'Accuracy Score: %f' % score\n",
    "plt.title(all_sample_title, size = 15);"
   ]
  },
  {
   "cell_type": "code",
   "execution_count": 25,
   "metadata": {},
   "outputs": [],
   "source": [
    "Tn, Fp, Fn, Tp = metrics.confusion_matrix(y_test, ypred1).ravel()"
   ]
  },
  {
   "cell_type": "markdown",
   "metadata": {},
   "source": [
    "# Compare with CancerSeek"
   ]
  },
  {
   "cell_type": "code",
   "execution_count": 26,
   "metadata": {},
   "outputs": [],
   "source": [
    "df_full = df_full.dropna().reset_index(drop=True)\n",
    "for col in df_full.columns[2:-1]:\n",
    "    if df_full[col].dtypes == 'object': #if the column contains string as well\n",
    "        df_full[col] = df_full[col].replace(to_replace='^\\D+',value='', regex=True).astype(dtype=float) #remove the * or any non digit and cast to float"
   ]
  },
  {
   "cell_type": "code",
   "execution_count": 27,
   "metadata": {},
   "outputs": [
    {
     "name": "stderr",
     "output_type": "stream",
     "text": [
      "/Users/barnabasp/opt/anaconda3/lib/python3.7/site-packages/ipykernel_launcher.py:1: SettingWithCopyWarning: \n",
      "A value is trying to be set on a copy of a slice from a DataFrame\n",
      "\n",
      "See the caveats in the documentation: https://pandas.pydata.org/pandas-docs/stable/user_guide/indexing.html#returning-a-view-versus-a-copy\n",
      "  \"\"\"Entry point for launching an IPython kernel.\n",
      "/Users/barnabasp/opt/anaconda3/lib/python3.7/site-packages/ipykernel_launcher.py:2: SettingWithCopyWarning: \n",
      "A value is trying to be set on a copy of a slice from a DataFrame\n",
      "\n",
      "See the caveats in the documentation: https://pandas.pydata.org/pandas-docs/stable/user_guide/indexing.html#returning-a-view-versus-a-copy\n",
      "  \n"
     ]
    }
   ],
   "source": [
    "df_full['CancerSEEK Test Result'][df_full['CancerSEEK Test Result'] == 'Positive'] = 0\n",
    "df_full['CancerSEEK Test Result'][df_full['CancerSEEK Test Result'] == 'Negative'] = 1"
   ]
  },
  {
   "cell_type": "code",
   "execution_count": 28,
   "metadata": {},
   "outputs": [],
   "source": [
    "y_cs = df_full[df_full.columns[-1]][1::2]"
   ]
  },
  {
   "cell_type": "code",
   "execution_count": 29,
   "metadata": {},
   "outputs": [
    {
     "data": {
      "text/plain": [
       "0.779134295227525"
      ]
     },
     "execution_count": 29,
     "metadata": {},
     "output_type": "execute_result"
    }
   ],
   "source": [
    "accuracy(y_cs.values, y_test)"
   ]
  },
  {
   "cell_type": "code",
   "execution_count": 30,
   "metadata": {},
   "outputs": [
    {
     "data": {
      "image/png": "[encoded data removed]",
      "text/plain": [
       "<Figure size 648x648 with 2 Axes>"
      ]
     },
     "metadata": {
      "needs_background": "light"
     },
     "output_type": "display_data"
    }
   ],
   "source": [
    "plt.figure(figsize=(9,9))\n",
    "sns.heatmap(metrics.confusion_matrix(y_test, y_cs.values.astype(float)), annot=True, fmt=\"d\", linewidths=.5, square = True);\n",
    "plt.ylabel('Original',fontsize=15);\n",
    "plt.xlabel('Predicted by CancerSEEK',fontsize=15);\n",
    "all_sample_title = 'Accuracy Score: %f' % accuracy(y_cs.values, y_test)\n",
    "plt.title(all_sample_title, size = 15);"
   ]
  },
  {
   "cell_type": "markdown",
   "metadata": {},
   "source": [
    "### Creating ROC curve"
   ]
  },
  {
   "cell_type": "code",
   "execution_count": 56,
   "metadata": {},
   "outputs": [],
   "source": [
    "y_cs_score = clf.decision_function(X_test)\n",
    "\n",
    "# Compute ROC curve and ROC area for each class\n",
    "fpr_cs = dict()\n",
    "tpr_cs = dict()\n",
    "fpr_cs, tpr_cs, _ = metrics.roc_curve(y_cs.values.astype(float), y_cs_score)\n",
    "roc_auc_cs = metrics.auc(fpr_cs, tpr_cs)"
   ]
  },
  {
   "cell_type": "code",
   "execution_count": 51,
   "metadata": {},
   "outputs": [
    {
     "data": {
      "image/png": "[encoded data removed]",
      "text/plain": [
       "<Figure size 648x648 with 1 Axes>"
      ]
     },
     "metadata": {
      "needs_background": "light"
     },
     "output_type": "display_data"
    }
   ],
   "source": [
    "plt.figure(figsize=(9,9))\n",
    "plt.plot(fpr_cs,tpr_cs, label='CancerSEEK ROC Curve')\n",
    "plt.plot(fpr,tpr, label='SKLearn ROC Curve')\n",
    "plt.plot([0, 1], [0, 1], color='navy', linestyle='--')\n",
    "plt.xlabel('False Positive Rate', fontsize=20)\n",
    "plt.ylabel('True Positive Rate',fontsize=20)\n",
    "plt.title('Receiver operating characteristic example',fontsize=20)\n",
    "plt.legend(fontsize=20)\n",
    "plt.show()"
   ]
  },
  {
   "cell_type": "code",
   "execution_count": 57,
   "metadata": {},
   "outputs": [
    {
     "name": "stdout",
     "output_type": "stream",
     "text": [
      "Area under ROC 0.9549566734\n"
     ]
    }
   ],
   "source": [
    "print('Area under ROC %.10f' %roc_auc_cs)"
   ]
  },
  {
   "cell_type": "markdown",
   "metadata": {},
   "source": [
    "### My model was more successful than CancerSEEK"
   ]
  },
  {
   "cell_type": "markdown",
   "metadata": {
    "id": "b17I_WoP0eSE"
   },
   "source": [
    "### 4. Hepatocellular carcinoma\n",
    "\n",
    "* fit a logistic regression (using statsmodels API this time) to predict if a sample has Hepatocellular carcinoma (liver cancer) or not. You need to keep only the liver and the normal samples for this exercise! For fitting use only the first 25 features and all the rows (which are liver or normal)\n",
    "* select the 5 best predictor based on P values.\n",
    "* Write down the most important features (based on P value) and compare them to the tumor markers that you find on wikipeida https://en.wikipedia.org/wiki/Hepatocellular_carcinoma or other sources!"
   ]
  },
  {
   "cell_type": "code",
   "execution_count": null,
   "metadata": {},
   "outputs": [],
   "source": [
    "import statsmodels.api as sm\n",
    "from sklearn.preprocessing import StandardScaler"
   ]
  },
  {
   "cell_type": "code",
   "execution_count": null,
   "metadata": {},
   "outputs": [],
   "source": [
    "newdw = [df[df['Tumor type'] == 6.0],df[df['Tumor type'] == 4.0]]\n",
    "liv_norm_df = pd.concat(newdw)\n",
    "liv_norm_scal_df = StandardScaler().fit_transform(liv_norm_df)"
   ]
  },
  {
   "cell_type": "code",
   "execution_count": null,
   "metadata": {},
   "outputs": [],
   "source": [
    "X_sm = liv_norm_scal_df[:,1:26]\n",
    "Y_sm = liv_norm_scal_df[:,0]"
   ]
  },
  {
   "cell_type": "code",
   "execution_count": null,
   "metadata": {},
   "outputs": [],
   "source": [
    "X_sm = liv_norm_df[liv_norm_df.columns[1:26]]"
   ]
  },
  {
   "cell_type": "code",
   "execution_count": null,
   "metadata": {},
   "outputs": [],
   "source": [
    "Y_sm = liv_norm_df[liv_norm_df.columns[0]]"
   ]
  },
  {
   "cell_type": "code",
   "execution_count": null,
   "metadata": {},
   "outputs": [],
   "source": [
    "sm.Logit(Y_sm,X_sm)"
   ]
  },
  {
   "cell_type": "markdown",
   "metadata": {
    "id": "b17I_WoP0eSE"
   },
   "source": [
    "### 5. Multiclass classification\n",
    "\n",
    "* Again, using every second datapoint train a logistic regression (sklearn API) to predict the tumor type. It is a multiclass classification problem.\n",
    "* Generate prediction for the rest of the dataset and show the confution matrix for the predictions!\n",
    "* Plot the ROC curves for the different cancer types on the same plot!\n",
    "* Intepret your results. Which cancer type can be predicted the most reliably?"
   ]
  },
  {
   "cell_type": "code",
   "execution_count": null,
   "metadata": {},
   "outputs": [],
   "source": [
    "X = df[df.columns[1:]]\n",
    "X_train = X[::2]\n",
    "X_test = X[1::2]\n",
    "\n",
    "y = df[df.columns[0]]\n",
    "y_train = y[::2]\n",
    "y_test = y[1::2]\n",
    "\n",
    "clf = LogisticRegression().fit(X_train, y_train)\n",
    "\n",
    "ypred1 = clf.predict(X_test)\n",
    "\n",
    "np.unique(ypred1 - y_test, return_counts=True)\n",
    "\n",
    "plt.plot(y_test,ypred1,'.')\n",
    "\n",
    "accuracy(y_test,ypred1)\n",
    "\n",
    "score = clf.score(X_test, y_test)\n",
    "print(score)"
   ]
  },
  {
   "cell_type": "code",
   "execution_count": null,
   "metadata": {},
   "outputs": [],
   "source": [
    "import seaborn as sns\n",
    "from sklearn import metrics\n",
    "\n",
    "cm = metrics.confusion_matrix(y_test, ypred1)\n",
    "print(cm)\n",
    "\n",
    "plt.figure(figsize=(9,9))\n",
    "sns.heatmap(cm, annot=True, fmt=\".3f\", linewidths=.5, square = True, cmap = 'Blues_r');\n",
    "plt.ylabel('Actual label');\n",
    "plt.xlabel('Predicted label');\n",
    "all_sample_title = 'Accuracy Score: {0}'.format(score)\n",
    "plt.title(all_sample_title, size = 15);\n",
    "\n",
    "metrics.confusion_matrix(y_test, ypred1)[0,:] #FN\n",
    "\n",
    "metrics.confusion_matrix(y_test, ypred1)[:,0] #FP\n",
    "\n",
    "metrics.confusion_matrix(y_test, ypred1)[0:,0:] #TN\n",
    "\n",
    "metrics.confusion_matrix(y_test, ypred1)[0,0] #TP\n",
    "\n",
    "TP = []\n",
    "FP = []\n",
    "TN = []\n",
    "FN = []\n",
    "for i in range(9):\n",
    "    tp = cm[i,i]\n",
    "    fp = sum(cm[:,i]) - tp #\n",
    "    fn = sum(cm[i,:]) - tp\n",
    "    tn = sum(sum(cm)) - fn - fp - tp\n",
    "    TP.append(tp)\n",
    "    TN.append(tn)\n",
    "    FP.append(fp)\n",
    "    FN.append(fn)\n",
    "\n",
    "print(TP,TN,FP,FN)\n",
    "\n",
    "TP = np.array(TP)\n",
    "TN = np.array(TN)\n",
    "FP = np.array(FP)\n",
    "FN = np.array(FN)\n",
    "\n",
    "plt.plot((TP / (TP +FN)),(TN / (TN+FP)),'.')"
   ]
  },
  {
   "cell_type": "code",
   "execution_count": null,
   "metadata": {},
   "outputs": [],
   "source": []
  },
  {
   "cell_type": "markdown",
   "metadata": {
    "id": "b17I_WoP0eSE"
   },
   "source": [
    "### Hints:\n",
    "\n",
    "* On total you can get 10 points for fully completing all tasks.\n",
    "* Decorate your notebook with, questions, explanation etc, make it self contained and understandable!\n",
    "* Comments you code when necessary\n",
    "* Write functions for repetitive tasks!\n",
    "* Use the pandas package for data loading and handling\n",
    "* Use matplotlib and seaborn for plotting or bokeh and plotly for interactive investigation\n",
    "* Use the scikit learn package for almost everything\n",
    "* Use for loops only if it is really necessary!\n",
    "* Code sharing is not allowed between student! Sharing code will result in zero points.\n",
    "* If you use code found on web, it is OK, but, make its source clear!"
   ]
  },
  {
   "cell_type": "code",
   "execution_count": null,
   "metadata": {
    "id": "inzU96ff1CV1"
   },
   "outputs": [],
   "source": []
  }
 ],
 "metadata": {
  "colab": {
   "authorship_tag": "ABX9TyNDWdNEa3X4meGwV4cb9zN1",
   "collapsed_sections": [],
   "include_colab_link": true,
   "name": "HW5_raw.ipynb",
   "provenance": []
  },
  "kernelspec": {
   "display_name": "Python 3",
   "language": "python",
   "name": "python3"
  },
  "language_info": {
   "codemirror_mode": {
    "name": "ipython",
    "version": 3
   },
   "file_extension": ".py",
   "mimetype": "text/x-python",
   "name": "python",
   "nbconvert_exporter": "python",
   "pygments_lexer": "ipython3",
   "version": "3.7.4"
  }
 },
 "nbformat": 4,
 "nbformat_minor": 1
}
