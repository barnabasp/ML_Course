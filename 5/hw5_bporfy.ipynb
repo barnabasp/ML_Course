{
 "cells": [
  {
   "cell_type": "markdown",
   "metadata": {
    "colab_type": "text",
    "id": "view-in-github"
   },
   "source": [
    "<a href=\"https://colab.research.google.com/gist/qbeer/c7630c11339b659843e32e39eb732e42/hw5_raw.ipynb\" target=\"_parent\"><img src=\"https://colab.research.google.com/assets/colab-badge.svg\" alt=\"Open In Colab\"/></a>"
   ]
  },
  {
   "cell_type": "code",
   "execution_count": 1,
   "metadata": {},
   "outputs": [
    {
     "name": "stderr",
     "output_type": "stream",
     "text": [
      "/Users/barnabasp/opt/anaconda3/lib/python3.7/site-packages/sklearn/linear_model/least_angle.py:30: DeprecationWarning: `np.float` is a deprecated alias for the builtin `float`. To silence this warning, use `float` by itself. Doing this will not modify any behavior and is safe. If you specifically wanted the numpy scalar type, use `np.float64` here.\n",
      "Deprecated in NumPy 1.20; for more details and guidance: https://numpy.org/devdocs/release/1.20.0-notes.html#deprecations\n",
      "  method='lar', copy_X=True, eps=np.finfo(np.float).eps,\n",
      "/Users/barnabasp/opt/anaconda3/lib/python3.7/site-packages/sklearn/linear_model/least_angle.py:167: DeprecationWarning: `np.float` is a deprecated alias for the builtin `float`. To silence this warning, use `float` by itself. Doing this will not modify any behavior and is safe. If you specifically wanted the numpy scalar type, use `np.float64` here.\n",
      "Deprecated in NumPy 1.20; for more details and guidance: https://numpy.org/devdocs/release/1.20.0-notes.html#deprecations\n",
      "  method='lar', copy_X=True, eps=np.finfo(np.float).eps,\n",
      "/Users/barnabasp/opt/anaconda3/lib/python3.7/site-packages/sklearn/linear_model/least_angle.py:284: DeprecationWarning: `np.float` is a deprecated alias for the builtin `float`. To silence this warning, use `float` by itself. Doing this will not modify any behavior and is safe. If you specifically wanted the numpy scalar type, use `np.float64` here.\n",
      "Deprecated in NumPy 1.20; for more details and guidance: https://numpy.org/devdocs/release/1.20.0-notes.html#deprecations\n",
      "  eps=np.finfo(np.float).eps, copy_Gram=True, verbose=0,\n",
      "/Users/barnabasp/opt/anaconda3/lib/python3.7/site-packages/sklearn/linear_model/least_angle.py:862: DeprecationWarning: `np.float` is a deprecated alias for the builtin `float`. To silence this warning, use `float` by itself. Doing this will not modify any behavior and is safe. If you specifically wanted the numpy scalar type, use `np.float64` here.\n",
      "Deprecated in NumPy 1.20; for more details and guidance: https://numpy.org/devdocs/release/1.20.0-notes.html#deprecations\n",
      "  eps=np.finfo(np.float).eps, copy_X=True, fit_path=True,\n",
      "/Users/barnabasp/opt/anaconda3/lib/python3.7/site-packages/sklearn/linear_model/least_angle.py:1101: DeprecationWarning: `np.float` is a deprecated alias for the builtin `float`. To silence this warning, use `float` by itself. Doing this will not modify any behavior and is safe. If you specifically wanted the numpy scalar type, use `np.float64` here.\n",
      "Deprecated in NumPy 1.20; for more details and guidance: https://numpy.org/devdocs/release/1.20.0-notes.html#deprecations\n",
      "  eps=np.finfo(np.float).eps, copy_X=True, fit_path=True,\n",
      "/Users/barnabasp/opt/anaconda3/lib/python3.7/site-packages/sklearn/linear_model/least_angle.py:1127: DeprecationWarning: `np.float` is a deprecated alias for the builtin `float`. To silence this warning, use `float` by itself. Doing this will not modify any behavior and is safe. If you specifically wanted the numpy scalar type, use `np.float64` here.\n",
      "Deprecated in NumPy 1.20; for more details and guidance: https://numpy.org/devdocs/release/1.20.0-notes.html#deprecations\n",
      "  eps=np.finfo(np.float).eps, positive=False):\n",
      "/Users/barnabasp/opt/anaconda3/lib/python3.7/site-packages/sklearn/linear_model/least_angle.py:1362: DeprecationWarning: `np.float` is a deprecated alias for the builtin `float`. To silence this warning, use `float` by itself. Doing this will not modify any behavior and is safe. If you specifically wanted the numpy scalar type, use `np.float64` here.\n",
      "Deprecated in NumPy 1.20; for more details and guidance: https://numpy.org/devdocs/release/1.20.0-notes.html#deprecations\n",
      "  max_n_alphas=1000, n_jobs=None, eps=np.finfo(np.float).eps,\n",
      "/Users/barnabasp/opt/anaconda3/lib/python3.7/site-packages/sklearn/linear_model/least_angle.py:1602: DeprecationWarning: `np.float` is a deprecated alias for the builtin `float`. To silence this warning, use `float` by itself. Doing this will not modify any behavior and is safe. If you specifically wanted the numpy scalar type, use `np.float64` here.\n",
      "Deprecated in NumPy 1.20; for more details and guidance: https://numpy.org/devdocs/release/1.20.0-notes.html#deprecations\n",
      "  max_n_alphas=1000, n_jobs=None, eps=np.finfo(np.float).eps,\n",
      "/Users/barnabasp/opt/anaconda3/lib/python3.7/site-packages/sklearn/linear_model/least_angle.py:1738: DeprecationWarning: `np.float` is a deprecated alias for the builtin `float`. To silence this warning, use `float` by itself. Doing this will not modify any behavior and is safe. If you specifically wanted the numpy scalar type, use `np.float64` here.\n",
      "Deprecated in NumPy 1.20; for more details and guidance: https://numpy.org/devdocs/release/1.20.0-notes.html#deprecations\n",
      "  eps=np.finfo(np.float).eps, copy_X=True, positive=False):\n",
      "/Users/barnabasp/opt/anaconda3/lib/python3.7/site-packages/statsmodels/tools/_testing.py:19: FutureWarning: pandas.util.testing is deprecated. Use the functions in the public API at pandas.testing instead.\n",
      "  import pandas.util.testing as tm\n"
     ]
    }
   ],
   "source": [
    "import pandas as pd\n",
    "import numpy as np\n",
    "import matplotlib.pyplot as plt\n",
    "import re\n",
    "from sklearn.linear_model import LogisticRegression\n",
    "import seaborn as sns\n",
    "from sklearn import metrics\n",
    "import statsmodels.api as sm\n",
    "from sklearn.preprocessing import StandardScaler\n",
    "from sklearn.preprocessing import label_binarize"
   ]
  },
  {
   "cell_type": "markdown",
   "metadata": {
    "id": "b17I_WoP0eSE"
   },
   "source": [
    "## Logistic regression\n",
    "\n",
    "### 1. Download data from https://science.sciencemag.org/content/359/6378/926 (supplementary materials).\n",
    "\n",
    "* read the abstract of the article to get familiar with data origin\n",
    "* open the data in excel and get familiar with its content\n",
    "* load the protein level data (you need to figure out which one is that) as a pandas dataframe\n",
    "* handle missing values and convert features to numeric values when it is needed\n",
    "* get rid of the unnecessary (which does not encode protein levels or the tumor type) columns and the CancerSEEK results"
   ]
  },
  {
   "cell_type": "code",
   "execution_count": 2,
   "metadata": {},
   "outputs": [],
   "source": [
    "orig_df = pd.read_excel('aar3247_cohen_sm_tables-s1-s11.xlsx', sheet_name=5,skiprows=2)\n",
    "df = orig_df.copy()"
   ]
  },
  {
   "cell_type": "code",
   "execution_count": 3,
   "metadata": {},
   "outputs": [],
   "source": [
    "def value_integerizer(dataframe, column):\n",
    "    col_name, _ = np.unique(dataframe[column].astype(str),return_counts=True)\n",
    "    dataframe[column] = dataframe[column].replace(to_replace=col_name, value=([x+1 for x in range(len(col_name))]))\n",
    "    print(col_name)\n",
    "    return dataframe\n",
    "\n",
    "def accuracy(arr1, arr2):\n",
    "    \"\"\"arr1: train\n",
    "       arr2: test\n",
    "       \"\"\"\n",
    "    values,count = np.unique(arr1 - arr2, return_counts=True)\n",
    "    return count[values == 0][0]/sum(count)"
   ]
  },
  {
   "cell_type": "code",
   "execution_count": 4,
   "metadata": {},
   "outputs": [
    {
     "name": "stdout",
     "output_type": "stream",
     "text": [
      "<class 'pandas.core.frame.DataFrame'>\n",
      "RangeIndex: 1821 entries, 0 to 1820\n",
      "Data columns (total 45 columns):\n",
      " #   Column                                Non-Null Count  Dtype  \n",
      "---  ------                                --------------  -----  \n",
      " 0   Patient ID #                          1820 non-null   object \n",
      " 1   Sample ID #                           1817 non-null   object \n",
      " 2   Tumor type                            1817 non-null   object \n",
      " 3   AJCC Stage                            1005 non-null   object \n",
      " 4   AFP (pg/ml)                           1817 non-null   object \n",
      " 5   Angiopoietin-2 (pg/ml)                1817 non-null   object \n",
      " 6   AXL (pg/ml)                           1811 non-null   float64\n",
      " 7   CA-125 (U/ml)                         1817 non-null   object \n",
      " 8   CA 15-3 (U/ml)                        1817 non-null   object \n",
      " 9   CA19-9 (U/ml)                         1817 non-null   object \n",
      " 10  CD44 (ng/ml)                          1811 non-null   object \n",
      " 11  CEA (pg/ml)                           1817 non-null   object \n",
      " 12  CYFRA 21-1 (pg/ml)                    1817 non-null   object \n",
      " 13  DKK1 (ng/ml)                          1817 non-null   object \n",
      " 14  Endoglin (pg/ml)                      1817 non-null   object \n",
      " 15  FGF2 (pg/ml)                          1817 non-null   object \n",
      " 16  Follistatin (pg/ml)                   1817 non-null   object \n",
      " 17  Galectin-3 (ng/ml)                    1817 non-null   object \n",
      " 18  G-CSF (pg/ml)                         1810 non-null   object \n",
      " 19  GDF15 (ng/ml)                         1817 non-null   object \n",
      " 20  HE4 (pg/ml)                           1817 non-null   object \n",
      " 21  HGF (pg/ml)                           1817 non-null   object \n",
      " 22  IL-6 (pg/ml)                          1817 non-null   object \n",
      " 23  IL-8 (pg/ml)                          1817 non-null   object \n",
      " 24  Kallikrein-6 (pg/ml)                  1811 non-null   object \n",
      " 25  Leptin (pg/ml)                        1817 non-null   object \n",
      " 26  Mesothelin (ng/ml)                    1811 non-null   object \n",
      " 27  Midkine (pg/ml)                       1811 non-null   object \n",
      " 28  Myeloperoxidase (ng/ml)               1817 non-null   object \n",
      " 29  NSE (ng/ml)                           1817 non-null   object \n",
      " 30  OPG (ng/ml)                           1817 non-null   object \n",
      " 31  OPN (pg/ml)                           1817 non-null   object \n",
      " 32  PAR (pg/ml)                           1811 non-null   object \n",
      " 33  Prolactin (pg/ml)                     1817 non-null   object \n",
      " 34  sEGFR (pg/ml)                         1811 non-null   object \n",
      " 35  sFas (pg/ml)                          1816 non-null   object \n",
      " 36  SHBG (nM)                             1817 non-null   object \n",
      " 37  sHER2/sEGFR2/sErbB2 (pg/ml)           1811 non-null   object \n",
      " 38  sPECAM-1 (pg/ml)                      1811 non-null   float64\n",
      " 39  TGFa (pg/ml)                          1817 non-null   object \n",
      " 40  Thrombospondin-2 (pg/ml)              1811 non-null   object \n",
      " 41  TIMP-1 (pg/ml)                        1817 non-null   object \n",
      " 42  TIMP-2 (pg/ml)                        1817 non-null   float64\n",
      " 43  CancerSEEK Logistic Regression Score  1817 non-null   float64\n",
      " 44  CancerSEEK Test Result                1817 non-null   object \n",
      "dtypes: float64(4), object(41)\n",
      "memory usage: 640.3+ KB\n"
     ]
    }
   ],
   "source": [
    "orig_df.info()"
   ]
  },
  {
   "cell_type": "code",
   "execution_count": 5,
   "metadata": {},
   "outputs": [
    {
     "data": {
      "text/html": [
       "<div>\n",
       "<style scoped>\n",
       "    .dataframe tbody tr th:only-of-type {\n",
       "        vertical-align: middle;\n",
       "    }\n",
       "\n",
       "    .dataframe tbody tr th {\n",
       "        vertical-align: top;\n",
       "    }\n",
       "\n",
       "    .dataframe thead th {\n",
       "        text-align: right;\n",
       "    }\n",
       "</style>\n",
       "<table border=\"1\" class=\"dataframe\">\n",
       "  <thead>\n",
       "    <tr style=\"text-align: right;\">\n",
       "      <th></th>\n",
       "      <th>Patient ID #</th>\n",
       "      <th>Sample ID #</th>\n",
       "      <th>Tumor type</th>\n",
       "      <th>AJCC Stage</th>\n",
       "      <th>AFP (pg/ml)</th>\n",
       "      <th>Angiopoietin-2 (pg/ml)</th>\n",
       "      <th>AXL (pg/ml)</th>\n",
       "      <th>CA-125 (U/ml)</th>\n",
       "      <th>CA 15-3 (U/ml)</th>\n",
       "      <th>CA19-9 (U/ml)</th>\n",
       "      <th>...</th>\n",
       "      <th>sFas (pg/ml)</th>\n",
       "      <th>SHBG (nM)</th>\n",
       "      <th>sHER2/sEGFR2/sErbB2 (pg/ml)</th>\n",
       "      <th>sPECAM-1 (pg/ml)</th>\n",
       "      <th>TGFa (pg/ml)</th>\n",
       "      <th>Thrombospondin-2 (pg/ml)</th>\n",
       "      <th>TIMP-1 (pg/ml)</th>\n",
       "      <th>TIMP-2 (pg/ml)</th>\n",
       "      <th>CancerSEEK Logistic Regression Score</th>\n",
       "      <th>CancerSEEK Test Result</th>\n",
       "    </tr>\n",
       "  </thead>\n",
       "  <tbody>\n",
       "    <tr>\n",
       "      <th>888</th>\n",
       "      <td>LCR 588</td>\n",
       "      <td>LCR 588 PLS1</td>\n",
       "      <td>Normal</td>\n",
       "      <td>NaN</td>\n",
       "      <td>2003.87</td>\n",
       "      <td>957.85</td>\n",
       "      <td>2674.11</td>\n",
       "      <td>12.5</td>\n",
       "      <td>20.62</td>\n",
       "      <td>20.76</td>\n",
       "      <td>...</td>\n",
       "      <td>*200.436</td>\n",
       "      <td>230.06</td>\n",
       "      <td>8619.04</td>\n",
       "      <td>9546.90</td>\n",
       "      <td>*16.692</td>\n",
       "      <td>5997.52</td>\n",
       "      <td>76809.87</td>\n",
       "      <td>72452.91</td>\n",
       "      <td>0.233768</td>\n",
       "      <td>Negative</td>\n",
       "    </tr>\n",
       "    <tr>\n",
       "      <th>889</th>\n",
       "      <td>LCR 589</td>\n",
       "      <td>LCR 589 PLS1</td>\n",
       "      <td>Normal</td>\n",
       "      <td>NaN</td>\n",
       "      <td>1477.71</td>\n",
       "      <td>955.15</td>\n",
       "      <td>2298.18</td>\n",
       "      <td>5.43</td>\n",
       "      <td>4.3</td>\n",
       "      <td>*16.344</td>\n",
       "      <td>...</td>\n",
       "      <td>*200.436</td>\n",
       "      <td>38.86</td>\n",
       "      <td>7382.92</td>\n",
       "      <td>7896.55</td>\n",
       "      <td>*16.692</td>\n",
       "      <td>2865.38</td>\n",
       "      <td>55109.08</td>\n",
       "      <td>47813.87</td>\n",
       "      <td>0.324800</td>\n",
       "      <td>Negative</td>\n",
       "    </tr>\n",
       "    <tr>\n",
       "      <th>890</th>\n",
       "      <td>LCR 590</td>\n",
       "      <td>LCR 590 PLS1</td>\n",
       "      <td>Normal</td>\n",
       "      <td>NaN</td>\n",
       "      <td>*913.98</td>\n",
       "      <td>1267.35</td>\n",
       "      <td>3851.64</td>\n",
       "      <td>8.93</td>\n",
       "      <td>15.4</td>\n",
       "      <td>*16.344</td>\n",
       "      <td>...</td>\n",
       "      <td>*200.436</td>\n",
       "      <td>51.79</td>\n",
       "      <td>6571.18</td>\n",
       "      <td>8355.38</td>\n",
       "      <td>*16.692</td>\n",
       "      <td>1233.01</td>\n",
       "      <td>44360.32</td>\n",
       "      <td>42867.39</td>\n",
       "      <td>0.334918</td>\n",
       "      <td>Negative</td>\n",
       "    </tr>\n",
       "    <tr>\n",
       "      <th>891</th>\n",
       "      <td>LCR 591</td>\n",
       "      <td>LCR 591 PLS1</td>\n",
       "      <td>Normal</td>\n",
       "      <td>NaN</td>\n",
       "      <td>*913.98</td>\n",
       "      <td>395.1</td>\n",
       "      <td>3761.80</td>\n",
       "      <td>*4.884</td>\n",
       "      <td>24.18</td>\n",
       "      <td>*16.344</td>\n",
       "      <td>...</td>\n",
       "      <td>*200.436</td>\n",
       "      <td>59.96</td>\n",
       "      <td>5251.27</td>\n",
       "      <td>7226.50</td>\n",
       "      <td>*16.692</td>\n",
       "      <td>*688</td>\n",
       "      <td>53239.59</td>\n",
       "      <td>46924.19</td>\n",
       "      <td>0.185293</td>\n",
       "      <td>Negative</td>\n",
       "    </tr>\n",
       "    <tr>\n",
       "      <th>892</th>\n",
       "      <td>LCR 592</td>\n",
       "      <td>LCR 592 PLS1</td>\n",
       "      <td>Normal</td>\n",
       "      <td>NaN</td>\n",
       "      <td>2782.15</td>\n",
       "      <td>759.62</td>\n",
       "      <td>3411.16</td>\n",
       "      <td>*4.884</td>\n",
       "      <td>10.49</td>\n",
       "      <td>*16.344</td>\n",
       "      <td>...</td>\n",
       "      <td>*200.436</td>\n",
       "      <td>39.37</td>\n",
       "      <td>5191.54</td>\n",
       "      <td>7320.91</td>\n",
       "      <td>*16.692</td>\n",
       "      <td>10500.61</td>\n",
       "      <td>89932.52</td>\n",
       "      <td>54069.72</td>\n",
       "      <td>0.296718</td>\n",
       "      <td>Negative</td>\n",
       "    </tr>\n",
       "    <tr>\n",
       "      <th>...</th>\n",
       "      <td>...</td>\n",
       "      <td>...</td>\n",
       "      <td>...</td>\n",
       "      <td>...</td>\n",
       "      <td>...</td>\n",
       "      <td>...</td>\n",
       "      <td>...</td>\n",
       "      <td>...</td>\n",
       "      <td>...</td>\n",
       "      <td>...</td>\n",
       "      <td>...</td>\n",
       "      <td>...</td>\n",
       "      <td>...</td>\n",
       "      <td>...</td>\n",
       "      <td>...</td>\n",
       "      <td>...</td>\n",
       "      <td>...</td>\n",
       "      <td>...</td>\n",
       "      <td>...</td>\n",
       "      <td>...</td>\n",
       "      <td>...</td>\n",
       "    </tr>\n",
       "    <tr>\n",
       "      <th>1698</th>\n",
       "      <td>NL</td>\n",
       "      <td>NL PLSA 1866</td>\n",
       "      <td>Normal</td>\n",
       "      <td>NaN</td>\n",
       "      <td>*740.016</td>\n",
       "      <td>1683.29</td>\n",
       "      <td>2151.58</td>\n",
       "      <td>*4.608</td>\n",
       "      <td>4.93</td>\n",
       "      <td>*15.912</td>\n",
       "      <td>...</td>\n",
       "      <td>1237.14</td>\n",
       "      <td>60.85</td>\n",
       "      <td>5139.9</td>\n",
       "      <td>5071.28</td>\n",
       "      <td>*15.258</td>\n",
       "      <td>*835</td>\n",
       "      <td>59951.49</td>\n",
       "      <td>44169.16</td>\n",
       "      <td>0.169246</td>\n",
       "      <td>Negative</td>\n",
       "    </tr>\n",
       "    <tr>\n",
       "      <th>1699</th>\n",
       "      <td>NL</td>\n",
       "      <td>NL PLSA 1867</td>\n",
       "      <td>Normal</td>\n",
       "      <td>NaN</td>\n",
       "      <td>*740.016</td>\n",
       "      <td>802.16</td>\n",
       "      <td>1069.51</td>\n",
       "      <td>*4.608</td>\n",
       "      <td>31.17</td>\n",
       "      <td>*15.912</td>\n",
       "      <td>...</td>\n",
       "      <td>1237.14</td>\n",
       "      <td>24.3</td>\n",
       "      <td>4050.87</td>\n",
       "      <td>3317.55</td>\n",
       "      <td>*15.258</td>\n",
       "      <td>1370.01</td>\n",
       "      <td>59816.96</td>\n",
       "      <td>40469.19</td>\n",
       "      <td>0.095699</td>\n",
       "      <td>Negative</td>\n",
       "    </tr>\n",
       "    <tr>\n",
       "      <th>1700</th>\n",
       "      <td>NL</td>\n",
       "      <td>NL PLSA 1868</td>\n",
       "      <td>Normal</td>\n",
       "      <td>NaN</td>\n",
       "      <td>*740.016</td>\n",
       "      <td>1112.37</td>\n",
       "      <td>1606.96</td>\n",
       "      <td>*4.608</td>\n",
       "      <td>21.21</td>\n",
       "      <td>*15.912</td>\n",
       "      <td>...</td>\n",
       "      <td>623.75</td>\n",
       "      <td>14.6</td>\n",
       "      <td>3449.88</td>\n",
       "      <td>3141.06</td>\n",
       "      <td>*15.258</td>\n",
       "      <td>*835</td>\n",
       "      <td>59579.84</td>\n",
       "      <td>40979.86</td>\n",
       "      <td>0.154097</td>\n",
       "      <td>Negative</td>\n",
       "    </tr>\n",
       "    <tr>\n",
       "      <th>1701</th>\n",
       "      <td>NL</td>\n",
       "      <td>NL PLSA 1869</td>\n",
       "      <td>Normal</td>\n",
       "      <td>NaN</td>\n",
       "      <td>*740.016</td>\n",
       "      <td>583.62</td>\n",
       "      <td>1708.47</td>\n",
       "      <td>*4.608</td>\n",
       "      <td>15.13</td>\n",
       "      <td>*15.912</td>\n",
       "      <td>...</td>\n",
       "      <td>1142.23</td>\n",
       "      <td>28.83</td>\n",
       "      <td>3948.14</td>\n",
       "      <td>4318.48</td>\n",
       "      <td>*15.258</td>\n",
       "      <td>*835</td>\n",
       "      <td>67033.91</td>\n",
       "      <td>40559.19</td>\n",
       "      <td>0.118664</td>\n",
       "      <td>Negative</td>\n",
       "    </tr>\n",
       "    <tr>\n",
       "      <th>1702</th>\n",
       "      <td>NL</td>\n",
       "      <td>NL PLSA 1870</td>\n",
       "      <td>Normal</td>\n",
       "      <td>NaN</td>\n",
       "      <td>*740.016</td>\n",
       "      <td>312.88</td>\n",
       "      <td>685.72</td>\n",
       "      <td>*4.608</td>\n",
       "      <td>8.57</td>\n",
       "      <td>*15.912</td>\n",
       "      <td>...</td>\n",
       "      <td>*192.948</td>\n",
       "      <td>109.81</td>\n",
       "      <td>4297.89</td>\n",
       "      <td>4252.15</td>\n",
       "      <td>*15.258</td>\n",
       "      <td>*835</td>\n",
       "      <td>63771.21</td>\n",
       "      <td>37055.26</td>\n",
       "      <td>0.137623</td>\n",
       "      <td>Negative</td>\n",
       "    </tr>\n",
       "  </tbody>\n",
       "</table>\n",
       "<p>812 rows × 45 columns</p>\n",
       "</div>"
      ],
      "text/plain": [
       "     Patient ID #   Sample ID # Tumor type AJCC Stage AFP (pg/ml)  \\\n",
       "888       LCR 588  LCR 588 PLS1     Normal        NaN     2003.87   \n",
       "889       LCR 589  LCR 589 PLS1     Normal        NaN     1477.71   \n",
       "890       LCR 590  LCR 590 PLS1     Normal        NaN     *913.98   \n",
       "891       LCR 591  LCR 591 PLS1     Normal        NaN     *913.98   \n",
       "892       LCR 592  LCR 592 PLS1     Normal        NaN     2782.15   \n",
       "...           ...           ...        ...        ...         ...   \n",
       "1698           NL  NL PLSA 1866     Normal        NaN    *740.016   \n",
       "1699           NL  NL PLSA 1867     Normal        NaN    *740.016   \n",
       "1700           NL  NL PLSA 1868     Normal        NaN    *740.016   \n",
       "1701           NL  NL PLSA 1869     Normal        NaN    *740.016   \n",
       "1702           NL  NL PLSA 1870     Normal        NaN    *740.016   \n",
       "\n",
       "     Angiopoietin-2 (pg/ml)  AXL (pg/ml) CA-125 (U/ml) CA 15-3 (U/ml)  \\\n",
       "888                  957.85      2674.11          12.5          20.62   \n",
       "889                  955.15      2298.18          5.43            4.3   \n",
       "890                 1267.35      3851.64          8.93           15.4   \n",
       "891                   395.1      3761.80        *4.884          24.18   \n",
       "892                  759.62      3411.16        *4.884          10.49   \n",
       "...                     ...          ...           ...            ...   \n",
       "1698                1683.29      2151.58        *4.608           4.93   \n",
       "1699                 802.16      1069.51        *4.608          31.17   \n",
       "1700                1112.37      1606.96        *4.608          21.21   \n",
       "1701                 583.62      1708.47        *4.608          15.13   \n",
       "1702                 312.88       685.72        *4.608           8.57   \n",
       "\n",
       "     CA19-9 (U/ml)  ... sFas (pg/ml) SHBG (nM) sHER2/sEGFR2/sErbB2 (pg/ml)  \\\n",
       "888          20.76  ...     *200.436    230.06                     8619.04   \n",
       "889        *16.344  ...     *200.436     38.86                     7382.92   \n",
       "890        *16.344  ...     *200.436     51.79                     6571.18   \n",
       "891        *16.344  ...     *200.436     59.96                     5251.27   \n",
       "892        *16.344  ...     *200.436     39.37                     5191.54   \n",
       "...            ...  ...          ...       ...                         ...   \n",
       "1698       *15.912  ...      1237.14     60.85                      5139.9   \n",
       "1699       *15.912  ...      1237.14      24.3                     4050.87   \n",
       "1700       *15.912  ...       623.75      14.6                     3449.88   \n",
       "1701       *15.912  ...      1142.23     28.83                     3948.14   \n",
       "1702       *15.912  ...     *192.948    109.81                     4297.89   \n",
       "\n",
       "     sPECAM-1 (pg/ml) TGFa (pg/ml) Thrombospondin-2 (pg/ml) TIMP-1 (pg/ml)  \\\n",
       "888           9546.90      *16.692                  5997.52       76809.87   \n",
       "889           7896.55      *16.692                  2865.38       55109.08   \n",
       "890           8355.38      *16.692                  1233.01       44360.32   \n",
       "891           7226.50      *16.692                     *688       53239.59   \n",
       "892           7320.91      *16.692                 10500.61       89932.52   \n",
       "...               ...          ...                      ...            ...   \n",
       "1698          5071.28      *15.258                     *835       59951.49   \n",
       "1699          3317.55      *15.258                  1370.01       59816.96   \n",
       "1700          3141.06      *15.258                     *835       59579.84   \n",
       "1701          4318.48      *15.258                     *835       67033.91   \n",
       "1702          4252.15      *15.258                     *835       63771.21   \n",
       "\n",
       "     TIMP-2 (pg/ml) CancerSEEK Logistic Regression Score  \\\n",
       "888        72452.91                             0.233768   \n",
       "889        47813.87                             0.324800   \n",
       "890        42867.39                             0.334918   \n",
       "891        46924.19                             0.185293   \n",
       "892        54069.72                             0.296718   \n",
       "...             ...                                  ...   \n",
       "1698       44169.16                             0.169246   \n",
       "1699       40469.19                             0.095699   \n",
       "1700       40979.86                             0.154097   \n",
       "1701       40559.19                             0.118664   \n",
       "1702       37055.26                             0.137623   \n",
       "\n",
       "     CancerSEEK Test Result  \n",
       "888                Negative  \n",
       "889                Negative  \n",
       "890                Negative  \n",
       "891                Negative  \n",
       "892                Negative  \n",
       "...                     ...  \n",
       "1698               Negative  \n",
       "1699               Negative  \n",
       "1700               Negative  \n",
       "1701               Negative  \n",
       "1702               Negative  \n",
       "\n",
       "[812 rows x 45 columns]"
      ]
     },
     "execution_count": 5,
     "metadata": {},
     "output_type": "execute_result"
    }
   ],
   "source": [
    "orig_df[orig_df['Tumor type'] == 'Normal']"
   ]
  },
  {
   "cell_type": "code",
   "execution_count": 6,
   "metadata": {},
   "outputs": [],
   "source": [
    "df['AJCC Stage'] = orig_df['AJCC Stage'].replace(to_replace=np.NaN, value=0)"
   ]
  },
  {
   "cell_type": "code",
   "execution_count": 7,
   "metadata": {},
   "outputs": [
    {
     "name": "stdout",
     "output_type": "stream",
     "text": [
      "['Breast' 'Colorectum' 'Esophagus' 'Liver' 'Lung' 'Normal' 'Ovary'\n",
      " 'Pancreas' 'Stomach' 'nan']\n",
      "['0' 'I' 'II' 'III']\n"
     ]
    }
   ],
   "source": [
    "df = value_integerizer(df,'Tumor type')\n",
    "df = value_integerizer(df,'AJCC Stage')"
   ]
  },
  {
   "cell_type": "code",
   "execution_count": null,
   "metadata": {},
   "outputs": [],
   "source": []
  },
  {
   "cell_type": "code",
   "execution_count": 8,
   "metadata": {},
   "outputs": [],
   "source": [
    "df_full = df.copy()\n",
    "df = df.drop(df.columns[0:2],axis=1)\n",
    "df = df.drop(df.columns[-1],axis=1)\n",
    "df = df.drop(df.columns[-1],axis=1)"
   ]
  },
  {
   "cell_type": "code",
   "execution_count": 9,
   "metadata": {},
   "outputs": [
    {
     "name": "stdout",
     "output_type": "stream",
     "text": [
      "<class 'pandas.core.frame.DataFrame'>\n",
      "RangeIndex: 1803 entries, 0 to 1802\n",
      "Data columns (total 41 columns):\n",
      " #   Column                       Non-Null Count  Dtype  \n",
      "---  ------                       --------------  -----  \n",
      " 0   Tumor type                   1803 non-null   float64\n",
      " 1   AJCC Stage                   1803 non-null   int64  \n",
      " 2   AFP (pg/ml)                  1803 non-null   object \n",
      " 3   Angiopoietin-2 (pg/ml)       1803 non-null   object \n",
      " 4   AXL (pg/ml)                  1803 non-null   float64\n",
      " 5   CA-125 (U/ml)                1803 non-null   object \n",
      " 6   CA 15-3 (U/ml)               1803 non-null   object \n",
      " 7   CA19-9 (U/ml)                1803 non-null   object \n",
      " 8   CD44 (ng/ml)                 1803 non-null   object \n",
      " 9   CEA (pg/ml)                  1803 non-null   object \n",
      " 10  CYFRA 21-1 (pg/ml)           1803 non-null   object \n",
      " 11  DKK1 (ng/ml)                 1803 non-null   object \n",
      " 12  Endoglin (pg/ml)             1803 non-null   object \n",
      " 13  FGF2 (pg/ml)                 1803 non-null   object \n",
      " 14  Follistatin (pg/ml)          1803 non-null   object \n",
      " 15  Galectin-3 (ng/ml)           1803 non-null   object \n",
      " 16  G-CSF (pg/ml)                1803 non-null   object \n",
      " 17  GDF15 (ng/ml)                1803 non-null   object \n",
      " 18  HE4 (pg/ml)                  1803 non-null   object \n",
      " 19  HGF (pg/ml)                  1803 non-null   object \n",
      " 20  IL-6 (pg/ml)                 1803 non-null   object \n",
      " 21  IL-8 (pg/ml)                 1803 non-null   object \n",
      " 22  Kallikrein-6 (pg/ml)         1803 non-null   object \n",
      " 23  Leptin (pg/ml)               1803 non-null   object \n",
      " 24  Mesothelin (ng/ml)           1803 non-null   object \n",
      " 25  Midkine (pg/ml)              1803 non-null   object \n",
      " 26  Myeloperoxidase (ng/ml)      1803 non-null   object \n",
      " 27  NSE (ng/ml)                  1803 non-null   object \n",
      " 28  OPG (ng/ml)                  1803 non-null   object \n",
      " 29  OPN (pg/ml)                  1803 non-null   object \n",
      " 30  PAR (pg/ml)                  1803 non-null   object \n",
      " 31  Prolactin (pg/ml)            1803 non-null   object \n",
      " 32  sEGFR (pg/ml)                1803 non-null   object \n",
      " 33  sFas (pg/ml)                 1803 non-null   object \n",
      " 34  SHBG (nM)                    1803 non-null   object \n",
      " 35  sHER2/sEGFR2/sErbB2 (pg/ml)  1803 non-null   object \n",
      " 36  sPECAM-1 (pg/ml)             1803 non-null   float64\n",
      " 37  TGFa (pg/ml)                 1803 non-null   object \n",
      " 38  Thrombospondin-2 (pg/ml)     1803 non-null   object \n",
      " 39  TIMP-1 (pg/ml)               1803 non-null   object \n",
      " 40  TIMP-2 (pg/ml)               1803 non-null   float64\n",
      "dtypes: float64(4), int64(1), object(36)\n",
      "memory usage: 577.6+ KB\n"
     ]
    }
   ],
   "source": [
    "df = df.dropna().reset_index(drop=True)\n",
    "df.info()"
   ]
  },
  {
   "cell_type": "code",
   "execution_count": 10,
   "metadata": {},
   "outputs": [],
   "source": [
    "for col in df.columns:\n",
    "    if df[col].dtypes == 'object': #if the column contains string as well\n",
    "        df[col] = df[col].replace(to_replace='^\\D+', #remove the * or any non digit and cast to float\n",
    "                                  value='',\n",
    "                                  regex=True).astype(dtype=float) "
   ]
  },
  {
   "cell_type": "code",
   "execution_count": 11,
   "metadata": {},
   "outputs": [],
   "source": [
    "tumor_types = ['Breast', 'Colorectum', 'Esophagus', 'Liver', 'Lung', 'Normal', 'Ovary','Pancreas', 'Stomach']"
   ]
  },
  {
   "cell_type": "markdown",
   "metadata": {
    "id": "b17I_WoP0eSE"
   },
   "source": [
    "### 2. Predict if a sample is cancerous or not\n",
    "\n",
    "* your need to build a classifier that predicts the probability of a sample coming from a cancerous (tumor type is normal or not) person based on the measured protein levels\n",
    "* train a logistic regression (sklearn API) on every second sample (not first 50% of the data (!), use every second line)\n",
    "* generate prediction for the samples that were not used during the training"
   ]
  },
  {
   "cell_type": "code",
   "execution_count": 12,
   "metadata": {},
   "outputs": [],
   "source": [
    "# from https://towardsdatascience.com/logistic-regression-using-python-sklearn-numpy-mnist-handwriting-recognition-matplotlib-a6b31e2b166a"
   ]
  },
  {
   "cell_type": "code",
   "execution_count": 13,
   "metadata": {},
   "outputs": [],
   "source": [
    "df_2 = df.copy()"
   ]
  },
  {
   "cell_type": "code",
   "execution_count": 14,
   "metadata": {},
   "outputs": [],
   "source": [
    "col_name, _ = np.unique(df['Tumor type'].astype(str),return_counts=True)\n",
    "df_2['Tumor type'] = df['Tumor type'].replace(to_replace=col_name, value=([x+1 for x in range(len(col_name))]))"
   ]
  },
  {
   "cell_type": "code",
   "execution_count": 15,
   "metadata": {},
   "outputs": [
    {
     "name": "stderr",
     "output_type": "stream",
     "text": [
      "/Users/barnabasp/opt/anaconda3/lib/python3.7/site-packages/ipykernel_launcher.py:1: SettingWithCopyWarning: \n",
      "A value is trying to be set on a copy of a slice from a DataFrame\n",
      "\n",
      "See the caveats in the documentation: https://pandas.pydata.org/pandas-docs/stable/user_guide/indexing.html#returning-a-view-versus-a-copy\n",
      "  \"\"\"Entry point for launching an IPython kernel.\n",
      "/Users/barnabasp/opt/anaconda3/lib/python3.7/site-packages/ipykernel_launcher.py:2: SettingWithCopyWarning: \n",
      "A value is trying to be set on a copy of a slice from a DataFrame\n",
      "\n",
      "See the caveats in the documentation: https://pandas.pydata.org/pandas-docs/stable/user_guide/indexing.html#returning-a-view-versus-a-copy\n",
      "  \n"
     ]
    }
   ],
   "source": [
    "df_2['Tumor type'][df['Tumor type'] != 6.0] = 0\n",
    "df_2['Tumor type'][df['Tumor type'] == 6.0] = 1"
   ]
  },
  {
   "cell_type": "code",
   "execution_count": 16,
   "metadata": {},
   "outputs": [
    {
     "data": {
      "text/plain": [
       "0.0    1004\n",
       "1.0     799\n",
       "Name: Tumor type, dtype: int64"
      ]
     },
     "execution_count": 16,
     "metadata": {},
     "output_type": "execute_result"
    }
   ],
   "source": [
    "#How many tumor and normal data we have\n",
    "df_2['Tumor type'].value_counts()"
   ]
  },
  {
   "cell_type": "code",
   "execution_count": 17,
   "metadata": {},
   "outputs": [
    {
     "name": "stderr",
     "output_type": "stream",
     "text": [
      "/Users/barnabasp/opt/anaconda3/lib/python3.7/site-packages/sklearn/linear_model/logistic.py:432: FutureWarning: Default solver will be changed to 'lbfgs' in 0.22. Specify a solver to silence this warning.\n",
      "  FutureWarning)\n",
      "/Users/barnabasp/opt/anaconda3/lib/python3.7/site-packages/sklearn/svm/base.py:929: ConvergenceWarning: Liblinear failed to converge, increase the number of iterations.\n",
      "  \"the number of iterations.\", ConvergenceWarning)\n",
      "/Users/barnabasp/opt/anaconda3/lib/python3.7/site-packages/sklearn/linear_model/base.py:291: DeprecationWarning: `np.int` is a deprecated alias for the builtin `int`. To silence this warning, use `int` by itself. Doing this will not modify any behavior and is safe. When replacing `np.int`, you may wish to use e.g. `np.int64` or `np.int32` to specify the precision. If you wish to review your current use, check the release note link for additional information.\n",
      "Deprecated in NumPy 1.20; for more details and guidance: https://numpy.org/devdocs/release/1.20.0-notes.html#deprecations\n",
      "  indices = (scores > 0).astype(np.int)\n"
     ]
    }
   ],
   "source": [
    "X = df_2[df_2.columns[1:]]\n",
    "X_train = X[::2]\n",
    "X_test = X[1::2]\n",
    "\n",
    "y = df_2[df_2.columns[0]]\n",
    "y_train = y[::2]\n",
    "y_test = y[1::2]\n",
    "\n",
    "clf = LogisticRegression().fit(X_train, y_train)\n",
    "\n",
    "ypred1 = clf.predict(X_test)"
   ]
  },
  {
   "cell_type": "code",
   "execution_count": 18,
   "metadata": {},
   "outputs": [
    {
     "name": "stdout",
     "output_type": "stream",
     "text": [
      "0.8657047724750278\n",
      "0.8657047724750278\n"
     ]
    },
    {
     "name": "stderr",
     "output_type": "stream",
     "text": [
      "/Users/barnabasp/opt/anaconda3/lib/python3.7/site-packages/sklearn/linear_model/base.py:291: DeprecationWarning: `np.int` is a deprecated alias for the builtin `int`. To silence this warning, use `int` by itself. Doing this will not modify any behavior and is safe. When replacing `np.int`, you may wish to use e.g. `np.int64` or `np.int32` to specify the precision. If you wish to review your current use, check the release note link for additional information.\n",
      "Deprecated in NumPy 1.20; for more details and guidance: https://numpy.org/devdocs/release/1.20.0-notes.html#deprecations\n",
      "  indices = (scores > 0).astype(np.int)\n"
     ]
    }
   ],
   "source": [
    "print(accuracy(y_test,ypred1))\n",
    "score = clf.score(X_test, y_test)\n",
    "print(score)"
   ]
  },
  {
   "cell_type": "markdown",
   "metadata": {
    "id": "b17I_WoP0eSE"
   },
   "source": [
    "###  3. Comparision to CancerSEEK\n",
    "* plot the ROC curve and calculate the confusion matrix for the predictions\n",
    "* do the same for the CancerSEEK predictions\n",
    "* compare your model's performance to CancerSEEK performance"
   ]
  },
  {
   "cell_type": "markdown",
   "metadata": {},
   "source": [
    "### Creating ROC curve"
   ]
  },
  {
   "cell_type": "code",
   "execution_count": 19,
   "metadata": {},
   "outputs": [],
   "source": [
    "#https://scikit-learn.org/stable/auto_examples/model_selection/plot_roc.html#sphx-glr-auto-examples-model-selection-plot-roc-py\n",
    "y_score = clf.decision_function(X_test) #confidence score\n",
    "\n",
    "# Compute ROC curve and ROC area\n",
    "fpr = dict()\n",
    "tpr = dict()\n",
    "fpr, tpr, _ = metrics.roc_curve(y_test, y_score)\n",
    "roc_auc = metrics.auc(fpr, tpr)"
   ]
  },
  {
   "cell_type": "code",
   "execution_count": 20,
   "metadata": {},
   "outputs": [
    {
     "data": {
      "image/png": "[encoded data removed]",
      "text/plain": [
       "<Figure size 648x648 with 1 Axes>"
      ]
     },
     "metadata": {
      "needs_background": "light"
     },
     "output_type": "display_data"
    }
   ],
   "source": [
    "plt.figure(figsize=(9,9))\n",
    "plt.plot(fpr,tpr,label='ROC curve')\n",
    "plt.plot([0, 1], [0, 1], color='navy', linestyle='--')\n",
    "plt.xlabel('False Positive Rate', fontsize=20)\n",
    "plt.ylabel('True Positive Rate',fontsize=20)\n",
    "plt.title('Receiver operating characteristic curve',fontsize=20)\n",
    "plt.legend(fontsize=20)\n",
    "plt.show()"
   ]
  },
  {
   "cell_type": "code",
   "execution_count": 21,
   "metadata": {},
   "outputs": [
    {
     "name": "stdout",
     "output_type": "stream",
     "text": [
      "Area under ROC 0.9156656582\n"
     ]
    }
   ],
   "source": [
    "print('Area under ROC %.10f' %roc_auc)"
   ]
  },
  {
   "cell_type": "code",
   "execution_count": 22,
   "metadata": {},
   "outputs": [
    {
     "name": "stdout",
     "output_type": "stream",
     "text": [
      "[[432  70]\n",
      " [ 51 348]]\n"
     ]
    }
   ],
   "source": [
    "cm = metrics.confusion_matrix(y_test, ypred1)\n",
    "print(cm)"
   ]
  },
  {
   "cell_type": "code",
   "execution_count": 23,
   "metadata": {},
   "outputs": [
    {
     "data": {
      "text/plain": [
       "Text(0.5, 1.0, 'Accuracy Score: 0.865705')"
      ]
     },
     "execution_count": 23,
     "metadata": {},
     "output_type": "execute_result"
    },
    {
     "data": {
      "image/png": "[encoded data removed]",
      "text/plain": [
       "<Figure size 648x648 with 2 Axes>"
      ]
     },
     "metadata": {
      "needs_background": "light"
     },
     "output_type": "display_data"
    }
   ],
   "source": [
    "plt.figure(figsize=(9,9))\n",
    "sns.heatmap(cm, \n",
    "            annot=True,\n",
    "            fmt=\"d\",\n",
    "            linewidths=.5,\n",
    "            square = True)\n",
    "plt.ylabel('Original',fontsize=15)\n",
    "plt.xlabel('Predicted',fontsize=15)\n",
    "all_sample_title = 'Accuracy Score: %f' % score\n",
    "plt.title(all_sample_title, size = 15)"
   ]
  },
  {
   "cell_type": "code",
   "execution_count": 24,
   "metadata": {},
   "outputs": [],
   "source": [
    "Tn, Fp, Fn, Tp = metrics.confusion_matrix(y_test, ypred1).ravel()"
   ]
  },
  {
   "cell_type": "markdown",
   "metadata": {},
   "source": [
    "# Compare with CancerSeek"
   ]
  },
  {
   "cell_type": "code",
   "execution_count": 25,
   "metadata": {},
   "outputs": [],
   "source": [
    "#Do the same as at the beginning\n",
    "df_full = df_full.dropna().reset_index(drop=True)\n",
    "for col in df_full.columns[2:-1]:\n",
    "    if df_full[col].dtypes == 'object': #if the column contains string as well\n",
    "        df_full[col] = df_full[col].replace(to_replace='^\\D+',value='', regex=True).astype(dtype=float) #remove the * or any non digit and cast to float"
   ]
  },
  {
   "cell_type": "code",
   "execution_count": 26,
   "metadata": {},
   "outputs": [
    {
     "name": "stderr",
     "output_type": "stream",
     "text": [
      "/Users/barnabasp/opt/anaconda3/lib/python3.7/site-packages/ipykernel_launcher.py:1: SettingWithCopyWarning: \n",
      "A value is trying to be set on a copy of a slice from a DataFrame\n",
      "\n",
      "See the caveats in the documentation: https://pandas.pydata.org/pandas-docs/stable/user_guide/indexing.html#returning-a-view-versus-a-copy\n",
      "  \"\"\"Entry point for launching an IPython kernel.\n",
      "/Users/barnabasp/opt/anaconda3/lib/python3.7/site-packages/ipykernel_launcher.py:2: SettingWithCopyWarning: \n",
      "A value is trying to be set on a copy of a slice from a DataFrame\n",
      "\n",
      "See the caveats in the documentation: https://pandas.pydata.org/pandas-docs/stable/user_guide/indexing.html#returning-a-view-versus-a-copy\n",
      "  \n"
     ]
    }
   ],
   "source": [
    "df_full['CancerSEEK Test Result'][df_full['CancerSEEK Test Result'] == 'Positive'] = 0 #if cancerous\n",
    "df_full['CancerSEEK Test Result'][df_full['CancerSEEK Test Result'] == 'Negative'] = 1 #if normal"
   ]
  },
  {
   "cell_type": "code",
   "execution_count": 27,
   "metadata": {},
   "outputs": [],
   "source": [
    "y_cs = df_full[df_full.columns[-1]][1::2] # getting the last column"
   ]
  },
  {
   "cell_type": "code",
   "execution_count": 28,
   "metadata": {},
   "outputs": [
    {
     "data": {
      "text/plain": [
       "0.779134295227525"
      ]
     },
     "execution_count": 28,
     "metadata": {},
     "output_type": "execute_result"
    }
   ],
   "source": [
    "accuracy(y_cs.values, y_test)"
   ]
  },
  {
   "cell_type": "code",
   "execution_count": 29,
   "metadata": {},
   "outputs": [
    {
     "data": {
      "text/plain": [
       "Text(0.5, 1.0, 'Accuracy Score: 0.779134')"
      ]
     },
     "execution_count": 29,
     "metadata": {},
     "output_type": "execute_result"
    },
    {
     "data": {
      "image/png": "[encoded data removed]",
      "text/plain": [
       "<Figure size 648x648 with 2 Axes>"
      ]
     },
     "metadata": {
      "needs_background": "light"
     },
     "output_type": "display_data"
    }
   ],
   "source": [
    "plt.figure(figsize=(9,9))\n",
    "sns.heatmap(metrics.confusion_matrix(y_test, y_cs.values.astype(float)),\n",
    "            annot=True,\n",
    "            fmt=\"d\",\n",
    "            linewidths=.5,\n",
    "            square = True);\n",
    "plt.ylabel('Original',fontsize=15)\n",
    "plt.xlabel('Predicted by CancerSEEK',fontsize=15)\n",
    "all_sample_title = 'Accuracy Score: %f' % accuracy(y_cs.values, y_test)\n",
    "plt.title(all_sample_title, size = 15)"
   ]
  },
  {
   "cell_type": "markdown",
   "metadata": {},
   "source": [
    "### Creating ROC curve"
   ]
  },
  {
   "cell_type": "code",
   "execution_count": 30,
   "metadata": {},
   "outputs": [],
   "source": [
    "y_cs_score = clf.decision_function(X_test)\n",
    "\n",
    "# Compute ROC curve and ROC area\n",
    "fpr_cs = dict()\n",
    "tpr_cs = dict()\n",
    "fpr_cs, tpr_cs, _ = metrics.roc_curve(y_cs.values.astype(float), y_cs_score)\n",
    "roc_auc_cs = metrics.auc(fpr_cs, tpr_cs)"
   ]
  },
  {
   "cell_type": "code",
   "execution_count": 31,
   "metadata": {},
   "outputs": [
    {
     "data": {
      "image/png": "[encoded data removed]",
      "text/plain": [
       "<Figure size 648x648 with 1 Axes>"
      ]
     },
     "metadata": {
      "needs_background": "light"
     },
     "output_type": "display_data"
    }
   ],
   "source": [
    "plt.figure(figsize=(9,9))\n",
    "plt.plot(fpr_cs,tpr_cs, label='CancerSEEK ROC Curve')\n",
    "plt.plot(fpr,tpr, label='SKLearn ROC Curve')\n",
    "plt.plot([0, 1], [0, 1], color='navy', linestyle='--')\n",
    "plt.xlabel('False Positive Rate', fontsize=20)\n",
    "plt.ylabel('True Positive Rate',fontsize=20)\n",
    "plt.title('Receiver operating characteristic curve',fontsize=20)\n",
    "plt.legend(fontsize=20)\n",
    "plt.show()"
   ]
  },
  {
   "cell_type": "code",
   "execution_count": 32,
   "metadata": {},
   "outputs": [
    {
     "name": "stdout",
     "output_type": "stream",
     "text": [
      "Area under ROC 0.9549566734\n"
     ]
    }
   ],
   "source": [
    "print('Area under ROC %.10f' %roc_auc_cs)"
   ]
  },
  {
   "cell_type": "markdown",
   "metadata": {},
   "source": [
    "### My model was more successful than CancerSEEK regarding accuracy, but concerning ROC, CancerSEEK seems to be better"
   ]
  },
  {
   "cell_type": "markdown",
   "metadata": {
    "id": "b17I_WoP0eSE"
   },
   "source": [
    "### 4. Hepatocellular carcinoma\n",
    "\n",
    "* fit a logistic regression (using statsmodels API this time) to predict if a sample has Hepatocellular carcinoma (liver cancer) or not. You need to keep only the liver and the normal samples for this exercise! For fitting use only the first 25 features and all the rows (which are liver or normal)\n",
    "* select the 5 best predictor based on P values.\n",
    "* Write down the most important features (based on P value) and compare them to the tumor markers that you find on wikipeida https://en.wikipedia.org/wiki/Hepatocellular_carcinoma or other sources!"
   ]
  },
  {
   "cell_type": "code",
   "execution_count": 33,
   "metadata": {},
   "outputs": [],
   "source": [
    "newdw = [df[df['Tumor type'] == 6.0],df[df['Tumor type'] == 4.0]]\n",
    "liv_norm_df = pd.concat(newdw)\n",
    "liv_norm_df = liv_norm_df.replace([6.0,4.0],[1,0])\n",
    "Y_sm = liv_norm_df[liv_norm_df.columns[0]]\n",
    "liv_norm_scal_df = pd.DataFrame(StandardScaler().fit_transform(liv_norm_df[liv_norm_df.columns[2:27]]),columns=liv_norm_df[liv_norm_df.columns[2:27]].columns)"
   ]
  },
  {
   "cell_type": "code",
   "execution_count": 34,
   "metadata": {},
   "outputs": [],
   "source": [
    "#X_sm = liv_norm_df[liv_norm_df.columns[2:27]]\n",
    "#Y_sm = liv_norm_df[liv_norm_df.columns[0]]"
   ]
  },
  {
   "cell_type": "code",
   "execution_count": 35,
   "metadata": {},
   "outputs": [],
   "source": [
    "X_sm = liv_norm_scal_df[liv_norm_scal_df.columns]"
   ]
  },
  {
   "cell_type": "code",
   "execution_count": 36,
   "metadata": {},
   "outputs": [
    {
     "data": {
      "text/html": [
       "<div>\n",
       "<style scoped>\n",
       "    .dataframe tbody tr th:only-of-type {\n",
       "        vertical-align: middle;\n",
       "    }\n",
       "\n",
       "    .dataframe tbody tr th {\n",
       "        vertical-align: top;\n",
       "    }\n",
       "\n",
       "    .dataframe thead th {\n",
       "        text-align: right;\n",
       "    }\n",
       "</style>\n",
       "<table border=\"1\" class=\"dataframe\">\n",
       "  <thead>\n",
       "    <tr style=\"text-align: right;\">\n",
       "      <th></th>\n",
       "      <th>AFP (pg/ml)</th>\n",
       "      <th>Angiopoietin-2 (pg/ml)</th>\n",
       "      <th>AXL (pg/ml)</th>\n",
       "      <th>CA-125 (U/ml)</th>\n",
       "      <th>CA 15-3 (U/ml)</th>\n",
       "      <th>CA19-9 (U/ml)</th>\n",
       "      <th>CD44 (ng/ml)</th>\n",
       "      <th>CEA (pg/ml)</th>\n",
       "      <th>CYFRA 21-1 (pg/ml)</th>\n",
       "      <th>DKK1 (ng/ml)</th>\n",
       "      <th>...</th>\n",
       "      <th>GDF15 (ng/ml)</th>\n",
       "      <th>HE4 (pg/ml)</th>\n",
       "      <th>HGF (pg/ml)</th>\n",
       "      <th>IL-6 (pg/ml)</th>\n",
       "      <th>IL-8 (pg/ml)</th>\n",
       "      <th>Kallikrein-6 (pg/ml)</th>\n",
       "      <th>Leptin (pg/ml)</th>\n",
       "      <th>Mesothelin (ng/ml)</th>\n",
       "      <th>Midkine (pg/ml)</th>\n",
       "      <th>Myeloperoxidase (ng/ml)</th>\n",
       "    </tr>\n",
       "  </thead>\n",
       "  <tbody>\n",
       "    <tr>\n",
       "      <th>0</th>\n",
       "      <td>-0.130498</td>\n",
       "      <td>-0.483994</td>\n",
       "      <td>0.305638</td>\n",
       "      <td>0.185864</td>\n",
       "      <td>0.552312</td>\n",
       "      <td>-0.017257</td>\n",
       "      <td>0.481683</td>\n",
       "      <td>-0.083849</td>\n",
       "      <td>-0.143977</td>\n",
       "      <td>-0.473771</td>\n",
       "      <td>...</td>\n",
       "      <td>-0.071649</td>\n",
       "      <td>-0.134287</td>\n",
       "      <td>-0.164400</td>\n",
       "      <td>-0.236315</td>\n",
       "      <td>-0.209974</td>\n",
       "      <td>0.368356</td>\n",
       "      <td>-0.096510</td>\n",
       "      <td>0.461911</td>\n",
       "      <td>-0.017045</td>\n",
       "      <td>0.021164</td>\n",
       "    </tr>\n",
       "    <tr>\n",
       "      <th>1</th>\n",
       "      <td>-0.137778</td>\n",
       "      <td>-0.485948</td>\n",
       "      <td>-0.024943</td>\n",
       "      <td>-0.050162</td>\n",
       "      <td>-0.895378</td>\n",
       "      <td>-0.054561</td>\n",
       "      <td>2.450559</td>\n",
       "      <td>-0.101607</td>\n",
       "      <td>-0.143977</td>\n",
       "      <td>-0.407468</td>\n",
       "      <td>...</td>\n",
       "      <td>-0.368418</td>\n",
       "      <td>-0.134287</td>\n",
       "      <td>-0.223721</td>\n",
       "      <td>-0.263540</td>\n",
       "      <td>-0.209974</td>\n",
       "      <td>-0.240556</td>\n",
       "      <td>-0.543945</td>\n",
       "      <td>-0.373837</td>\n",
       "      <td>-0.160780</td>\n",
       "      <td>0.507661</td>\n",
       "    </tr>\n",
       "    <tr>\n",
       "      <th>2</th>\n",
       "      <td>-0.145579</td>\n",
       "      <td>-0.260032</td>\n",
       "      <td>1.341120</td>\n",
       "      <td>0.066682</td>\n",
       "      <td>0.089264</td>\n",
       "      <td>-0.054561</td>\n",
       "      <td>0.738619</td>\n",
       "      <td>-0.141099</td>\n",
       "      <td>-0.143977</td>\n",
       "      <td>-0.672681</td>\n",
       "      <td>...</td>\n",
       "      <td>-0.352799</td>\n",
       "      <td>-0.134287</td>\n",
       "      <td>0.051575</td>\n",
       "      <td>-0.236315</td>\n",
       "      <td>-0.209974</td>\n",
       "      <td>1.932870</td>\n",
       "      <td>0.549356</td>\n",
       "      <td>-0.521733</td>\n",
       "      <td>-0.184131</td>\n",
       "      <td>-0.013254</td>\n",
       "    </tr>\n",
       "    <tr>\n",
       "      <th>3</th>\n",
       "      <td>-0.145579</td>\n",
       "      <td>-0.891215</td>\n",
       "      <td>1.262118</td>\n",
       "      <td>-0.068390</td>\n",
       "      <td>0.868108</td>\n",
       "      <td>-0.054561</td>\n",
       "      <td>1.461309</td>\n",
       "      <td>0.104260</td>\n",
       "      <td>-0.143977</td>\n",
       "      <td>-0.783187</td>\n",
       "      <td>...</td>\n",
       "      <td>-0.274702</td>\n",
       "      <td>-0.134287</td>\n",
       "      <td>0.090663</td>\n",
       "      <td>-0.263540</td>\n",
       "      <td>-0.209974</td>\n",
       "      <td>0.495245</td>\n",
       "      <td>-0.349022</td>\n",
       "      <td>0.230877</td>\n",
       "      <td>-0.122287</td>\n",
       "      <td>0.230227</td>\n",
       "    </tr>\n",
       "    <tr>\n",
       "      <th>4</th>\n",
       "      <td>-0.119728</td>\n",
       "      <td>-0.627439</td>\n",
       "      <td>0.953776</td>\n",
       "      <td>-0.068390</td>\n",
       "      <td>-0.346285</td>\n",
       "      <td>-0.054561</td>\n",
       "      <td>0.505741</td>\n",
       "      <td>-0.140214</td>\n",
       "      <td>-0.143977</td>\n",
       "      <td>0.476577</td>\n",
       "      <td>...</td>\n",
       "      <td>-0.212224</td>\n",
       "      <td>-0.026976</td>\n",
       "      <td>-0.095451</td>\n",
       "      <td>-0.152615</td>\n",
       "      <td>-0.177402</td>\n",
       "      <td>-0.790783</td>\n",
       "      <td>1.233218</td>\n",
       "      <td>-0.581242</td>\n",
       "      <td>0.142222</td>\n",
       "      <td>-0.119065</td>\n",
       "    </tr>\n",
       "    <tr>\n",
       "      <th>...</th>\n",
       "      <td>...</td>\n",
       "      <td>...</td>\n",
       "      <td>...</td>\n",
       "      <td>...</td>\n",
       "      <td>...</td>\n",
       "      <td>...</td>\n",
       "      <td>...</td>\n",
       "      <td>...</td>\n",
       "      <td>...</td>\n",
       "      <td>...</td>\n",
       "      <td>...</td>\n",
       "      <td>...</td>\n",
       "      <td>...</td>\n",
       "      <td>...</td>\n",
       "      <td>...</td>\n",
       "      <td>...</td>\n",
       "      <td>...</td>\n",
       "      <td>...</td>\n",
       "      <td>...</td>\n",
       "      <td>...</td>\n",
       "      <td>...</td>\n",
       "    </tr>\n",
       "    <tr>\n",
       "      <th>838</th>\n",
       "      <td>8.152533</td>\n",
       "      <td>-0.291640</td>\n",
       "      <td>-0.642294</td>\n",
       "      <td>-0.044153</td>\n",
       "      <td>-0.466038</td>\n",
       "      <td>0.126098</td>\n",
       "      <td>-0.927131</td>\n",
       "      <td>0.016573</td>\n",
       "      <td>3.280033</td>\n",
       "      <td>0.056655</td>\n",
       "      <td>...</td>\n",
       "      <td>0.443791</td>\n",
       "      <td>-0.102247</td>\n",
       "      <td>2.038097</td>\n",
       "      <td>2.297020</td>\n",
       "      <td>0.438902</td>\n",
       "      <td>-1.597631</td>\n",
       "      <td>2.043905</td>\n",
       "      <td>-1.244590</td>\n",
       "      <td>-0.455197</td>\n",
       "      <td>0.533241</td>\n",
       "    </tr>\n",
       "    <tr>\n",
       "      <th>839</th>\n",
       "      <td>-0.140395</td>\n",
       "      <td>0.923923</td>\n",
       "      <td>0.513688</td>\n",
       "      <td>-0.067188</td>\n",
       "      <td>-0.196371</td>\n",
       "      <td>-0.053750</td>\n",
       "      <td>-0.533548</td>\n",
       "      <td>-0.078828</td>\n",
       "      <td>-0.086972</td>\n",
       "      <td>0.233464</td>\n",
       "      <td>...</td>\n",
       "      <td>2.646129</td>\n",
       "      <td>-0.171062</td>\n",
       "      <td>0.939264</td>\n",
       "      <td>11.349113</td>\n",
       "      <td>0.600018</td>\n",
       "      <td>-0.547755</td>\n",
       "      <td>-0.615773</td>\n",
       "      <td>0.161742</td>\n",
       "      <td>0.299854</td>\n",
       "      <td>8.091157</td>\n",
       "    </tr>\n",
       "    <tr>\n",
       "      <th>840</th>\n",
       "      <td>8.127354</td>\n",
       "      <td>-0.401363</td>\n",
       "      <td>0.441395</td>\n",
       "      <td>0.362132</td>\n",
       "      <td>-0.184839</td>\n",
       "      <td>-0.053750</td>\n",
       "      <td>-0.612457</td>\n",
       "      <td>-0.138815</td>\n",
       "      <td>-0.171900</td>\n",
       "      <td>0.564981</td>\n",
       "      <td>...</td>\n",
       "      <td>1.459053</td>\n",
       "      <td>-0.171062</td>\n",
       "      <td>0.856088</td>\n",
       "      <td>9.413293</td>\n",
       "      <td>0.271690</td>\n",
       "      <td>-0.384617</td>\n",
       "      <td>-0.657780</td>\n",
       "      <td>-0.810526</td>\n",
       "      <td>0.447978</td>\n",
       "      <td>1.622977</td>\n",
       "    </tr>\n",
       "    <tr>\n",
       "      <th>841</th>\n",
       "      <td>2.145285</td>\n",
       "      <td>-0.074262</td>\n",
       "      <td>-1.621814</td>\n",
       "      <td>-0.044153</td>\n",
       "      <td>8.351389</td>\n",
       "      <td>-0.044880</td>\n",
       "      <td>-1.148461</td>\n",
       "      <td>0.013196</td>\n",
       "      <td>16.131841</td>\n",
       "      <td>0.056655</td>\n",
       "      <td>...</td>\n",
       "      <td>0.943613</td>\n",
       "      <td>-0.102247</td>\n",
       "      <td>0.531136</td>\n",
       "      <td>0.217034</td>\n",
       "      <td>0.123347</td>\n",
       "      <td>-0.807522</td>\n",
       "      <td>-0.570760</td>\n",
       "      <td>-0.963673</td>\n",
       "      <td>-0.393300</td>\n",
       "      <td>1.938781</td>\n",
       "    </tr>\n",
       "    <tr>\n",
       "      <th>842</th>\n",
       "      <td>-0.147259</td>\n",
       "      <td>4.418005</td>\n",
       "      <td>0.432592</td>\n",
       "      <td>-0.067188</td>\n",
       "      <td>0.531910</td>\n",
       "      <td>-0.053750</td>\n",
       "      <td>-0.468112</td>\n",
       "      <td>-0.072452</td>\n",
       "      <td>-0.171900</td>\n",
       "      <td>-0.915793</td>\n",
       "      <td>...</td>\n",
       "      <td>3.848824</td>\n",
       "      <td>-0.171062</td>\n",
       "      <td>0.044965</td>\n",
       "      <td>-0.209507</td>\n",
       "      <td>0.408711</td>\n",
       "      <td>-1.248170</td>\n",
       "      <td>-0.219121</td>\n",
       "      <td>0.125862</td>\n",
       "      <td>0.495374</td>\n",
       "      <td>-0.037207</td>\n",
       "    </tr>\n",
       "  </tbody>\n",
       "</table>\n",
       "<p>843 rows × 25 columns</p>\n",
       "</div>"
      ],
      "text/plain": [
       "     AFP (pg/ml)  Angiopoietin-2 (pg/ml)  AXL (pg/ml)  CA-125 (U/ml)  \\\n",
       "0      -0.130498               -0.483994     0.305638       0.185864   \n",
       "1      -0.137778               -0.485948    -0.024943      -0.050162   \n",
       "2      -0.145579               -0.260032     1.341120       0.066682   \n",
       "3      -0.145579               -0.891215     1.262118      -0.068390   \n",
       "4      -0.119728               -0.627439     0.953776      -0.068390   \n",
       "..           ...                     ...          ...            ...   \n",
       "838     8.152533               -0.291640    -0.642294      -0.044153   \n",
       "839    -0.140395                0.923923     0.513688      -0.067188   \n",
       "840     8.127354               -0.401363     0.441395       0.362132   \n",
       "841     2.145285               -0.074262    -1.621814      -0.044153   \n",
       "842    -0.147259                4.418005     0.432592      -0.067188   \n",
       "\n",
       "     CA 15-3 (U/ml)  CA19-9 (U/ml)  CD44 (ng/ml)  CEA (pg/ml)  \\\n",
       "0          0.552312      -0.017257      0.481683    -0.083849   \n",
       "1         -0.895378      -0.054561      2.450559    -0.101607   \n",
       "2          0.089264      -0.054561      0.738619    -0.141099   \n",
       "3          0.868108      -0.054561      1.461309     0.104260   \n",
       "4         -0.346285      -0.054561      0.505741    -0.140214   \n",
       "..              ...            ...           ...          ...   \n",
       "838       -0.466038       0.126098     -0.927131     0.016573   \n",
       "839       -0.196371      -0.053750     -0.533548    -0.078828   \n",
       "840       -0.184839      -0.053750     -0.612457    -0.138815   \n",
       "841        8.351389      -0.044880     -1.148461     0.013196   \n",
       "842        0.531910      -0.053750     -0.468112    -0.072452   \n",
       "\n",
       "     CYFRA 21-1 (pg/ml)  DKK1 (ng/ml)  ...  GDF15 (ng/ml)  HE4 (pg/ml)  \\\n",
       "0             -0.143977     -0.473771  ...      -0.071649    -0.134287   \n",
       "1             -0.143977     -0.407468  ...      -0.368418    -0.134287   \n",
       "2             -0.143977     -0.672681  ...      -0.352799    -0.134287   \n",
       "3             -0.143977     -0.783187  ...      -0.274702    -0.134287   \n",
       "4             -0.143977      0.476577  ...      -0.212224    -0.026976   \n",
       "..                  ...           ...  ...            ...          ...   \n",
       "838            3.280033      0.056655  ...       0.443791    -0.102247   \n",
       "839           -0.086972      0.233464  ...       2.646129    -0.171062   \n",
       "840           -0.171900      0.564981  ...       1.459053    -0.171062   \n",
       "841           16.131841      0.056655  ...       0.943613    -0.102247   \n",
       "842           -0.171900     -0.915793  ...       3.848824    -0.171062   \n",
       "\n",
       "     HGF (pg/ml)  IL-6 (pg/ml)  IL-8 (pg/ml)  Kallikrein-6 (pg/ml)  \\\n",
       "0      -0.164400     -0.236315     -0.209974              0.368356   \n",
       "1      -0.223721     -0.263540     -0.209974             -0.240556   \n",
       "2       0.051575     -0.236315     -0.209974              1.932870   \n",
       "3       0.090663     -0.263540     -0.209974              0.495245   \n",
       "4      -0.095451     -0.152615     -0.177402             -0.790783   \n",
       "..           ...           ...           ...                   ...   \n",
       "838     2.038097      2.297020      0.438902             -1.597631   \n",
       "839     0.939264     11.349113      0.600018             -0.547755   \n",
       "840     0.856088      9.413293      0.271690             -0.384617   \n",
       "841     0.531136      0.217034      0.123347             -0.807522   \n",
       "842     0.044965     -0.209507      0.408711             -1.248170   \n",
       "\n",
       "     Leptin (pg/ml)  Mesothelin (ng/ml)  Midkine (pg/ml)  \\\n",
       "0         -0.096510            0.461911        -0.017045   \n",
       "1         -0.543945           -0.373837        -0.160780   \n",
       "2          0.549356           -0.521733        -0.184131   \n",
       "3         -0.349022            0.230877        -0.122287   \n",
       "4          1.233218           -0.581242         0.142222   \n",
       "..              ...                 ...              ...   \n",
       "838        2.043905           -1.244590        -0.455197   \n",
       "839       -0.615773            0.161742         0.299854   \n",
       "840       -0.657780           -0.810526         0.447978   \n",
       "841       -0.570760           -0.963673        -0.393300   \n",
       "842       -0.219121            0.125862         0.495374   \n",
       "\n",
       "     Myeloperoxidase (ng/ml)  \n",
       "0                   0.021164  \n",
       "1                   0.507661  \n",
       "2                  -0.013254  \n",
       "3                   0.230227  \n",
       "4                  -0.119065  \n",
       "..                       ...  \n",
       "838                 0.533241  \n",
       "839                 8.091157  \n",
       "840                 1.622977  \n",
       "841                 1.938781  \n",
       "842                -0.037207  \n",
       "\n",
       "[843 rows x 25 columns]"
      ]
     },
     "execution_count": 36,
     "metadata": {},
     "output_type": "execute_result"
    }
   ],
   "source": [
    "liv_norm_scal_df"
   ]
  },
  {
   "cell_type": "code",
   "execution_count": 37,
   "metadata": {},
   "outputs": [],
   "source": [
    "Y_sm = Y_sm.reset_index(drop=True)"
   ]
  },
  {
   "cell_type": "code",
   "execution_count": 38,
   "metadata": {},
   "outputs": [
    {
     "name": "stdout",
     "output_type": "stream",
     "text": [
      "Optimization terminated successfully.\n",
      "         Current function value: 0.090319\n",
      "         Iterations 12\n"
     ]
    }
   ],
   "source": [
    "res = sm.Logit(Y_sm,X_sm).fit()"
   ]
  },
  {
   "cell_type": "code",
   "execution_count": 39,
   "metadata": {},
   "outputs": [
    {
     "data": {
      "text/html": [
       "<table class=\"simpletable\">\n",
       "<caption>Logit Regression Results</caption>\n",
       "<tr>\n",
       "  <th>Dep. Variable:</th>      <td>Tumor type</td>    <th>  No. Observations:  </th>  <td>   843</td>  \n",
       "</tr>\n",
       "<tr>\n",
       "  <th>Model:</th>                 <td>Logit</td>      <th>  Df Residuals:      </th>  <td>   818</td>  \n",
       "</tr>\n",
       "<tr>\n",
       "  <th>Method:</th>                 <td>MLE</td>       <th>  Df Model:          </th>  <td>    24</td>  \n",
       "</tr>\n",
       "<tr>\n",
       "  <th>Date:</th>            <td>Thu, 14 Oct 2021</td> <th>  Pseudo R-squ.:     </th>  <td>0.5593</td>  \n",
       "</tr>\n",
       "<tr>\n",
       "  <th>Time:</th>                <td>23:45:10</td>     <th>  Log-Likelihood:    </th> <td> -76.139</td> \n",
       "</tr>\n",
       "<tr>\n",
       "  <th>converged:</th>             <td>True</td>       <th>  LL-Null:           </th> <td> -172.75</td> \n",
       "</tr>\n",
       "<tr>\n",
       "  <th>Covariance Type:</th>     <td>nonrobust</td>    <th>  LLR p-value:       </th> <td>2.124e-28</td>\n",
       "</tr>\n",
       "</table>\n",
       "<table class=\"simpletable\">\n",
       "<tr>\n",
       "             <td></td>                <th>coef</th>     <th>std err</th>      <th>z</th>      <th>P>|z|</th>  <th>[0.025</th>    <th>0.975]</th>  \n",
       "</tr>\n",
       "<tr>\n",
       "  <th>AFP (pg/ml)</th>             <td>  -28.3737</td> <td>    3.075</td> <td>   -9.228</td> <td> 0.000</td> <td>  -34.400</td> <td>  -22.347</td>\n",
       "</tr>\n",
       "<tr>\n",
       "  <th>Angiopoietin-2 (pg/ml)</th>  <td>    1.4203</td> <td>    0.480</td> <td>    2.958</td> <td> 0.003</td> <td>    0.479</td> <td>    2.361</td>\n",
       "</tr>\n",
       "<tr>\n",
       "  <th>AXL (pg/ml)</th>             <td>   -0.2528</td> <td>    0.261</td> <td>   -0.969</td> <td> 0.333</td> <td>   -0.764</td> <td>    0.259</td>\n",
       "</tr>\n",
       "<tr>\n",
       "  <th>CA-125 (U/ml)</th>           <td>  -12.7605</td> <td>    3.058</td> <td>   -4.173</td> <td> 0.000</td> <td>  -18.754</td> <td>   -6.767</td>\n",
       "</tr>\n",
       "<tr>\n",
       "  <th>CA 15-3 (U/ml)</th>          <td>    0.0644</td> <td>    0.253</td> <td>    0.254</td> <td> 0.799</td> <td>   -0.432</td> <td>    0.560</td>\n",
       "</tr>\n",
       "<tr>\n",
       "  <th>CA19-9 (U/ml)</th>           <td>  -10.5037</td> <td>    3.868</td> <td>   -2.715</td> <td> 0.007</td> <td>  -18.086</td> <td>   -2.922</td>\n",
       "</tr>\n",
       "<tr>\n",
       "  <th>CD44 (ng/ml)</th>            <td>    1.3218</td> <td>    0.505</td> <td>    2.617</td> <td> 0.009</td> <td>    0.332</td> <td>    2.312</td>\n",
       "</tr>\n",
       "<tr>\n",
       "  <th>CEA (pg/ml)</th>             <td>   -1.3503</td> <td>    2.074</td> <td>   -0.651</td> <td> 0.515</td> <td>   -5.415</td> <td>    2.714</td>\n",
       "</tr>\n",
       "<tr>\n",
       "  <th>CYFRA 21-1 (pg/ml)</th>      <td>   -0.1371</td> <td>    0.258</td> <td>   -0.531</td> <td> 0.595</td> <td>   -0.643</td> <td>    0.369</td>\n",
       "</tr>\n",
       "<tr>\n",
       "  <th>DKK1 (ng/ml)</th>            <td>    0.7324</td> <td>    0.323</td> <td>    2.271</td> <td> 0.023</td> <td>    0.100</td> <td>    1.365</td>\n",
       "</tr>\n",
       "<tr>\n",
       "  <th>Endoglin (pg/ml)</th>        <td>   -0.1152</td> <td>    0.206</td> <td>   -0.558</td> <td> 0.577</td> <td>   -0.520</td> <td>    0.289</td>\n",
       "</tr>\n",
       "<tr>\n",
       "  <th>FGF2 (pg/ml)</th>            <td>    0.4493</td> <td>    0.323</td> <td>    1.389</td> <td> 0.165</td> <td>   -0.184</td> <td>    1.083</td>\n",
       "</tr>\n",
       "<tr>\n",
       "  <th>Follistatin (pg/ml)</th>     <td>   -0.4127</td> <td>    0.302</td> <td>   -1.365</td> <td> 0.172</td> <td>   -1.005</td> <td>    0.180</td>\n",
       "</tr>\n",
       "<tr>\n",
       "  <th>Galectin-3 (ng/ml)</th>      <td>   -0.4570</td> <td>    0.379</td> <td>   -1.207</td> <td> 0.227</td> <td>   -1.199</td> <td>    0.285</td>\n",
       "</tr>\n",
       "<tr>\n",
       "  <th>G-CSF (pg/ml)</th>           <td>   -0.0614</td> <td>    0.306</td> <td>   -0.200</td> <td> 0.841</td> <td>   -0.662</td> <td>    0.539</td>\n",
       "</tr>\n",
       "<tr>\n",
       "  <th>GDF15 (ng/ml)</th>           <td>    2.6268</td> <td>    0.716</td> <td>    3.669</td> <td> 0.000</td> <td>    1.223</td> <td>    4.030</td>\n",
       "</tr>\n",
       "<tr>\n",
       "  <th>HE4 (pg/ml)</th>             <td>    0.6182</td> <td>    0.545</td> <td>    1.135</td> <td> 0.257</td> <td>   -0.450</td> <td>    1.686</td>\n",
       "</tr>\n",
       "<tr>\n",
       "  <th>HGF (pg/ml)</th>             <td>   -4.8405</td> <td>    0.985</td> <td>   -4.916</td> <td> 0.000</td> <td>   -6.770</td> <td>   -2.911</td>\n",
       "</tr>\n",
       "<tr>\n",
       "  <th>IL-6 (pg/ml)</th>            <td>   -0.4310</td> <td>    0.309</td> <td>   -1.394</td> <td> 0.163</td> <td>   -1.037</td> <td>    0.175</td>\n",
       "</tr>\n",
       "<tr>\n",
       "  <th>IL-8 (pg/ml)</th>            <td>   -0.4336</td> <td>    0.240</td> <td>   -1.806</td> <td> 0.071</td> <td>   -0.904</td> <td>    0.037</td>\n",
       "</tr>\n",
       "<tr>\n",
       "  <th>Kallikrein-6 (pg/ml)</th>    <td>    0.2725</td> <td>    0.255</td> <td>    1.069</td> <td> 0.285</td> <td>   -0.227</td> <td>    0.772</td>\n",
       "</tr>\n",
       "<tr>\n",
       "  <th>Leptin (pg/ml)</th>          <td>    0.1209</td> <td>    0.299</td> <td>    0.404</td> <td> 0.686</td> <td>   -0.466</td> <td>    0.707</td>\n",
       "</tr>\n",
       "<tr>\n",
       "  <th>Mesothelin (ng/ml)</th>      <td>   -0.6850</td> <td>    0.328</td> <td>   -2.090</td> <td> 0.037</td> <td>   -1.327</td> <td>   -0.043</td>\n",
       "</tr>\n",
       "<tr>\n",
       "  <th>Midkine (pg/ml)</th>         <td>    0.1289</td> <td>    0.240</td> <td>    0.538</td> <td> 0.591</td> <td>   -0.341</td> <td>    0.599</td>\n",
       "</tr>\n",
       "<tr>\n",
       "  <th>Myeloperoxidase (ng/ml)</th> <td>   -0.5595</td> <td>    0.343</td> <td>   -1.631</td> <td> 0.103</td> <td>   -1.232</td> <td>    0.113</td>\n",
       "</tr>\n",
       "</table><br/><br/>Possibly complete quasi-separation: A fraction 0.11 of observations can be<br/>perfectly predicted. This might indicate that there is complete<br/>quasi-separation. In this case some parameters will not be identified."
      ],
      "text/plain": [
       "<class 'statsmodels.iolib.summary.Summary'>\n",
       "\"\"\"\n",
       "                           Logit Regression Results                           \n",
       "==============================================================================\n",
       "Dep. Variable:             Tumor type   No. Observations:                  843\n",
       "Model:                          Logit   Df Residuals:                      818\n",
       "Method:                           MLE   Df Model:                           24\n",
       "Date:                Thu, 14 Oct 2021   Pseudo R-squ.:                  0.5593\n",
       "Time:                        23:45:10   Log-Likelihood:                -76.139\n",
       "converged:                       True   LL-Null:                       -172.75\n",
       "Covariance Type:            nonrobust   LLR p-value:                 2.124e-28\n",
       "===========================================================================================\n",
       "                              coef    std err          z      P>|z|      [0.025      0.975]\n",
       "-------------------------------------------------------------------------------------------\n",
       "AFP (pg/ml)               -28.3737      3.075     -9.228      0.000     -34.400     -22.347\n",
       "Angiopoietin-2 (pg/ml)      1.4203      0.480      2.958      0.003       0.479       2.361\n",
       "AXL (pg/ml)                -0.2528      0.261     -0.969      0.333      -0.764       0.259\n",
       "CA-125 (U/ml)             -12.7605      3.058     -4.173      0.000     -18.754      -6.767\n",
       "CA 15-3 (U/ml)              0.0644      0.253      0.254      0.799      -0.432       0.560\n",
       "CA19-9 (U/ml)             -10.5037      3.868     -2.715      0.007     -18.086      -2.922\n",
       "CD44 (ng/ml)                1.3218      0.505      2.617      0.009       0.332       2.312\n",
       "CEA (pg/ml)                -1.3503      2.074     -0.651      0.515      -5.415       2.714\n",
       "CYFRA 21-1 (pg/ml)         -0.1371      0.258     -0.531      0.595      -0.643       0.369\n",
       "DKK1 (ng/ml)                0.7324      0.323      2.271      0.023       0.100       1.365\n",
       "Endoglin (pg/ml)           -0.1152      0.206     -0.558      0.577      -0.520       0.289\n",
       "FGF2 (pg/ml)                0.4493      0.323      1.389      0.165      -0.184       1.083\n",
       "Follistatin (pg/ml)        -0.4127      0.302     -1.365      0.172      -1.005       0.180\n",
       "Galectin-3 (ng/ml)         -0.4570      0.379     -1.207      0.227      -1.199       0.285\n",
       "G-CSF (pg/ml)              -0.0614      0.306     -0.200      0.841      -0.662       0.539\n",
       "GDF15 (ng/ml)               2.6268      0.716      3.669      0.000       1.223       4.030\n",
       "HE4 (pg/ml)                 0.6182      0.545      1.135      0.257      -0.450       1.686\n",
       "HGF (pg/ml)                -4.8405      0.985     -4.916      0.000      -6.770      -2.911\n",
       "IL-6 (pg/ml)               -0.4310      0.309     -1.394      0.163      -1.037       0.175\n",
       "IL-8 (pg/ml)               -0.4336      0.240     -1.806      0.071      -0.904       0.037\n",
       "Kallikrein-6 (pg/ml)        0.2725      0.255      1.069      0.285      -0.227       0.772\n",
       "Leptin (pg/ml)              0.1209      0.299      0.404      0.686      -0.466       0.707\n",
       "Mesothelin (ng/ml)         -0.6850      0.328     -2.090      0.037      -1.327      -0.043\n",
       "Midkine (pg/ml)             0.1289      0.240      0.538      0.591      -0.341       0.599\n",
       "Myeloperoxidase (ng/ml)    -0.5595      0.343     -1.631      0.103      -1.232       0.113\n",
       "===========================================================================================\n",
       "\n",
       "Possibly complete quasi-separation: A fraction 0.11 of observations can be\n",
       "perfectly predicted. This might indicate that there is complete\n",
       "quasi-separation. In this case some parameters will not be identified.\n",
       "\"\"\""
      ]
     },
     "execution_count": 39,
     "metadata": {},
     "output_type": "execute_result"
    }
   ],
   "source": [
    "res.summary()"
   ]
  },
  {
   "cell_type": "code",
   "execution_count": 40,
   "metadata": {},
   "outputs": [],
   "source": [
    "results = pd.DataFrame(res.pvalues,res.pvalues.index)"
   ]
  },
  {
   "cell_type": "code",
   "execution_count": 41,
   "metadata": {},
   "outputs": [
    {
     "data": {
      "text/html": [
       "<div>\n",
       "<style scoped>\n",
       "    .dataframe tbody tr th:only-of-type {\n",
       "        vertical-align: middle;\n",
       "    }\n",
       "\n",
       "    .dataframe tbody tr th {\n",
       "        vertical-align: top;\n",
       "    }\n",
       "\n",
       "    .dataframe thead th {\n",
       "        text-align: right;\n",
       "    }\n",
       "</style>\n",
       "<table border=\"1\" class=\"dataframe\">\n",
       "  <thead>\n",
       "    <tr style=\"text-align: right;\">\n",
       "      <th></th>\n",
       "      <th>0</th>\n",
       "    </tr>\n",
       "  </thead>\n",
       "  <tbody>\n",
       "    <tr>\n",
       "      <th>G-CSF (pg/ml)</th>\n",
       "      <td>0.841190</td>\n",
       "    </tr>\n",
       "    <tr>\n",
       "      <th>CA 15-3 (U/ml)</th>\n",
       "      <td>0.799129</td>\n",
       "    </tr>\n",
       "    <tr>\n",
       "      <th>Leptin (pg/ml)</th>\n",
       "      <td>0.686138</td>\n",
       "    </tr>\n",
       "    <tr>\n",
       "      <th>CYFRA 21-1 (pg/ml)</th>\n",
       "      <td>0.595456</td>\n",
       "    </tr>\n",
       "    <tr>\n",
       "      <th>Midkine (pg/ml)</th>\n",
       "      <td>0.590884</td>\n",
       "    </tr>\n",
       "  </tbody>\n",
       "</table>\n",
       "</div>"
      ],
      "text/plain": [
       "                           0\n",
       "G-CSF (pg/ml)       0.841190\n",
       "CA 15-3 (U/ml)      0.799129\n",
       "Leptin (pg/ml)      0.686138\n",
       "CYFRA 21-1 (pg/ml)  0.595456\n",
       "Midkine (pg/ml)     0.590884"
      ]
     },
     "execution_count": 41,
     "metadata": {},
     "output_type": "execute_result"
    }
   ],
   "source": [
    "results.sort_values(0, ascending=False)[0:5]"
   ]
  },
  {
   "cell_type": "markdown",
   "metadata": {},
   "source": [
    "### https://en.wikipedia.org/wiki/Tumor_marker\n",
    "#### here we can see:\n",
    "* CYFRA 21-1: Many types of carcinoma, some types of sarcoma\n",
    "* CA 15-3: (HUN) https://www.synlab.hu/lakossagi/vizsgalat/ca-15-3, mostly related to breast cancer and liver\n",
    "* Midkine: related to bunch of cancer, including liver: https://www.nature.com/articles/s41388-019-1124-8\n",
    "* Leptin: Related to obesity and https://bmccancer.biomedcentral.com/articles/10.1186/s12885-020-07651-1 liver cancer as well\n",
    "* G-CSF: This seems to be highest one, however https://www.nature.com/articles/bmt2014278 study shows that it is used in cancer treatment, therefore that's why it is the highest one"
   ]
  },
  {
   "cell_type": "markdown",
   "metadata": {
    "id": "b17I_WoP0eSE"
   },
   "source": [
    "### 5. Multiclass classification\n",
    "\n",
    "* Again, using every second datapoint train a logistic regression (sklearn API) to predict the tumor type. It is a multiclass classification problem.\n",
    "* Generate prediction for the rest of the dataset and show the confution matrix for the predictions!\n",
    "* Plot the ROC curves for the different cancer types on the same plot!\n",
    "* Intepret your results. Which cancer type can be predicted the most reliably?"
   ]
  },
  {
   "cell_type": "code",
   "execution_count": 42,
   "metadata": {},
   "outputs": [
    {
     "name": "stderr",
     "output_type": "stream",
     "text": [
      "/Users/barnabasp/opt/anaconda3/lib/python3.7/site-packages/sklearn/linear_model/logistic.py:432: FutureWarning: Default solver will be changed to 'lbfgs' in 0.22. Specify a solver to silence this warning.\n",
      "  FutureWarning)\n",
      "/Users/barnabasp/opt/anaconda3/lib/python3.7/site-packages/sklearn/linear_model/logistic.py:469: FutureWarning: Default multi_class will be changed to 'auto' in 0.22. Specify the multi_class option to silence this warning.\n",
      "  \"this warning.\", FutureWarning)\n",
      "/Users/barnabasp/opt/anaconda3/lib/python3.7/site-packages/sklearn/svm/base.py:929: ConvergenceWarning: Liblinear failed to converge, increase the number of iterations.\n",
      "  \"the number of iterations.\", ConvergenceWarning)\n"
     ]
    }
   ],
   "source": [
    "X_5 = df[df.columns[1:]]\n",
    "X_train_5 = X_5[::2]\n",
    "X_test_5 = X_5[1::2]\n",
    "\n",
    "y_5 = df[df.columns[0]]\n",
    "y_train_5 = y_5[::2]\n",
    "y_test_5 = y_5[1::2]\n",
    "\n",
    "clf_5 = LogisticRegression().fit(X_train_5, y_train_5)\n",
    "\n",
    "ypred5 = clf_5.predict(X_test_5)"
   ]
  },
  {
   "cell_type": "code",
   "execution_count": 43,
   "metadata": {},
   "outputs": [
    {
     "name": "stdout",
     "output_type": "stream",
     "text": [
      "0.6692563817980022\n",
      "0.6692563817980022\n"
     ]
    }
   ],
   "source": [
    "accuracy(y_test_5,ypred5)\n",
    "score = clf_5.score(X_test_5, y_test_5)\n",
    "print(accuracy(y_test_5,ypred5))\n",
    "print(score)"
   ]
  },
  {
   "cell_type": "code",
   "execution_count": 44,
   "metadata": {},
   "outputs": [
    {
     "name": "stdout",
     "output_type": "stream",
     "text": [
      "[[ 25  31   0   0   1  39   0   4   2]\n",
      " [ 13 133   9   0   3  25   4   2   8]\n",
      " [  0   9   2   0   1   4   0   1   2]\n",
      " [  2   5   3   8   0   0   0   1   5]\n",
      " [  7  22   0   0  11   7   2   0   0]\n",
      " [  9   5   0   1   2 380   0   1   1]\n",
      " [  2   4   0   0   0   2  19   0   1]\n",
      " [  1   6   1   0   1  17   1  21   0]\n",
      " [  2  15   1   0   4   6   0   3   4]]\n"
     ]
    },
    {
     "data": {
      "text/plain": [
       "Text(0.5, 1.0, 'Accuracy Score: 0.669256')"
      ]
     },
     "execution_count": 44,
     "metadata": {},
     "output_type": "execute_result"
    },
    {
     "data": {
      "image/png": "[encoded data removed]",
      "text/plain": [
       "<Figure size 648x648 with 2 Axes>"
      ]
     },
     "metadata": {
      "needs_background": "light"
     },
     "output_type": "display_data"
    }
   ],
   "source": [
    "cm = metrics.confusion_matrix(y_test_5, ypred5)\n",
    "print(cm)\n",
    "\n",
    "plt.figure(figsize=(9,9))\n",
    "sns.heatmap(cm,\n",
    "            annot=True,\n",
    "            fmt=\"d\",\n",
    "            linewidths=.5,\n",
    "            square = True,\n",
    "           xticklabels=tumor_types,\n",
    "           yticklabels=tumor_types);\n",
    "plt.ylabel('Original',fontsize=15)\n",
    "plt.xlabel('Predicted',fontsize=15)\n",
    "all_sample_title = 'Accuracy Score: %f' % score\n",
    "plt.title(all_sample_title, size = 15)"
   ]
  },
  {
   "cell_type": "code",
   "execution_count": 45,
   "metadata": {},
   "outputs": [
    {
     "name": "stdout",
     "output_type": "stream",
     "text": [
      "[25, 133, 2, 8, 11, 380, 19, 21, 4] [763, 607, 868, 876, 840, 402, 866, 841, 847] [36, 97, 14, 1, 12, 100, 7, 12, 19] [77, 64, 17, 16, 38, 19, 9, 27, 31]\n"
     ]
    }
   ],
   "source": [
    "TP = []\n",
    "FP = []\n",
    "TN = []\n",
    "FN = []\n",
    "for i in range(9):\n",
    "    tp = cm[i,i]\n",
    "    fp = sum(cm[:,i]) - tp #\n",
    "    fn = sum(cm[i,:]) - tp\n",
    "    tn = sum(sum(cm)) - fn - fp - tp\n",
    "    TP.append(tp)\n",
    "    TN.append(tn)\n",
    "    FP.append(fp)\n",
    "    FN.append(fn)\n",
    "\n",
    "print(TP,TN,FP,FN)\n",
    "\n",
    "TP = np.array(TP)\n",
    "TN = np.array(TN)\n",
    "FP = np.array(FP)\n",
    "FN = np.array(FN)"
   ]
  },
  {
   "cell_type": "markdown",
   "metadata": {},
   "source": [
    "### Making ROC Curve"
   ]
  },
  {
   "cell_type": "code",
   "execution_count": 46,
   "metadata": {},
   "outputs": [],
   "source": [
    "y_test_5 = label_binarize(y_test_5, classes=[1, 2, 3, 4, 5, 6, 7, 8, 9]) #onehot_encoding in a new way"
   ]
  },
  {
   "cell_type": "code",
   "execution_count": 47,
   "metadata": {},
   "outputs": [],
   "source": [
    "y_score_5 = clf_5.decision_function(X_test_5) #confidence score"
   ]
  },
  {
   "cell_type": "code",
   "execution_count": 48,
   "metadata": {},
   "outputs": [
    {
     "name": "stdout",
     "output_type": "stream",
     "text": [
      "[[0 1 0 ... 0 0 0]\n",
      " [0 1 0 ... 0 0 0]\n",
      " [0 1 0 ... 0 0 0]\n",
      " ...\n",
      " [0 0 0 ... 1 0 0]\n",
      " [0 0 0 ... 1 0 0]\n",
      " [0 0 0 ... 1 0 0]]\n"
     ]
    }
   ],
   "source": [
    "print(y_test_5)"
   ]
  },
  {
   "cell_type": "code",
   "execution_count": 49,
   "metadata": {},
   "outputs": [
    {
     "data": {
      "text/plain": [
       "(901, 9)"
      ]
     },
     "execution_count": 49,
     "metadata": {},
     "output_type": "execute_result"
    }
   ],
   "source": [
    "np.shape(y_test_5)"
   ]
  },
  {
   "cell_type": "code",
   "execution_count": 50,
   "metadata": {},
   "outputs": [],
   "source": [
    "# Compute ROC curve and ROC area for each class\n",
    "fpr_5 = dict()\n",
    "tpr_5 = dict()\n",
    "roc_auc = dict()\n",
    "for i in range(np.shape(y_test_5)[1]):\n",
    "    fpr_5[i], tpr_5[i], _ = metrics.roc_curve(y_test_5[:,i], y_score_5[:, i])\n",
    "    roc_auc[i] = metrics.auc(fpr_5[i], tpr_5[i])"
   ]
  },
  {
   "cell_type": "code",
   "execution_count": 51,
   "metadata": {},
   "outputs": [
    {
     "data": {
      "image/png": "[encoded data removed]",
      "text/plain": [
       "<Figure size 1080x1080 with 1 Axes>"
      ]
     },
     "metadata": {
      "needs_background": "light"
     },
     "output_type": "display_data"
    }
   ],
   "source": [
    "plt.figure(figsize=(15,15))\n",
    "for i in range(np.shape(y_test_5)[1]):\n",
    "    plt.plot(fpr_5[i],tpr_5[i], label='ROC Curve %s' %tumor_types[i])\n",
    "plt.plot([0, 1], [0, 1], color='navy', linestyle='--')\n",
    "plt.xlabel('False Positive Rate', fontsize=20)\n",
    "plt.ylabel('True Positive Rate',fontsize=20)\n",
    "plt.title('Receiver operating characteristic curve - Multiclass',fontsize=20)\n",
    "plt.ylim(0.0,1.0)\n",
    "plt.legend(fontsize=20)\n",
    "plt.show()"
   ]
  },
  {
   "cell_type": "markdown",
   "metadata": {},
   "source": [
    "Based on this, ovary, colorectum and then liver.\n",
    "\n",
    "(Maybe removal of normal type would help to have better results?)"
   ]
  },
  {
   "cell_type": "markdown",
   "metadata": {
    "id": "b17I_WoP0eSE"
   },
   "source": [
    "### Hints:\n",
    "\n",
    "* On total you can get 10 points for fully completing all tasks.\n",
    "* Decorate your notebook with, questions, explanation etc, make it self contained and understandable!\n",
    "* Comments you code when necessary\n",
    "* Write functions for repetitive tasks!\n",
    "* Use the pandas package for data loading and handling\n",
    "* Use matplotlib and seaborn for plotting or bokeh and plotly for interactive investigation\n",
    "* Use the scikit learn package for almost everything\n",
    "* Use for loops only if it is really necessary!\n",
    "* Code sharing is not allowed between student! Sharing code will result in zero points.\n",
    "* If you use code found on web, it is OK, but, make its source clear!"
   ]
  },
  {
   "cell_type": "code",
   "execution_count": null,
   "metadata": {
    "id": "inzU96ff1CV1"
   },
   "outputs": [],
   "source": []
  }
 ],
 "metadata": {
  "colab": {
   "authorship_tag": "ABX9TyNDWdNEa3X4meGwV4cb9zN1",
   "collapsed_sections": [],
   "include_colab_link": true,
   "name": "HW5_raw.ipynb",
   "provenance": []
  },
  "kernelspec": {
   "display_name": "Python 3",
   "language": "python",
   "name": "python3"
  },
  "language_info": {
   "codemirror_mode": {
    "name": "ipython",
    "version": 3
   },
   "file_extension": ".py",
   "mimetype": "text/x-python",
   "name": "python",
   "nbconvert_exporter": "python",
   "pygments_lexer": "ipython3",
   "version": "3.7.4"
  }
 },
 "nbformat": 4,
 "nbformat_minor": 1
}
